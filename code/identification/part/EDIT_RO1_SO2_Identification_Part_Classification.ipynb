{
  "cells": [
    {
      "cell_type": "markdown",
      "metadata": {
        "id": "view-in-github",
        "colab_type": "text"
      },
      "source": [
        "<a href=\"https://colab.research.google.com/github/woodRock/fishy-business/blob/main/code/identification/part/EDIT_RO1_SO2_Identification_Part_Classification.ipynb\" target=\"_parent\"><img src=\"https://colab.research.google.com/assets/colab-badge.svg\" alt=\"Open In Colab\"/></a>"
      ]
    },
    {
      "cell_type": "markdown",
      "source": [
        "# Research objective - Identification, Sub-objective - Species\n",
        "\n",
        "This notebook contributes to the first research objective - fish identification. It addresses the first sub-objective - mutli-class classification of fish species.\n",
        "\n",
        "## Classification methods\n",
        "\n",
        "This notebook explores traditional machine learning methods for the fish species binary classification task, to elucidate suitable techniques for application in this task."
      ],
      "metadata": {
        "id": "cUOcHIiH5z88"
      }
    },
    {
      "cell_type": "code",
      "execution_count": 1,
      "metadata": {
        "colab": {
          "base_uri": "https://localhost:8080/"
        },
        "id": "lOF5V8spkFO9",
        "outputId": "b392498d-2df8-4d8a-846c-11c97ff851e7"
      },
      "outputs": [
        {
          "output_type": "stream",
          "name": "stdout",
          "text": [
            "Collecting skfeature-chappers\n",
            "  Downloading skfeature_chappers-1.1.0-py3-none-any.whl (66 kB)\n",
            "\u001b[?25l     \u001b[90m━━━━━━━━━━━━━━━━━━━━━━━━━━━━━━━━━━━━━━━━\u001b[0m \u001b[32m0.0/66.3 kB\u001b[0m \u001b[31m?\u001b[0m eta \u001b[36m-:--:--\u001b[0m\r\u001b[2K     \u001b[90m━━━━━━━━━━━━━━━━━━━━━━━━━━━━━━━━━━━━━━━━\u001b[0m \u001b[32m66.3/66.3 kB\u001b[0m \u001b[31m2.1 MB/s\u001b[0m eta \u001b[36m0:00:00\u001b[0m\n",
            "\u001b[?25hRequirement already satisfied: scikit-learn in /usr/local/lib/python3.10/dist-packages (from skfeature-chappers) (1.2.2)\n",
            "Requirement already satisfied: pandas in /usr/local/lib/python3.10/dist-packages (from skfeature-chappers) (1.5.3)\n",
            "Requirement already satisfied: numpy in /usr/local/lib/python3.10/dist-packages (from skfeature-chappers) (1.25.2)\n",
            "Requirement already satisfied: python-dateutil>=2.8.1 in /usr/local/lib/python3.10/dist-packages (from pandas->skfeature-chappers) (2.8.2)\n",
            "Requirement already satisfied: pytz>=2020.1 in /usr/local/lib/python3.10/dist-packages (from pandas->skfeature-chappers) (2023.4)\n",
            "Requirement already satisfied: scipy>=1.3.2 in /usr/local/lib/python3.10/dist-packages (from scikit-learn->skfeature-chappers) (1.11.4)\n",
            "Requirement already satisfied: joblib>=1.1.1 in /usr/local/lib/python3.10/dist-packages (from scikit-learn->skfeature-chappers) (1.3.2)\n",
            "Requirement already satisfied: threadpoolctl>=2.0.0 in /usr/local/lib/python3.10/dist-packages (from scikit-learn->skfeature-chappers) (3.2.0)\n",
            "Requirement already satisfied: six>=1.5 in /usr/local/lib/python3.10/dist-packages (from python-dateutil>=2.8.1->pandas->skfeature-chappers) (1.16.0)\n",
            "Installing collected packages: skfeature-chappers\n",
            "Successfully installed skfeature-chappers-1.1.0\n"
          ]
        }
      ],
      "source": [
        "!pip install skfeature-chappers"
      ]
    },
    {
      "cell_type": "code",
      "execution_count": 2,
      "metadata": {
        "id": "N0MTzt4gjyr-"
      },
      "outputs": [],
      "source": [
        "import scipy.io\n",
        "import numpy as np\n",
        "import matplotlib.pyplot as plt\n",
        "import seaborn as sns\n",
        "from tqdm import tqdm\n",
        "\n",
        "import warnings\n",
        "warnings.filterwarnings(\"ignore\")"
      ]
    },
    {
      "cell_type": "code",
      "execution_count": 3,
      "metadata": {
        "id": "H9HnqXEN83Ku"
      },
      "outputs": [],
      "source": [
        "run = 1\n",
        "seed = 1617 * run\n",
        "np.random.seed(seed)"
      ]
    },
    {
      "cell_type": "code",
      "execution_count": 4,
      "metadata": {
        "id": "ao4c5MMgkVjn",
        "colab": {
          "base_uri": "https://localhost:8080/"
        },
        "outputId": "66c741c9-b04d-45ad-94cf-c127c6b957f9"
      },
      "outputs": [
        {
          "output_type": "stream",
          "name": "stdout",
          "text": [
            "Mounted at /content/drive\n",
            "[INFO] Reading the dataset.\n"
          ]
        }
      ],
      "source": [
        "from google.colab import drive\n",
        "drive.mount('/content/drive')\n",
        "import os\n",
        "os.listdir('/content/drive/My Drive')\n",
        "\n",
        "import pandas as pd\n",
        "import matplotlib.pyplot as plt\n",
        "import matplotlib.ticker as ticker\n",
        "\n",
        "path = ['drive', 'MyDrive', 'AI', 'fish', 'REIMS_data.xlsx']\n",
        "path = os.path.join(*path)\n",
        "\n",
        "# Load the dataset\n",
        "data = pd.read_excel(path)\n",
        "\n",
        "print(\"[INFO] Reading the dataset.\")\n",
        "raw = pd.read_excel(path)\n",
        "\n",
        "data = raw[~raw['m/z'].str.contains('HM')]\n",
        "data = data[~data['m/z'].str.contains('QC')]\n",
        "data = data[~data['m/z'].str.contains('HM')]\n",
        "X = data.drop('m/z', axis=1) # X contains only the features.\n",
        "# y = data['m/z'].apply(lambda x:\n",
        "#                           [1,0,0,0,0,0] if 'Fillet' in x\n",
        "#                     else ([0,1,0,0,0,0] if 'Heads' in x\n",
        "#                     else ([0,0,1,0,0,0] if 'Livers' in x\n",
        "#                     else ([0,0,0,1,0,0] if 'Skins' in x\n",
        "#                     else ([0,0,0,0,1,0] if 'Guts' in x\n",
        "#                     else ([0,0,0,0,0,1] if 'Frames' in x\n",
        "#                     else None ))))))  # Labels for fish parts\n",
        "y = data['m/z'].apply(lambda x:\n",
        "                          0 if 'Fillet' in x\n",
        "                    else  1 if 'Heads' in x\n",
        "                    else (2 if 'Livers' in x\n",
        "                    else (3 if 'Skins' in x\n",
        "                    else (4 if 'Guts' in x\n",
        "                    else (5 if 'Frames' in x\n",
        "                    else None )))))  # For fish parts\n",
        "xs = []\n",
        "ys = []\n",
        "for (x,y) in zip(X.to_numpy(),y):\n",
        "    if y is not None and not np.isnan(y):\n",
        "       xs.append(x)\n",
        "       ys.append(y)\n",
        "X = np.array(xs)\n",
        "y = np.array(ys)"
      ]
    },
    {
      "cell_type": "code",
      "source": [
        "np.unique(y)"
      ],
      "metadata": {
        "colab": {
          "base_uri": "https://localhost:8080/"
        },
        "id": "5PBFM_2Qp7Ry",
        "outputId": "dbbb9482-ace7-49cf-e82a-60d62b599cd2"
      },
      "execution_count": 5,
      "outputs": [
        {
          "output_type": "execute_result",
          "data": {
            "text/plain": [
              "array([0., 1., 2., 3., 4., 5.])"
            ]
          },
          "metadata": {},
          "execution_count": 5
        }
      ]
    },
    {
      "cell_type": "code",
      "source": [
        "X.shape"
      ],
      "metadata": {
        "id": "jFuJIWb6kZds",
        "outputId": "34474fa8-ae2a-4a47-ebba-76071fed5501",
        "colab": {
          "base_uri": "https://localhost:8080/"
        }
      },
      "execution_count": 6,
      "outputs": [
        {
          "output_type": "execute_result",
          "data": {
            "text/plain": [
              "(30, 1023)"
            ]
          },
          "metadata": {},
          "execution_count": 6
        }
      ]
    },
    {
      "cell_type": "code",
      "execution_count": 7,
      "metadata": {
        "id": "MXsdessAyP3K"
      },
      "outputs": [],
      "source": [
        "from prettytable import PrettyTable\n",
        "\n",
        "def show_results(results, label='Technique'):\n",
        "    table = PrettyTable([label, 'Train Mean', 'Train Std', 'Test Mean', 'Test Std'])\n",
        "\n",
        "    for name, result in results.items():\n",
        "        train, test = list(zip(*result))\n",
        "        vals = [np.mean(train), np.std(train), np.mean(test), np.std(test)]\n",
        "        row = ['%.4f' % elem for elem in vals ]\n",
        "        table.add_row(np.concatenate([[name], row]))\n",
        "\n",
        "    print('\\n') # tqdm messses with table border.\n",
        "    print(table)\n",
        "\n",
        "def boxplot_results(results):\n",
        "    # Convert the dictionary to a DataFrame for Seaborn\n",
        "    data = {'Technique': [], 'Accuracy': [], 'Set': []}\n",
        "\n",
        "    for technique, runs in results.items():\n",
        "        train, test = zip(*runs)\n",
        "        for run in range(1, 31):  # 30 runs\n",
        "            data['Technique'].append(technique)\n",
        "            data['Accuracy'].append(train[run - 1])\n",
        "            data['Set'].append('Train')\n",
        "\n",
        "            data['Technique'].append(technique)\n",
        "            data['Accuracy'].append(test[run - 1])\n",
        "            data['Set'].append('Test')\n",
        "\n",
        "    df = pd.DataFrame(data)\n",
        "\n",
        "    # Create a box and whisker plot using Seaborn\n",
        "    plt.figure(figsize=(12, 8))\n",
        "    sns.set(style=\"whitegrid\")\n",
        "    sns.boxplot(x='Technique', y='Accuracy', hue='Set', data=df, width=0.6, palette=\"Set3\")\n",
        "    plt.title('Box and Whisker Plot of Train and Test Accuracies (30 runs each)')\n",
        "    plt.ylabel('Accuracy')\n",
        "    plt.xlabel('Technique')\n",
        "    plt.legend(title='Set')\n",
        "    plt.show()"
      ]
    },
    {
      "cell_type": "code",
      "execution_count": 8,
      "metadata": {
        "id": "ipKupS0pkkyL"
      },
      "outputs": [],
      "source": [
        "# from sklearn.preprocessing import MinMaxScaler\n",
        "\n",
        "# from skfeature.function.similarity_based import reliefF\n",
        "# from skfeature.function.information_theoretical_based import MRMR\n",
        "# from sklearn.feature_selection import chi2\n",
        "# from sklearn.feature_selection import SelectKBest\n",
        "# from sklearn.model_selection import StratifiedKFold\n",
        "# from sklearn.svm import LinearSVC as svm\n",
        "# from sklearn.metrics import balanced_accuracy_score\n",
        "\n",
        "# def normalize(X_train, X_test):\n",
        "#     scaler = MinMaxScaler(feature_range=(0, 1))\n",
        "#     scaler = scaler.fit(X_train)\n",
        "#     X_train = scaler.transform(X_train)\n",
        "#     X_test = scaler.transform(X_test)\n",
        "#     return X_train, X_test\n",
        "\n",
        "# runs=30\n",
        "# methods = { \"reliefF\" : reliefF.reliefF, \"mrmr\": MRMR.mrmr, \"chi2\": chi2 } #, \"pso\": pso}\n",
        "# results = { \"reliefF\" : [], \"mrmr\": [], \"chi2\": [] }# , \"pso\": []}\n",
        "# penalty = 'l1'\n",
        "\n",
        "# for i in tqdm(range(runs)):\n",
        "#     for name, fs_method in methods.items():\n",
        "#         train_accs = []\n",
        "#         test_accs = []\n",
        "#         skf = StratifiedKFold(n_splits=10, random_state=1234, shuffle=True)\n",
        "\n",
        "#         for train, test in skf.split(X, y):\n",
        "#             X_train, X_test = (X[train], X[test])\n",
        "#             y_train, y_test = y[train], y[test]\n",
        "#             X_train, X_test = normalize(X_train, X_test)\n",
        "\n",
        "#             fs = SelectKBest(fs_method, k=500)\n",
        "#             X_train = fs.fit_transform(X_train, y_train)\n",
        "#             X_test = fs.transform(X_test)\n",
        "\n",
        "#             model = svm(penalty='l1', dual=(penalty=='l2'), max_iter=10_000)\n",
        "#             clf = model.fit(X_train, y_train)\n",
        "\n",
        "#             y_predict = model.predict(X_train)\n",
        "#             train_acc = balanced_accuracy_score(y_train, y_predict)\n",
        "#             train_accs.append(train_acc)\n",
        "#             y_predict = model.predict(X_test)\n",
        "#             test_acc = balanced_accuracy_score(y_test, y_predict)\n",
        "#             test_accs.append(test_acc)\n",
        "\n",
        "#             results[name].append((train_acc, test_acc))\n",
        "\n",
        "# show_results(results, label='FS Method')"
      ]
    },
    {
      "cell_type": "code",
      "execution_count": 12,
      "metadata": {
        "id": "Q0-gHMfj-YJs",
        "colab": {
          "base_uri": "https://localhost:8080/",
          "height": 970
        },
        "outputId": "5cf99e8f-f5b4-4014-b80f-c6c9b844151c"
      },
      "outputs": [
        {
          "output_type": "stream",
          "name": "stderr",
          "text": [
            "100%|██████████| 30/30 [01:31<00:00,  3.05s/it]\n"
          ]
        },
        {
          "output_type": "stream",
          "name": "stdout",
          "text": [
            "\n",
            "\n",
            "+------------+------------+-----------+-----------+----------+\n",
            "| Classifier | Train Mean | Train Std | Test Mean | Test Std |\n",
            "+------------+------------+-----------+-----------+----------+\n",
            "|    knn     |   0.5761   |   0.0703  |   0.3817  |  0.1990  |\n",
            "|     rf     |   1.0000   |   0.0000  |   0.4914  |  0.1604  |\n",
            "|     dt     |   1.0000   |   0.0000  |   0.3457  |  0.1825  |\n",
            "|     nb     |   1.0000   |   0.0000  |   0.4012  |  0.1291  |\n",
            "|    svm     |   1.0000   |   0.0000  |   0.6345  |  0.1562  |\n",
            "|    lda     |   0.7532   |   0.0407  |   0.4934  |  0.1678  |\n",
            "|    xgb     |   1.0000   |   0.0000  |   0.3382  |  0.1774  |\n",
            "+------------+------------+-----------+-----------+----------+\n"
          ]
        },
        {
          "output_type": "display_data",
          "data": {
            "text/plain": [
              "<Figure size 1200x800 with 1 Axes>"
            ],
            "image/png": "[encoded data removed]"
          },
          "metadata": {}
        }
      ],
      "source": [
        "from sklearn.model_selection import StratifiedKFold\n",
        "from sklearn.preprocessing import MinMaxScaler\n",
        "from sklearn.neighbors import KNeighborsClassifier as knn\n",
        "from sklearn.svm import LinearSVC as svm\n",
        "from sklearn.ensemble import RandomForestClassifier as rf\n",
        "from sklearn.tree import DecisionTreeClassifier as dt\n",
        "from sklearn.naive_bayes import GaussianNB as nb\n",
        "from sklearn.discriminant_analysis import LinearDiscriminantAnalysis as lda\n",
        "from xgboost import XGBClassifier as xgb\n",
        "from sklearn.metrics import balanced_accuracy_score\n",
        "\n",
        "def normalize(X_train, X_test):\n",
        "    scaler = MinMaxScaler(feature_range=(0, 1))\n",
        "    scaler = scaler.fit(X_train)\n",
        "    X_train = scaler.transform(X_train)\n",
        "    X_test = scaler.transform(X_test)\n",
        "    return X_train, X_test\n",
        "\n",
        "models = {'knn': knn, 'rf': rf, 'dt': dt, 'nb': nb, 'svm': svm, 'lda': lda, 'xgb': xgb}\n",
        "results = {'knn': [], 'rf': [], 'dt': [], 'nb': [],'svm': [], 'lda': [], 'xgb': []}\n",
        "\n",
        "for _ in tqdm(range(30)):\n",
        "    # skf = StratifiedKFold(n_splits=5, random_state=1234, shuffle=True)\n",
        "    skf = StratifiedKFold(n_splits=5, shuffle=True)\n",
        "    for train, test in skf.split(X, y):\n",
        "        X_train, X_test = (X[train], X[test])\n",
        "        y_train, y_test = y[train], y[test]\n",
        "        X_train, X_test = normalize(X_train, X_test)\n",
        "\n",
        "        for name, model in  models.items():\n",
        "            model = model()\n",
        "            clf = model.fit(X_train, y_train)\n",
        "            y_predict = model.predict(X_train)\n",
        "            train_acc = balanced_accuracy_score(y_train, y_predict)\n",
        "            y_predict = model.predict(X_test)\n",
        "            test_acc = balanced_accuracy_score(y_test, y_predict)\n",
        "            results[name].append((train_acc, test_acc))\n",
        "\n",
        "show_results(results, label='Classifier')\n",
        "boxplot_results(results)"
      ]
    },
    {
      "cell_type": "code",
      "execution_count": null,
      "metadata": {
        "id": "C_GTnOSzBuGv"
      },
      "outputs": [],
      "source": [
        "from sklearn.model_selection import StratifiedKFold\n",
        "from sklearn.svm import SVC as svc\n",
        "from sklearn.svm import LinearSVC as lsvc\n",
        "from sklearn.svm import NuSVC as nusvc\n",
        "from sklearn.svm import LinearSVR as lsvr\n",
        "\n",
        "models = {'svc': svc, 'nusvc': nusvc, 'lsvc': lsvc,}\n",
        "results = {'svc': [], 'nusvc': [], 'lsvc': []}\n",
        "\n",
        "for _ in tqdm(range(30)):\n",
        "    skf = StratifiedKFold(n_splits=5, random_state=1234, shuffle=True)\n",
        "    for train, test in skf.split(X, y):\n",
        "        X_train, X_test = (X[train], X[test])\n",
        "        y_train, y_test = y[train], y[test]\n",
        "        X_train, X_test = normalize(X_train, X_test)\n",
        "\n",
        "        for name, model in  models.items():\n",
        "            model = model()\n",
        "            clf = model.fit(X_train, y_train)\n",
        "            y_predict = model.predict(X_train)\n",
        "            train_acc = balanced_accuracy_score(y_train, y_predict)\n",
        "            y_predict = model.predict(X_test)\n",
        "            test_acc = balanced_accuracy_score(y_test, y_predict)\n",
        "            results[name].append((train_acc, test_acc))\n",
        "\n",
        "show_results(results, label='SVM Type')\n",
        "boxplot_results(results)"
      ]
    },
    {
      "cell_type": "code",
      "execution_count": null,
      "metadata": {
        "id": "fMdHOze2DtS7"
      },
      "outputs": [],
      "source": [
        "from sklearn.model_selection import StratifiedKFold\n",
        "from sklearn.svm import SVC as svm\n",
        "\n",
        "kernels = ['poly', 'rbf', 'sigmoid', 'linear']\n",
        "results = {'poly': [], 'rbf': [], 'sigmoid': [], 'linear': []}\n",
        "\n",
        "for _ in tqdm(range(30)):\n",
        "    skf = StratifiedKFold(n_splits=5, random_state=1234, shuffle=True)\n",
        "    for train, test in skf.split(X, y):\n",
        "        X_train, X_test = (X[train], X[test])\n",
        "        y_train, y_test = y[train], y[test]\n",
        "        X_train, X_test = normalize(X_train, X_test)\n",
        "\n",
        "        for kernel in kernels:\n",
        "            model = svm(kernel=kernel)\n",
        "            clf = model.fit(X_train, y_train)\n",
        "            y_predict = model.predict(X_train)\n",
        "            train_acc = balanced_accuracy_score(y_train, y_predict)\n",
        "            y_predict = model.predict(X_test)\n",
        "            test_acc = balanced_accuracy_score(y_test, y_predict)\n",
        "            results[kernel].append((train_acc, test_acc))\n",
        "\n",
        "show_results(results, label='kernel')\n",
        "boxplot_results(results)"
      ]
    },
    {
      "cell_type": "code",
      "source": [
        "import torch\n",
        "import numpy as np\n",
        "import torch.nn.functional as F\n",
        "from sklearn.model_selection import train_test_split\n",
        "from torch.utils.data import DataLoader, Dataset\n",
        "from sklearn.discriminant_analysis import LinearDiscriminantAnalysis as lda\n",
        "\n",
        "print(\"[INFO] Reading the dataset.\")\n",
        "raw = pd.read_excel(path)\n",
        "\n",
        "data = raw[~raw['m/z'].str.contains('HM')]\n",
        "data = data[~data['m/z'].str.contains('QC')]\n",
        "data = data[~data['m/z'].str.contains('HM')]\n",
        "X = data.drop('m/z', axis=1) # X contains only the features.\n",
        "# y = data['m/z'].apply(lambda x:\n",
        "#                           [1,0,0,0,0,0] if 'Fillet' in x\n",
        "#                     else ([0,1,0,0,0,0] if 'Heads' in x\n",
        "#                     else ([0,0,1,0,0,0] if 'Livers' in x\n",
        "#                     else ([0,0,0,1,0,0] if 'Skins' in x\n",
        "#                     else ([0,0,0,0,1,0] if 'Guts' in x\n",
        "#                     else ([0,0,0,0,0,1] if 'Frames' in x\n",
        "#                     else None ))))))  # Labels for fish parts\n",
        "y = data['m/z'].apply(lambda x:\n",
        "                          0 if 'Fillet' in x\n",
        "                    else  1 if 'Heads' in x\n",
        "                    else (2 if 'Livers' in x\n",
        "                    else (3 if 'Skins' in x\n",
        "                    else (4 if 'Guts' in x\n",
        "                    else (5 if 'Frames' in x\n",
        "                    else None )))))  # For fish parts\n",
        "xs = []\n",
        "ys = []\n",
        "for (x,y) in zip(X.to_numpy(),y):\n",
        "    if y is not None and not np.isnan(y):\n",
        "       xs.append(x)\n",
        "       ys.append(y)\n",
        "X = np.array(xs)\n",
        "y = np.array(ys)\n",
        "\n",
        "# Evaluation parameters.\n",
        "train_split = 0.8\n",
        "val_split = 0.5 # 1/2 of 20%, validation and test, 10% and 10%, respectively.\n",
        "# print(f\"[DEBUG] train_split, val_split, test_split: ({train_split},{val_split},{test_split})\")\n",
        "\n",
        "# Step 2: Split your dataset into training, validation, and testing sets\n",
        "\n",
        "models = {'knn': knn, 'rf': rf, 'dt': dt, 'nb': nb, 'svm': svm, 'lda': lda, 'xgb': xgb}\n",
        "results = {'knn': [], 'rf': [], 'dt': [], 'nb': [],'svm': [], 'lda': [], 'xgb': []}\n",
        "\n",
        "for _ in tqdm(range(30)):\n",
        "    X_train, X_temp, y_train, y_temp = train_test_split(X, y, test_size=(1-train_split))#, random_state=42)\n",
        "    X_val, X_test, y_val, y_test = train_test_split(X_temp, y_temp, test_size=val_split)#, random_state=42)\n",
        "    for name, model in  models.items():\n",
        "        model = model()\n",
        "        clf = model.fit(X_train, y_train)\n",
        "        y_predict = model.predict(X_train)\n",
        "        train_acc = balanced_accuracy_score(y_train, y_predict)\n",
        "        y_predict = model.predict(X_test)\n",
        "        test_acc = balanced_accuracy_score(y_test, y_predict)\n",
        "        results[name].append((train_acc, test_acc))\n",
        "\n",
        "show_results(results, label='Classifier')\n",
        "boxplot_results(results)"
      ],
      "metadata": {
        "id": "L_Qk4g7lMrAZ"
      },
      "execution_count": null,
      "outputs": []
    }
  ],
  "metadata": {
    "colab": {
      "machine_shape": "hm",
      "provenance": [],
      "authorship_tag": "ABX9TyMJgf528DavaFeIpH+3sb57",
      "include_colab_link": true
    },
    "kernelspec": {
      "display_name": "Python 3",
      "name": "python3"
    },
    "language_info": {
      "name": "python"
    },
    "accelerator": "GPU"
  },
  "nbformat": 4,
  "nbformat_minor": 0
}