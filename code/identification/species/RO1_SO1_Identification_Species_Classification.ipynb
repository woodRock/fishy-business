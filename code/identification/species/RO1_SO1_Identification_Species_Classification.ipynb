{
  "cells": [
    {
      "cell_type": "markdown",
      "metadata": {
        "id": "view-in-github",
        "colab_type": "text"
      },
      "source": [
        "<a href=\"https://colab.research.google.com/github/woodRock/fishy-business/blob/main/code/identification/species/RO1_SO1_Identification_Species_Classification.ipynb\" target=\"_parent\"><img src=\"https://colab.research.google.com/assets/colab-badge.svg\" alt=\"Open In Colab\"/></a>"
      ]
    },
    {
      "cell_type": "markdown",
      "source": [
        "# Research objective - Identification, Sub-objective - Species\n",
        "\n",
        "This notebook contributes to the first research objective - fish identification. It addresses the first sub-objective - mutli-class classification of fish species.\n",
        "\n",
        "## Classification methods\n",
        "\n",
        "This notebook explores traditional machine learning methods for the fish species binary classification task, to elucidate suitable techniques for application in this task."
      ],
      "metadata": {
        "id": "cUOcHIiH5z88"
      }
    },
    {
      "cell_type": "code",
      "execution_count": null,
      "metadata": {
        "colab": {
          "base_uri": "https://localhost:8080/"
        },
        "id": "lOF5V8spkFO9",
        "outputId": "33443035-f7ec-478e-8354-5cb613cf43b9"
      },
      "outputs": [
        {
          "output_type": "stream",
          "name": "stdout",
          "text": [
            "Collecting skfeature-chappers\n",
            "  Downloading skfeature_chappers-1.1.0-py3-none-any.whl (66 kB)\n",
            "\u001b[?25l\r\u001b[K     |█████                           | 10 kB 27.7 MB/s eta 0:00:01\r\u001b[K     |█████████▉                      | 20 kB 24.9 MB/s eta 0:00:01\r\u001b[K     |██████████████▉                 | 30 kB 17.5 MB/s eta 0:00:01\r\u001b[K     |███████████████████▊            | 40 kB 15.2 MB/s eta 0:00:01\r\u001b[K     |████████████████████████▊       | 51 kB 7.2 MB/s eta 0:00:01\r\u001b[K     |█████████████████████████████▋  | 61 kB 8.4 MB/s eta 0:00:01\r\u001b[K     |████████████████████████████████| 66 kB 3.0 MB/s \n",
            "\u001b[?25hRequirement already satisfied: pandas in /usr/local/lib/python3.7/dist-packages (from skfeature-chappers) (1.1.5)\n",
            "Requirement already satisfied: numpy in /usr/local/lib/python3.7/dist-packages (from skfeature-chappers) (1.19.5)\n",
            "Requirement already satisfied: scikit-learn in /usr/local/lib/python3.7/dist-packages (from skfeature-chappers) (1.0.1)\n",
            "Requirement already satisfied: pytz>=2017.2 in /usr/local/lib/python3.7/dist-packages (from pandas->skfeature-chappers) (2018.9)\n",
            "Requirement already satisfied: python-dateutil>=2.7.3 in /usr/local/lib/python3.7/dist-packages (from pandas->skfeature-chappers) (2.8.2)\n",
            "Requirement already satisfied: six>=1.5 in /usr/local/lib/python3.7/dist-packages (from python-dateutil>=2.7.3->pandas->skfeature-chappers) (1.15.0)\n",
            "Requirement already satisfied: scipy>=1.1.0 in /usr/local/lib/python3.7/dist-packages (from scikit-learn->skfeature-chappers) (1.4.1)\n",
            "Requirement already satisfied: joblib>=0.11 in /usr/local/lib/python3.7/dist-packages (from scikit-learn->skfeature-chappers) (1.1.0)\n",
            "Requirement already satisfied: threadpoolctl>=2.0.0 in /usr/local/lib/python3.7/dist-packages (from scikit-learn->skfeature-chappers) (3.0.0)\n",
            "Installing collected packages: skfeature-chappers\n",
            "Successfully installed skfeature-chappers-1.1.0\n"
          ]
        }
      ],
      "source": [
        "!pip install skfeature-chappers"
      ]
    },
    {
      "cell_type": "code",
      "execution_count": null,
      "metadata": {
        "id": "N0MTzt4gjyr-"
      },
      "outputs": [],
      "source": [
        "import scipy.io\n",
        "import numpy as np\n",
        "import matplotlib.pyplot as plt\n",
        "import seaborn as sns\n",
        "from tqdm import tqdm\n",
        "\n",
        "import warnings\n",
        "warnings.filterwarnings(\"ignore\")"
      ]
    },
    {
      "cell_type": "code",
      "execution_count": null,
      "metadata": {
        "id": "H9HnqXEN83Ku"
      },
      "outputs": [],
      "source": [
        "run = 1\n",
        "seed = 1617 * run\n",
        "np.random.seed(seed)"
      ]
    },
    {
      "cell_type": "code",
      "execution_count": null,
      "metadata": {
        "id": "ao4c5MMgkVjn",
        "colab": {
          "base_uri": "https://localhost:8080/"
        },
        "outputId": "0996de96-ec7b-4087-e103-eae4301e61e7"
      },
      "outputs": [
        {
          "output_type": "stream",
          "name": "stdout",
          "text": [
            "Mounted at /content/drive\n",
            "[INFO] Reading the dataset.\n"
          ]
        }
      ],
      "source": [
        "from google.colab import drive\n",
        "drive.mount('/content/drive')\n",
        "import os\n",
        "os.listdir('/content/drive/My Drive')\n",
        "\n",
        "import pandas as pd\n",
        "import matplotlib.pyplot as plt\n",
        "import matplotlib.ticker as ticker\n",
        "\n",
        "path = ['drive', 'MyDrive', 'AI', 'fish', 'REIMS_data.xlsx']\n",
        "path = os.path.join(*path)\n",
        "\n",
        "# Load the dataset\n",
        "data = pd.read_excel(path)\n",
        "\n",
        "print(\"[INFO] Reading the dataset.\")\n",
        "raw = pd.read_excel(path)\n",
        "\n",
        "data = raw[~raw['m/z'].str.contains('HM')]\n",
        "data = data[~data['m/z'].str.contains('QC')]\n",
        "data = data[~data['m/z'].str.contains('HM')]\n",
        "X = data.drop('m/z', axis=1) # X contains only the features.\n",
        "# Binary encodings for class labels (1 for Hoki, 0 for Mackeral)\n",
        "y = data['m/z'].apply(lambda x: 1 if 'H' in x else 0)\n",
        "y = np.array(y)"
      ]
    },
    {
      "cell_type": "code",
      "source": [
        "X.shape"
      ],
      "metadata": {
        "id": "jFuJIWb6kZds",
        "outputId": "7f795978-96bf-41c4-da65-c9af43ebb815",
        "colab": {
          "base_uri": "https://localhost:8080/"
        }
      },
      "execution_count": null,
      "outputs": [
        {
          "output_type": "execute_result",
          "data": {
            "text/plain": [
              "(234, 1023)"
            ]
          },
          "metadata": {},
          "execution_count": 4
        }
      ]
    },
    {
      "cell_type": "code",
      "execution_count": null,
      "metadata": {
        "id": "MXsdessAyP3K"
      },
      "outputs": [],
      "source": [
        "from prettytable import PrettyTable\n",
        "\n",
        "def show_results(results, label='Technique'):\n",
        "    table = PrettyTable([label, 'Train Mean', 'Train Std', 'Test Mean', 'Test Std'])\n",
        "\n",
        "    for name, result in results.items():\n",
        "        train, test = list(zip(*result))\n",
        "        vals = [np.mean(train), np.std(train), np.mean(test), np.std(test)]\n",
        "        row = ['%.4f' % elem for elem in vals ]\n",
        "        table.add_row(np.concatenate([[name], row]))\n",
        "\n",
        "    print('\\n') # tqdm messses with table border.\n",
        "    print(table)"
      ]
    },
    {
      "cell_type": "code",
      "execution_count": null,
      "metadata": {
        "colab": {
          "base_uri": "https://localhost:8080/"
        },
        "id": "ipKupS0pkkyL",
        "outputId": "2675afd8-5ad2-4bdb-e600-f0a4bac7053d"
      },
      "outputs": [
        {
          "output_type": "stream",
          "name": "stderr",
          "text": [
            "100%|██████████| 30/30 [39:31<00:00, 79.06s/it]"
          ]
        },
        {
          "output_type": "stream",
          "name": "stdout",
          "text": [
            "\n",
            "\n",
            "+-----------+------------+-----------+-----------+----------+\n",
            "| FS Method | Train Mean | Train Std | Test Mean | Test Std |\n",
            "+-----------+------------+-----------+-----------+----------+\n",
            "|  reliefF  |   0.9782   |   0.0104  |   0.8028  |  0.0558  |\n",
            "|    mrmr   |   0.9744   |   0.0097  |   0.7879  |  0.1321  |\n",
            "|    chi2   |   0.9632   |   0.0088  |   0.6486  |  0.1901  |\n",
            "+-----------+------------+-----------+-----------+----------+\n"
          ]
        },
        {
          "output_type": "stream",
          "name": "stderr",
          "text": [
            "\n"
          ]
        }
      ],
      "source": [
        "# from sklearn.preprocessing import MinMaxScaler\n",
        "\n",
        "# from skfeature.function.similarity_based import reliefF\n",
        "# from skfeature.function.information_theoretical_based import MRMR\n",
        "# from sklearn.feature_selection import chi2\n",
        "# from sklearn.feature_selection import SelectKBest\n",
        "# from sklearn.model_selection import StratifiedKFold\n",
        "# from sklearn.svm import LinearSVC as svm\n",
        "# from sklearn.metrics import balanced_accuracy_score\n",
        "\n",
        "# def normalize(X_train, X_test):\n",
        "#     scaler = MinMaxScaler(feature_range=(0, 1))\n",
        "#     scaler = scaler.fit(X_train)\n",
        "#     X_train = scaler.transform(X_train)\n",
        "#     X_test = scaler.transform(X_test)\n",
        "#     return X_train, X_test\n",
        "\n",
        "# runs=30\n",
        "# methods = { \"reliefF\" : reliefF.reliefF, \"mrmr\": MRMR.mrmr, \"chi2\": chi2 } #, \"pso\": pso}\n",
        "# results = { \"reliefF\" : [], \"mrmr\": [], \"chi2\": [] }# , \"pso\": []}\n",
        "# penalty = 'l1'\n",
        "\n",
        "# for i in tqdm(range(runs)):\n",
        "#     for name, fs_method in methods.items():\n",
        "#         train_accs = []\n",
        "#         test_accs = []\n",
        "#         skf = StratifiedKFold(n_splits=10, random_state=1234, shuffle=True)\n",
        "\n",
        "#         for train, test in skf.split(X, y):\n",
        "#             X_train, X_test = (X[train], X[test])\n",
        "#             y_train, y_test = y[train], y[test]\n",
        "#             X_train, X_test = normalize(X_train, X_test)\n",
        "\n",
        "#             fs = SelectKBest(fs_method, k=500)\n",
        "#             X_train = fs.fit_transform(X_train, y_train)\n",
        "#             X_test = fs.transform(X_test)\n",
        "\n",
        "#             model = svm(penalty='l1', dual=(penalty=='l2'), max_iter=10_000)\n",
        "#             clf = model.fit(X_train, y_train)\n",
        "\n",
        "#             y_predict = model.predict(X_train)\n",
        "#             train_acc = balanced_accuracy_score(y_train, y_predict)\n",
        "#             train_accs.append(train_acc)\n",
        "#             y_predict = model.predict(X_test)\n",
        "#             test_acc = balanced_accuracy_score(y_test, y_predict)\n",
        "#             test_accs.append(test_acc)\n",
        "\n",
        "#             results[name].append((train_acc, test_acc))\n",
        "\n",
        "# show_results(results, label='FS Method')"
      ]
    },
    {
      "cell_type": "code",
      "execution_count": null,
      "metadata": {
        "id": "Q0-gHMfj-YJs",
        "colab": {
          "base_uri": "https://localhost:8080/"
        },
        "outputId": "d7812280-0f70-44ca-a61f-220c4173e248"
      },
      "outputs": [
        {
          "output_type": "stream",
          "name": "stderr",
          "text": [
            "100%|██████████| 30/30 [02:55<00:00,  5.84s/it]"
          ]
        },
        {
          "output_type": "stream",
          "name": "stdout",
          "text": [
            "\n",
            "\n",
            "+------------+------------+-----------+-----------+----------+\n",
            "| Classifier | Train Mean | Train Std | Test Mean | Test Std |\n",
            "+------------+------------+-----------+-----------+----------+\n",
            "|    knn     |   0.9689   |   0.0056  |   0.9422  |  0.0497  |\n",
            "|     rf     |   1.0000   |   0.0000  |   0.9872  |  0.0244  |\n",
            "|     dt     |   1.0000   |   0.0000  |   0.9942  |  0.0147  |\n",
            "|     nb     |   0.9316   |   0.0124  |   0.8926  |  0.0621  |\n",
            "|    svm     |   1.0000   |   0.0000  |   0.9913  |  0.0174  |\n",
            "+------------+------------+-----------+-----------+----------+\n"
          ]
        },
        {
          "output_type": "stream",
          "name": "stderr",
          "text": [
            "\n"
          ]
        }
      ],
      "source": [
        "from sklearn.model_selection import StratifiedKFold\n",
        "from sklearn.preprocessing import MinMaxScaler\n",
        "from sklearn.neighbors import KNeighborsClassifier as knn\n",
        "from sklearn.svm import LinearSVC as svm\n",
        "from sklearn.ensemble import RandomForestClassifier as rf\n",
        "from sklearn.tree import DecisionTreeClassifier as dt\n",
        "from sklearn.naive_bayes import GaussianNB as nb\n",
        "from sklearn.metrics import balanced_accuracy_score\n",
        "\n",
        "def normalize(X_train, X_test):\n",
        "    scaler = MinMaxScaler(feature_range=(0, 1))\n",
        "    scaler = scaler.fit(X_train)\n",
        "    X_train = scaler.transform(X_train)\n",
        "    X_test = scaler.transform(X_test)\n",
        "    return X_train, X_test\n",
        "\n",
        "models = {'knn': knn, 'rf': rf, 'dt': dt, 'nb': nb, 'svm': svm}\n",
        "results = {'knn': [], 'rf': [], 'dt': [], 'nb': [],'svm': []}\n",
        "\n",
        "for _ in tqdm(range(30)):\n",
        "    skf = StratifiedKFold(n_splits=10, random_state=1234, shuffle=True)\n",
        "    for train, test in skf.split(X, y):\n",
        "        X_train, X_test = (X.iloc[train], X.iloc[test])\n",
        "        y_train, y_test = y[train], y[test]\n",
        "        X_train, X_test = normalize(X_train, X_test)\n",
        "\n",
        "        for name, model in  models.items():\n",
        "            model = model()\n",
        "            clf = model.fit(X_train, y_train)\n",
        "            y_predict = model.predict(X_train)\n",
        "            train_acc = balanced_accuracy_score(y_train, y_predict)\n",
        "            y_predict = model.predict(X_test)\n",
        "            test_acc = balanced_accuracy_score(y_test, y_predict)\n",
        "            results[name].append((train_acc, test_acc))\n",
        "\n",
        "show_results(results, label='Classifier')"
      ]
    },
    {
      "cell_type": "code",
      "execution_count": null,
      "metadata": {
        "id": "C_GTnOSzBuGv",
        "colab": {
          "base_uri": "https://localhost:8080/"
        },
        "outputId": "f82b2d38-d65b-4505-c020-dbf0897e3a95"
      },
      "outputs": [
        {
          "output_type": "stream",
          "name": "stderr",
          "text": [
            "100%|██████████| 30/30 [16:12<00:00, 32.43s/it]"
          ]
        },
        {
          "output_type": "stream",
          "name": "stdout",
          "text": [
            "\n",
            "\n",
            "+----------+------------+-----------+-----------+----------+\n",
            "| SVM Type | Train Mean | Train Std | Test Mean | Test Std |\n",
            "+----------+------------+-----------+-----------+----------+\n",
            "|   svc    |   0.7325   |   0.0354  |   0.4903  |  0.1214  |\n",
            "|  nusvc   |   0.9031   |   0.0197  |   0.6236  |  0.1518  |\n",
            "|   lsvc   |   1.0000   |   0.0000  |   0.8714  |  0.0854  |\n",
            "+----------+------------+-----------+-----------+----------+\n"
          ]
        },
        {
          "output_type": "stream",
          "name": "stderr",
          "text": [
            "\n"
          ]
        }
      ],
      "source": [
        "from sklearn.model_selection import StratifiedKFold\n",
        "from sklearn.svm import SVC as svc\n",
        "from sklearn.svm import LinearSVC as lsvc\n",
        "from sklearn.svm import NuSVC as nusvc\n",
        "from sklearn.svm import LinearSVR as lsvr\n",
        "\n",
        "models = {'svc': svc, 'nusvc': nusvc, 'lsvc': lsvc,}\n",
        "results = {'svc': [], 'nusvc': [], 'lsvc': []}\n",
        "\n",
        "for _ in tqdm(range(30)):\n",
        "    skf = StratifiedKFold(n_splits=10, random_state=1234, shuffle=True)\n",
        "    for train, test in skf.split(X, y):\n",
        "        X_train, X_test = (X.iloc[train], X.iloc[test])\n",
        "        y_train, y_test = y[train], y[test]\n",
        "        X_train, X_test = normalize(X_train, X_test)\n",
        "\n",
        "        for name, model in  models.items():\n",
        "            model = model()\n",
        "            clf = model.fit(X_train, y_train)\n",
        "            y_predict = model.predict(X_train)\n",
        "            train_acc = balanced_accuracy_score(y_train, y_predict)\n",
        "            y_predict = model.predict(X_test)\n",
        "            test_acc = balanced_accuracy_score(y_test, y_predict)\n",
        "            results[name].append((train_acc, test_acc))\n",
        "\n",
        "show_results(results, label='SVM Type')"
      ]
    },
    {
      "cell_type": "code",
      "execution_count": null,
      "metadata": {
        "id": "fMdHOze2DtS7",
        "colab": {
          "base_uri": "https://localhost:8080/"
        },
        "outputId": "b7a29d72-5b70-437c-e7af-ca892d4572e5"
      },
      "outputs": [
        {
          "output_type": "stream",
          "name": "stderr",
          "text": [
            "100%|██████████| 30/30 [01:52<00:00,  3.74s/it]"
          ]
        },
        {
          "output_type": "stream",
          "name": "stdout",
          "text": [
            "\n",
            "\n",
            "+---------+------------+-----------+-----------+----------+\n",
            "|  kernel | Train Mean | Train Std | Test Mean | Test Std |\n",
            "+---------+------------+-----------+-----------+----------+\n",
            "|   poly  |   0.7063   |   0.0227  |   0.5389  |  0.0694  |\n",
            "|   rbf   |   0.7325   |   0.0354  |   0.4903  |  0.1214  |\n",
            "| sigmoid |   0.3747   |   0.0178  |   0.3347  |  0.0859  |\n",
            "|  linear |   1.0000   |   0.0000  |   0.8736  |  0.1077  |\n",
            "+---------+------------+-----------+-----------+----------+\n"
          ]
        },
        {
          "output_type": "stream",
          "name": "stderr",
          "text": [
            "\n"
          ]
        }
      ],
      "source": [
        "from sklearn.model_selection import StratifiedKFold\n",
        "from sklearn.svm import SVC as svm\n",
        "\n",
        "kernels = ['poly', 'rbf', 'sigmoid', 'linear']\n",
        "results = {'poly': [], 'rbf': [], 'sigmoid': [], 'linear': []}\n",
        "\n",
        "for _ in tqdm(range(30)):\n",
        "    for train, test in skf.split(X, y):\n",
        "        X_train, X_test = (X.iloc[train], X.iloc[test])\n",
        "        y_train, y_test = y[train], y[test]\n",
        "        X_train, X_test = normalize(X_train, X_test)\n",
        "\n",
        "        for kernel in kernels:\n",
        "            model = svm(kernel=kernel)\n",
        "            clf = model.fit(X_train, y_train)\n",
        "            y_predict = model.predict(X_train)\n",
        "            train_acc = balanced_accuracy_score(y_train, y_predict)\n",
        "            y_predict = model.predict(X_test)\n",
        "            test_acc = balanced_accuracy_score(y_test, y_predict)\n",
        "            results[kernel].append((train_acc, test_acc))\n",
        "\n",
        "show_results(results, label='kernel')"
      ]
    }
  ],
  "metadata": {
    "colab": {
      "machine_shape": "hm",
      "provenance": [],
      "authorship_tag": "ABX9TyOD9Z65GcJoYav3QXf+XJia",
      "include_colab_link": true
    },
    "kernelspec": {
      "display_name": "Python 3",
      "name": "python3"
    },
    "language_info": {
      "name": "python"
    },
    "accelerator": "GPU"
  },
  "nbformat": 4,
  "nbformat_minor": 0
}