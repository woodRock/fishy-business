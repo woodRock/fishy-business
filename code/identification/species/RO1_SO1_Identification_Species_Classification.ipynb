{
  "cells": [
    {
      "cell_type": "markdown",
      "metadata": {
        "id": "view-in-github",
        "colab_type": "text"
      },
      "source": [
        "<a href=\"https://colab.research.google.com/github/woodRock/fishy-business/blob/main/code/identification/species/RO1_SO1_Identification_Species_Classification.ipynb\" target=\"_parent\"><img src=\"https://colab.research.google.com/assets/colab-badge.svg\" alt=\"Open In Colab\"/></a>"
      ]
    },
    {
      "cell_type": "markdown",
      "source": [
        "# Research objective - Identification, Sub-objective - Species\n",
        "\n",
        "This notebook contributes to the first research objective - fish identification. It addresses the first sub-objective - mutli-class classification of fish species.\n",
        "\n",
        "## Classification methods\n",
        "\n",
        "This notebook explores traditional machine learning methods for the fish species binary classification task, to elucidate suitable techniques for application in this task."
      ],
      "metadata": {
        "id": "cUOcHIiH5z88"
      }
    },
    {
      "cell_type": "code",
      "execution_count": 1,
      "metadata": {
        "colab": {
          "base_uri": "https://localhost:8080/"
        },
        "id": "lOF5V8spkFO9",
        "outputId": "7c85d3dd-5137-48ac-e87c-8e25899b842f"
      },
      "outputs": [
        {
          "output_type": "stream",
          "name": "stdout",
          "text": [
            "Collecting skfeature-chappers\n",
            "  Downloading skfeature_chappers-1.1.0-py3-none-any.whl (66 kB)\n",
            "\u001b[?25l     \u001b[90m━━━━━━━━━━━━━━━━━━━━━━━━━━━━━━━━━━━━━━━━\u001b[0m \u001b[32m0.0/66.3 kB\u001b[0m \u001b[31m?\u001b[0m eta \u001b[36m-:--:--\u001b[0m\r\u001b[2K     \u001b[90m━━━━━━━━━━━━━━━━━━━━━━━━━━━━━━━━━━━━━━━━\u001b[0m \u001b[32m66.3/66.3 kB\u001b[0m \u001b[31m2.1 MB/s\u001b[0m eta \u001b[36m0:00:00\u001b[0m\n",
            "\u001b[?25hRequirement already satisfied: scikit-learn in /usr/local/lib/python3.10/dist-packages (from skfeature-chappers) (1.2.2)\n",
            "Requirement already satisfied: pandas in /usr/local/lib/python3.10/dist-packages (from skfeature-chappers) (1.5.3)\n",
            "Requirement already satisfied: numpy in /usr/local/lib/python3.10/dist-packages (from skfeature-chappers) (1.23.5)\n",
            "Requirement already satisfied: python-dateutil>=2.8.1 in /usr/local/lib/python3.10/dist-packages (from pandas->skfeature-chappers) (2.8.2)\n",
            "Requirement already satisfied: pytz>=2020.1 in /usr/local/lib/python3.10/dist-packages (from pandas->skfeature-chappers) (2023.3.post1)\n",
            "Requirement already satisfied: scipy>=1.3.2 in /usr/local/lib/python3.10/dist-packages (from scikit-learn->skfeature-chappers) (1.11.4)\n",
            "Requirement already satisfied: joblib>=1.1.1 in /usr/local/lib/python3.10/dist-packages (from scikit-learn->skfeature-chappers) (1.3.2)\n",
            "Requirement already satisfied: threadpoolctl>=2.0.0 in /usr/local/lib/python3.10/dist-packages (from scikit-learn->skfeature-chappers) (3.2.0)\n",
            "Requirement already satisfied: six>=1.5 in /usr/local/lib/python3.10/dist-packages (from python-dateutil>=2.8.1->pandas->skfeature-chappers) (1.16.0)\n",
            "Installing collected packages: skfeature-chappers\n",
            "Successfully installed skfeature-chappers-1.1.0\n"
          ]
        }
      ],
      "source": [
        "!pip install skfeature-chappers"
      ]
    },
    {
      "cell_type": "code",
      "execution_count": 2,
      "metadata": {
        "id": "N0MTzt4gjyr-"
      },
      "outputs": [],
      "source": [
        "import scipy.io\n",
        "import numpy as np\n",
        "import matplotlib.pyplot as plt\n",
        "import seaborn as sns\n",
        "from tqdm import tqdm\n",
        "\n",
        "import warnings\n",
        "warnings.filterwarnings(\"ignore\")"
      ]
    },
    {
      "cell_type": "code",
      "execution_count": 3,
      "metadata": {
        "id": "H9HnqXEN83Ku"
      },
      "outputs": [],
      "source": [
        "run = 1\n",
        "seed = 1617 * run\n",
        "np.random.seed(seed)"
      ]
    },
    {
      "cell_type": "code",
      "execution_count": 4,
      "metadata": {
        "id": "ao4c5MMgkVjn",
        "colab": {
          "base_uri": "https://localhost:8080/"
        },
        "outputId": "5ba0193d-f179-45a9-ed54-b248df7b55b5"
      },
      "outputs": [
        {
          "output_type": "stream",
          "name": "stdout",
          "text": [
            "Mounted at /content/drive\n",
            "[INFO] Reading the dataset.\n"
          ]
        }
      ],
      "source": [
        "from google.colab import drive\n",
        "drive.mount('/content/drive')\n",
        "import os\n",
        "os.listdir('/content/drive/My Drive')\n",
        "\n",
        "import pandas as pd\n",
        "import matplotlib.pyplot as plt\n",
        "import matplotlib.ticker as ticker\n",
        "\n",
        "path = ['drive', 'MyDrive', 'AI', 'fish', 'REIMS_data.xlsx']\n",
        "path = os.path.join(*path)\n",
        "\n",
        "# Load the dataset\n",
        "data = pd.read_excel(path)\n",
        "\n",
        "print(\"[INFO] Reading the dataset.\")\n",
        "raw = pd.read_excel(path)\n",
        "\n",
        "data = raw[~raw['m/z'].str.contains('HM')]\n",
        "data = data[~data['m/z'].str.contains('QC')]\n",
        "data = data[~data['m/z'].str.contains('HM')]\n",
        "X = data.drop('m/z', axis=1) # X contains only the features.\n",
        "# Binary encodings for class labels (1 for Hoki, 0 for Mackeral)\n",
        "y = data['m/z'].apply(lambda x: 1 if 'H' in x else 0)\n",
        "y = np.array(y)"
      ]
    },
    {
      "cell_type": "code",
      "source": [
        "X.shape"
      ],
      "metadata": {
        "id": "jFuJIWb6kZds",
        "outputId": "3be71272-d7d5-4fa4-ba47-58376eb4dfd7",
        "colab": {
          "base_uri": "https://localhost:8080/"
        }
      },
      "execution_count": 5,
      "outputs": [
        {
          "output_type": "execute_result",
          "data": {
            "text/plain": [
              "(234, 1023)"
            ]
          },
          "metadata": {},
          "execution_count": 5
        }
      ]
    },
    {
      "cell_type": "code",
      "execution_count": 6,
      "metadata": {
        "id": "MXsdessAyP3K"
      },
      "outputs": [],
      "source": [
        "from prettytable import PrettyTable\n",
        "\n",
        "def show_results(results, label='Technique'):\n",
        "    table = PrettyTable([label, 'Train Mean', 'Train Std', 'Test Mean', 'Test Std'])\n",
        "\n",
        "    for name, result in results.items():\n",
        "        train, test = list(zip(*result))\n",
        "        vals = [np.mean(train), np.std(train), np.mean(test), np.std(test)]\n",
        "        row = ['%.4f' % elem for elem in vals ]\n",
        "        table.add_row(np.concatenate([[name], row]))\n",
        "\n",
        "    print('\\n') # tqdm messses with table border.\n",
        "    print(table)"
      ]
    },
    {
      "cell_type": "code",
      "execution_count": 7,
      "metadata": {
        "id": "ipKupS0pkkyL"
      },
      "outputs": [],
      "source": [
        "# from sklearn.preprocessing import MinMaxScaler\n",
        "\n",
        "# from skfeature.function.similarity_based import reliefF\n",
        "# from skfeature.function.information_theoretical_based import MRMR\n",
        "# from sklearn.feature_selection import chi2\n",
        "# from sklearn.feature_selection import SelectKBest\n",
        "# from sklearn.model_selection import StratifiedKFold\n",
        "# from sklearn.svm import LinearSVC as svm\n",
        "# from sklearn.metrics import balanced_accuracy_score\n",
        "\n",
        "# def normalize(X_train, X_test):\n",
        "#     scaler = MinMaxScaler(feature_range=(0, 1))\n",
        "#     scaler = scaler.fit(X_train)\n",
        "#     X_train = scaler.transform(X_train)\n",
        "#     X_test = scaler.transform(X_test)\n",
        "#     return X_train, X_test\n",
        "\n",
        "# runs=30\n",
        "# methods = { \"reliefF\" : reliefF.reliefF, \"mrmr\": MRMR.mrmr, \"chi2\": chi2 } #, \"pso\": pso}\n",
        "# results = { \"reliefF\" : [], \"mrmr\": [], \"chi2\": [] }# , \"pso\": []}\n",
        "# penalty = 'l1'\n",
        "\n",
        "# for i in tqdm(range(runs)):\n",
        "#     for name, fs_method in methods.items():\n",
        "#         train_accs = []\n",
        "#         test_accs = []\n",
        "#         skf = StratifiedKFold(n_splits=10, random_state=1234, shuffle=True)\n",
        "\n",
        "#         for train, test in skf.split(X, y):\n",
        "#             X_train, X_test = (X[train], X[test])\n",
        "#             y_train, y_test = y[train], y[test]\n",
        "#             X_train, X_test = normalize(X_train, X_test)\n",
        "\n",
        "#             fs = SelectKBest(fs_method, k=500)\n",
        "#             X_train = fs.fit_transform(X_train, y_train)\n",
        "#             X_test = fs.transform(X_test)\n",
        "\n",
        "#             model = svm(penalty='l1', dual=(penalty=='l2'), max_iter=10_000)\n",
        "#             clf = model.fit(X_train, y_train)\n",
        "\n",
        "#             y_predict = model.predict(X_train)\n",
        "#             train_acc = balanced_accuracy_score(y_train, y_predict)\n",
        "#             train_accs.append(train_acc)\n",
        "#             y_predict = model.predict(X_test)\n",
        "#             test_acc = balanced_accuracy_score(y_test, y_predict)\n",
        "#             test_accs.append(test_acc)\n",
        "\n",
        "#             results[name].append((train_acc, test_acc))\n",
        "\n",
        "# show_results(results, label='FS Method')"
      ]
    },
    {
      "cell_type": "code",
      "execution_count": 8,
      "metadata": {
        "id": "Q0-gHMfj-YJs",
        "colab": {
          "base_uri": "https://localhost:8080/"
        },
        "outputId": "5c844a16-95d0-4276-8c2f-3e873c910cba"
      },
      "outputs": [
        {
          "output_type": "stream",
          "name": "stderr",
          "text": [
            "100%|██████████| 30/30 [02:50<00:00,  5.67s/it]"
          ]
        },
        {
          "output_type": "stream",
          "name": "stdout",
          "text": [
            "\n",
            "\n",
            "+------------+------------+-----------+-----------+----------+\n",
            "| Classifier | Train Mean | Train Std | Test Mean | Test Std |\n",
            "+------------+------------+-----------+-----------+----------+\n",
            "|    knn     |   0.9689   |   0.0056  |   0.9422  |  0.0497  |\n",
            "|     rf     |   1.0000   |   0.0000  |   0.9872  |  0.0244  |\n",
            "|     dt     |   1.0000   |   0.0000  |   0.9942  |  0.0147  |\n",
            "|     nb     |   0.9316   |   0.0124  |   0.8926  |  0.0621  |\n",
            "|    svm     |   1.0000   |   0.0000  |   0.9913  |  0.0174  |\n",
            "+------------+------------+-----------+-----------+----------+\n"
          ]
        },
        {
          "output_type": "stream",
          "name": "stderr",
          "text": [
            "\n"
          ]
        }
      ],
      "source": [
        "from sklearn.model_selection import StratifiedKFold\n",
        "from sklearn.preprocessing import MinMaxScaler\n",
        "from sklearn.neighbors import KNeighborsClassifier as knn\n",
        "from sklearn.svm import LinearSVC as svm\n",
        "from sklearn.ensemble import RandomForestClassifier as rf\n",
        "from sklearn.tree import DecisionTreeClassifier as dt\n",
        "from sklearn.naive_bayes import GaussianNB as nb\n",
        "from sklearn.metrics import balanced_accuracy_score\n",
        "\n",
        "def normalize(X_train, X_test):\n",
        "    scaler = MinMaxScaler(feature_range=(0, 1))\n",
        "    scaler = scaler.fit(X_train)\n",
        "    X_train = scaler.transform(X_train)\n",
        "    X_test = scaler.transform(X_test)\n",
        "    return X_train, X_test\n",
        "\n",
        "models = {'knn': knn, 'rf': rf, 'dt': dt, 'nb': nb, 'svm': svm}\n",
        "results = {'knn': [], 'rf': [], 'dt': [], 'nb': [],'svm': []}\n",
        "\n",
        "for _ in tqdm(range(30)):\n",
        "    skf = StratifiedKFold(n_splits=10, random_state=1234, shuffle=True)\n",
        "    for train, test in skf.split(X, y):\n",
        "        X_train, X_test = (X.iloc[train], X.iloc[test])\n",
        "        y_train, y_test = y[train], y[test]\n",
        "        X_train, X_test = normalize(X_train, X_test)\n",
        "\n",
        "        for name, model in  models.items():\n",
        "            model = model()\n",
        "            clf = model.fit(X_train, y_train)\n",
        "            y_predict = model.predict(X_train)\n",
        "            train_acc = balanced_accuracy_score(y_train, y_predict)\n",
        "            y_predict = model.predict(X_test)\n",
        "            test_acc = balanced_accuracy_score(y_test, y_predict)\n",
        "            results[name].append((train_acc, test_acc))\n",
        "\n",
        "show_results(results, label='Classifier')"
      ]
    },
    {
      "cell_type": "code",
      "execution_count": 9,
      "metadata": {
        "id": "C_GTnOSzBuGv",
        "colab": {
          "base_uri": "https://localhost:8080/"
        },
        "outputId": "68e3f3be-c02c-4ec9-9e15-9b0f4c043ae5"
      },
      "outputs": [
        {
          "output_type": "stream",
          "name": "stderr",
          "text": [
            "100%|██████████| 30/30 [01:06<00:00,  2.22s/it]"
          ]
        },
        {
          "output_type": "stream",
          "name": "stdout",
          "text": [
            "\n",
            "\n",
            "+----------+------------+-----------+-----------+----------+\n",
            "| SVM Type | Train Mean | Train Std | Test Mean | Test Std |\n",
            "+----------+------------+-----------+-----------+----------+\n",
            "|   svc    |   1.0000   |   0.0000  |   0.9753  |  0.0333  |\n",
            "|  nusvc   |   0.9883   |   0.0050  |   0.9554  |  0.0418  |\n",
            "|   lsvc   |   1.0000   |   0.0000  |   0.9913  |  0.0174  |\n",
            "+----------+------------+-----------+-----------+----------+\n"
          ]
        },
        {
          "output_type": "stream",
          "name": "stderr",
          "text": [
            "\n"
          ]
        }
      ],
      "source": [
        "from sklearn.model_selection import StratifiedKFold\n",
        "from sklearn.svm import SVC as svc\n",
        "from sklearn.svm import LinearSVC as lsvc\n",
        "from sklearn.svm import NuSVC as nusvc\n",
        "from sklearn.svm import LinearSVR as lsvr\n",
        "\n",
        "models = {'svc': svc, 'nusvc': nusvc, 'lsvc': lsvc,}\n",
        "results = {'svc': [], 'nusvc': [], 'lsvc': []}\n",
        "\n",
        "for _ in tqdm(range(30)):\n",
        "    skf = StratifiedKFold(n_splits=10, random_state=1234, shuffle=True)\n",
        "    for train, test in skf.split(X, y):\n",
        "        X_train, X_test = (X.iloc[train], X.iloc[test])\n",
        "        y_train, y_test = y[train], y[test]\n",
        "        X_train, X_test = normalize(X_train, X_test)\n",
        "\n",
        "        for name, model in  models.items():\n",
        "            model = model()\n",
        "            clf = model.fit(X_train, y_train)\n",
        "            y_predict = model.predict(X_train)\n",
        "            train_acc = balanced_accuracy_score(y_train, y_predict)\n",
        "            y_predict = model.predict(X_test)\n",
        "            test_acc = balanced_accuracy_score(y_test, y_predict)\n",
        "            results[name].append((train_acc, test_acc))\n",
        "\n",
        "show_results(results, label='SVM Type')"
      ]
    },
    {
      "cell_type": "code",
      "execution_count": 10,
      "metadata": {
        "id": "fMdHOze2DtS7",
        "colab": {
          "base_uri": "https://localhost:8080/"
        },
        "outputId": "bf00029c-06e8-43c7-ce41-9b2d2f43f7dd"
      },
      "outputs": [
        {
          "output_type": "stream",
          "name": "stderr",
          "text": [
            "100%|██████████| 30/30 [00:42<00:00,  1.41s/it]"
          ]
        },
        {
          "output_type": "stream",
          "name": "stdout",
          "text": [
            "\n",
            "\n",
            "+---------+------------+-----------+-----------+----------+\n",
            "|  kernel | Train Mean | Train Std | Test Mean | Test Std |\n",
            "+---------+------------+-----------+-----------+----------+\n",
            "|   poly  |   1.0000   |   0.0000  |   0.9913  |  0.0174  |\n",
            "|   rbf   |   1.0000   |   0.0000  |   0.9753  |  0.0333  |\n",
            "| sigmoid |   0.5808   |   0.0336  |   0.5598  |  0.0609  |\n",
            "|  linear |   1.0000   |   0.0000  |   0.9913  |  0.0174  |\n",
            "+---------+------------+-----------+-----------+----------+\n"
          ]
        },
        {
          "output_type": "stream",
          "name": "stderr",
          "text": [
            "\n"
          ]
        }
      ],
      "source": [
        "from sklearn.model_selection import StratifiedKFold\n",
        "from sklearn.svm import SVC as svm\n",
        "\n",
        "kernels = ['poly', 'rbf', 'sigmoid', 'linear']\n",
        "results = {'poly': [], 'rbf': [], 'sigmoid': [], 'linear': []}\n",
        "\n",
        "for _ in tqdm(range(30)):\n",
        "    for train, test in skf.split(X, y):\n",
        "        X_train, X_test = (X.iloc[train], X.iloc[test])\n",
        "        y_train, y_test = y[train], y[test]\n",
        "        X_train, X_test = normalize(X_train, X_test)\n",
        "\n",
        "        for kernel in kernels:\n",
        "            model = svm(kernel=kernel)\n",
        "            clf = model.fit(X_train, y_train)\n",
        "            y_predict = model.predict(X_train)\n",
        "            train_acc = balanced_accuracy_score(y_train, y_predict)\n",
        "            y_predict = model.predict(X_test)\n",
        "            test_acc = balanced_accuracy_score(y_test, y_predict)\n",
        "            results[kernel].append((train_acc, test_acc))\n",
        "\n",
        "show_results(results, label='kernel')"
      ]
    },
    {
      "cell_type": "code",
      "source": [
        "import torch\n",
        "import numpy as np\n",
        "import torch.nn.functional as F\n",
        "from sklearn.model_selection import train_test_split\n",
        "from torch.utils.data import DataLoader, Dataset\n",
        "\n",
        "print(\"[INFO] Reading the dataset.\")\n",
        "raw = pd.read_excel(path)\n",
        "\n",
        "data = raw[~raw['m/z'].str.contains('HM')]\n",
        "data = data[~data['m/z'].str.contains('QC')]\n",
        "data = data[~data['m/z'].str.contains('HM')]\n",
        "X = data.drop('m/z', axis=1) # X contains only the features.\n",
        "# Binary encoding for the class labels, e.g. 1 for Hoki, 0 for Mackeral.\n",
        "y = data['m/z'].apply(lambda x: 1 if 'H' in x else 0)\n",
        "y = np.array(y)\n",
        "\n",
        "# Evaluation parameters.\n",
        "train_split = 0.8\n",
        "val_split = 0.5 # 1/2 of 20%, validation and test, 10% and 10%, respectively.\n",
        "# print(f\"[DEBUG] train_split, val_split, test_split: ({train_split},{val_split},{test_split})\")\n",
        "\n",
        "# Step 2: Split your dataset into training, validation, and testing sets\n",
        "\n",
        "models = {'knn': knn, 'rf': rf, 'dt': dt, 'nb': nb, 'svm': svm}\n",
        "results = {'knn': [], 'rf': [], 'dt': [], 'nb': [],'svm': []}\n",
        "\n",
        "for _ in tqdm(range(30)):\n",
        "    X_train, X_temp, y_train, y_temp = train_test_split(X, y, test_size=(1-train_split))#, random_state=42)\n",
        "    X_val, X_test, y_val, y_test = train_test_split(X_temp, y_temp, test_size=val_split)#, random_state=42)\n",
        "    for name, model in  models.items():\n",
        "        model = model()\n",
        "        clf = model.fit(X_train, y_train)\n",
        "        y_predict = model.predict(X_train)\n",
        "        train_acc = balanced_accuracy_score(y_train, y_predict)\n",
        "        y_predict = model.predict(X_test)\n",
        "        test_acc = balanced_accuracy_score(y_test, y_predict)\n",
        "        results[name].append((train_acc, test_acc))\n",
        "\n",
        "show_results(results, label='Classifier')"
      ],
      "metadata": {
        "id": "L_Qk4g7lMrAZ",
        "outputId": "95cd7be1-f9a5-4c72-ef3e-7d8e0d858a8f",
        "colab": {
          "base_uri": "https://localhost:8080/"
        }
      },
      "execution_count": 15,
      "outputs": [
        {
          "output_type": "stream",
          "name": "stdout",
          "text": [
            "[INFO] Reading the dataset.\n"
          ]
        },
        {
          "output_type": "stream",
          "name": "stderr",
          "text": [
            "100%|██████████| 30/30 [00:16<00:00,  1.79it/s]"
          ]
        },
        {
          "output_type": "stream",
          "name": "stdout",
          "text": [
            "\n",
            "\n",
            "+------------+------------+-----------+-----------+----------+\n",
            "| Classifier | Train Mean | Train Std | Test Mean | Test Std |\n",
            "+------------+------------+-----------+-----------+----------+\n",
            "|    knn     |   0.9721   |   0.0066  |   0.9556  |  0.0421  |\n",
            "|     rf     |   1.0000   |   0.0000  |   0.9874  |  0.0220  |\n",
            "|     dt     |   1.0000   |   0.0000  |   0.9909  |  0.0168  |\n",
            "|     nb     |   0.9265   |   0.0268  |   0.9113  |  0.0553  |\n",
            "|    svm     |   0.9873   |   0.0049  |   0.9797  |  0.0274  |\n",
            "+------------+------------+-----------+-----------+----------+\n"
          ]
        },
        {
          "output_type": "stream",
          "name": "stderr",
          "text": [
            "\n"
          ]
        }
      ]
    }
  ],
  "metadata": {
    "colab": {
      "machine_shape": "hm",
      "provenance": [],
      "authorship_tag": "ABX9TyO1MdVm/vwHLega0mywxJOs",
      "include_colab_link": true
    },
    "kernelspec": {
      "display_name": "Python 3",
      "name": "python3"
    },
    "language_info": {
      "name": "python"
    },
    "accelerator": "GPU"
  },
  "nbformat": 4,
  "nbformat_minor": 0
}