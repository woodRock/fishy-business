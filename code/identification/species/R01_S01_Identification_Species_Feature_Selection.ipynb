{
  "cells": [
    {
      "cell_type": "markdown",
      "metadata": {
        "id": "view-in-github",
        "colab_type": "text"
      },
      "source": [
        "<a href=\"https://colab.research.google.com/github/woodRock/fishy-business/blob/main/code/identification/species/R01_S01_Identification_Species_Feature_Selection.ipynb\" target=\"_parent\"><img src=\"https://colab.research.google.com/assets/colab-badge.svg\" alt=\"Open In Colab\"/></a>"
      ]
    },
    {
      "cell_type": "code",
      "execution_count": 1,
      "metadata": {
        "colab": {
          "base_uri": "https://localhost:8080/"
        },
        "id": "lOF5V8spkFO9",
        "outputId": "8e56e099-6cde-4437-ffea-e58385862b3d"
      },
      "outputs": [
        {
          "output_type": "stream",
          "name": "stdout",
          "text": [
            "Collecting skfeature-chappers\n",
            "  Downloading skfeature_chappers-1.1.0-py3-none-any.whl (66 kB)\n",
            "\u001b[2K     \u001b[90m━━━━━━━━━━━━━━━━━━━━━━━━━━━━━━━━━━━━━━━━\u001b[0m \u001b[32m66.3/66.3 kB\u001b[0m \u001b[31m1.0 MB/s\u001b[0m eta \u001b[36m0:00:00\u001b[0m\n",
            "\u001b[?25hRequirement already satisfied: scikit-learn in /usr/local/lib/python3.10/dist-packages (from skfeature-chappers) (1.2.2)\n",
            "Requirement already satisfied: pandas in /usr/local/lib/python3.10/dist-packages (from skfeature-chappers) (1.5.3)\n",
            "Requirement already satisfied: numpy in /usr/local/lib/python3.10/dist-packages (from skfeature-chappers) (1.23.5)\n",
            "Requirement already satisfied: python-dateutil>=2.8.1 in /usr/local/lib/python3.10/dist-packages (from pandas->skfeature-chappers) (2.8.2)\n",
            "Requirement already satisfied: pytz>=2020.1 in /usr/local/lib/python3.10/dist-packages (from pandas->skfeature-chappers) (2023.3.post1)\n",
            "Requirement already satisfied: scipy>=1.3.2 in /usr/local/lib/python3.10/dist-packages (from scikit-learn->skfeature-chappers) (1.11.4)\n",
            "Requirement already satisfied: joblib>=1.1.1 in /usr/local/lib/python3.10/dist-packages (from scikit-learn->skfeature-chappers) (1.3.2)\n",
            "Requirement already satisfied: threadpoolctl>=2.0.0 in /usr/local/lib/python3.10/dist-packages (from scikit-learn->skfeature-chappers) (3.2.0)\n",
            "Requirement already satisfied: six>=1.5 in /usr/local/lib/python3.10/dist-packages (from python-dateutil>=2.8.1->pandas->skfeature-chappers) (1.16.0)\n",
            "Installing collected packages: skfeature-chappers\n",
            "Successfully installed skfeature-chappers-1.1.0\n"
          ]
        }
      ],
      "source": [
        "!pip install skfeature-chappers"
      ]
    },
    {
      "cell_type": "code",
      "execution_count": 2,
      "metadata": {
        "id": "N0MTzt4gjyr-"
      },
      "outputs": [],
      "source": [
        "import scipy.io\n",
        "import numpy as np\n",
        "import matplotlib.pyplot as plt\n",
        "import seaborn as sns\n",
        "from tqdm import tqdm\n",
        "import warnings\n",
        "import pickle"
      ]
    },
    {
      "cell_type": "code",
      "execution_count": 3,
      "metadata": {
        "id": "H9HnqXEN83Ku"
      },
      "outputs": [],
      "source": [
        "run = 1\n",
        "seed = 1617 * run\n",
        "np.random.seed(seed)"
      ]
    },
    {
      "cell_type": "code",
      "execution_count": 16,
      "metadata": {
        "id": "ao4c5MMgkVjn",
        "colab": {
          "base_uri": "https://localhost:8080/"
        },
        "outputId": "cf8076f0-5299-49b8-e532-2fac009d9237"
      },
      "outputs": [
        {
          "output_type": "stream",
          "name": "stdout",
          "text": [
            "Drive already mounted at /content/drive; to attempt to forcibly remount, call drive.mount(\"/content/drive\", force_remount=True).\n",
            "[INFO] Reading the dataset.\n"
          ]
        }
      ],
      "source": [
        "from google.colab import drive\n",
        "drive.mount('/content/drive')\n",
        "import os\n",
        "os.listdir('/content/drive/My Drive')\n",
        "\n",
        "import pandas as pd\n",
        "import matplotlib.pyplot as plt\n",
        "import matplotlib.ticker as ticker\n",
        "\n",
        "path = ['drive', 'MyDrive', 'AI', 'fish', 'REIMS_data.xlsx']\n",
        "path = os.path.join(*path)\n",
        "\n",
        "# Load the dataset\n",
        "data = pd.read_excel(path)\n",
        "\n",
        "print(\"[INFO] Reading the dataset.\")\n",
        "raw = pd.read_excel(path)\n",
        "\n",
        "data = raw[~raw['m/z'].str.contains('HM')]\n",
        "data = data[~data['m/z'].str.contains('QC')]\n",
        "data = data[~data['m/z'].str.contains('HM')]\n",
        "X = data.drop('m/z', axis=1) # X contains only the features.\n",
        "y = data['m/z'].apply(lambda x: 1 if 'H' in x else 0) # Binary encodinghs for class labels (1 for Hoki, 0 for Mackeral)\n",
        "y = np.array(y)"
      ]
    },
    {
      "cell_type": "code",
      "execution_count": 6,
      "metadata": {
        "id": "G-p57D5p3Rxu"
      },
      "outputs": [],
      "source": [
        "inc = 50\n",
        "no_features = X.shape[1] + inc\n",
        "j = np.arange(inc,no_features,inc) # [50,4800]"
      ]
    },
    {
      "cell_type": "code",
      "execution_count": 7,
      "metadata": {
        "id": "ixgnotRydOaz"
      },
      "outputs": [],
      "source": [
        "from skfeature.function.similarity_based import reliefF\n",
        "from skfeature.function.information_theoretical_based import MRMR\n",
        "from sklearn.feature_selection import chi2\n",
        "from sklearn.feature_selection import SelectKBest\n",
        "from sklearn.model_selection import StratifiedKFold\n",
        "from sklearn.svm import LinearSVC as svm\n",
        "\n",
        "methods = { \"reliefF\" : reliefF.reliefF, \"mrmr\": MRMR.mrmr, \"chi2\": chi2}\n",
        "results = { \"reliefF\" : [], \"mrmr\": [], \"chi2\": [], \"pso\": []}\n",
        "penalty = 'l1'"
      ]
    },
    {
      "cell_type": "code",
      "execution_count": 8,
      "metadata": {
        "id": "anadECrYde-L"
      },
      "outputs": [],
      "source": [
        "from sklearn.preprocessing import MinMaxScaler\n",
        "from sklearn.metrics import balanced_accuracy_score\n",
        "\n",
        "def normalize(X_train, X_test):\n",
        "    scaler = MinMaxScaler(feature_range=(0, 1))\n",
        "    scaler = scaler.fit(X_train)\n",
        "    X_train = scaler.transform(X_train)\n",
        "    X_test = scaler.transform(X_test)\n",
        "    return X_train, X_test"
      ]
    },
    {
      "cell_type": "code",
      "execution_count": null,
      "metadata": {
        "id": "1QK01mdPZeX1"
      },
      "outputs": [],
      "source": [
        "# from Problem import FeatureSelection\n",
        "# from PSO import Swarm\n",
        "\n",
        "# def pso(X,y):\n",
        "#     prob = FeatureSelection(minimized=True, X=X, y=y)\n",
        "#     pop_size = 30\n",
        "#     n_iterations = 100\n",
        "#     no_fea = X.shape[1]\n",
        "#     swarm = Swarm(n_particle=pop_size, length=no_fea, n_iterations=n_iterations,\n",
        "#                         max_pos=1.0, min_pos=0.0, max_vel=0.2, min_vel=-0.2,\n",
        "#                         problem=prob)\n",
        "#     best_sol, best_fit = swarm.iterate()\n",
        "#     sel_fea = np.where(best_sol > prob.threshold)[0]\n",
        "#     return sel_fea"
      ]
    },
    {
      "cell_type": "code",
      "execution_count": null,
      "metadata": {
        "colab": {
          "background_save": true,
          "base_uri": "https://localhost:8080/"
        },
        "id": "ZjJCiAYpcrH7",
        "outputId": "c036a3fe-b511-4dc4-efa8-38e568e9be6e"
      },
      "outputs": [
        {
          "name": "stderr",
          "output_type": "stream",
          "text": [
            "\r  0%|          | 0/15 [00:00<?, ?it/s]"
          ]
        },
        {
          "name": "stdout",
          "output_type": "stream",
          "text": [
            "Run 0, fold 1 \n",
            "Run 0, fold 2 \n",
            "Run 0, fold 3 \n",
            "Run 0, fold 4 \n",
            "Run 0, fold 5 \n",
            "Run 0, fold 6 \n",
            "Run 0, fold 7 \n",
            "Run 0, fold 8 \n",
            "Run 0, fold 9 \n"
          ]
        },
        {
          "name": "stderr",
          "output_type": "stream",
          "text": [
            "\r  7%|▋         | 1/15 [1:01:29<14:20:58, 3689.87s/it]"
          ]
        },
        {
          "name": "stdout",
          "output_type": "stream",
          "text": [
            "Run 0, fold 10 \n",
            "Run 1, fold 1 \n",
            "Run 1, fold 2 \n",
            "Run 1, fold 3 \n",
            "Run 1, fold 4 \n",
            "Run 1, fold 5 \n",
            "Run 1, fold 6 \n",
            "Run 1, fold 7 \n",
            "Run 1, fold 8 \n",
            "Run 1, fold 9 \n"
          ]
        },
        {
          "name": "stderr",
          "output_type": "stream",
          "text": [
            "\r 13%|█▎        | 2/15 [2:00:38<13:01:31, 3607.08s/it]"
          ]
        },
        {
          "name": "stdout",
          "output_type": "stream",
          "text": [
            "Run 1, fold 10 \n",
            "Run 2, fold 1 \n",
            "Run 2, fold 2 \n",
            "Run 2, fold 3 \n",
            "Run 2, fold 4 \n",
            "Run 2, fold 5 \n",
            "Run 2, fold 6 \n",
            "Run 2, fold 7 \n",
            "Run 2, fold 8 \n",
            "Run 2, fold 9 \n"
          ]
        },
        {
          "name": "stderr",
          "output_type": "stream",
          "text": [
            "\r 20%|██        | 3/15 [3:00:39<12:00:51, 3604.28s/it]"
          ]
        },
        {
          "name": "stdout",
          "output_type": "stream",
          "text": [
            "Run 2, fold 10 \n",
            "Run 3, fold 1 \n",
            "Run 3, fold 2 \n",
            "Run 3, fold 3 \n",
            "Run 3, fold 4 \n",
            "Run 3, fold 5 \n",
            "Run 3, fold 6 \n",
            "Run 3, fold 7 \n",
            "Run 3, fold 8 \n",
            "Run 3, fold 9 \n"
          ]
        },
        {
          "name": "stderr",
          "output_type": "stream",
          "text": [
            "\r 27%|██▋       | 4/15 [4:01:14<11:03:00, 3616.43s/it]"
          ]
        },
        {
          "name": "stdout",
          "output_type": "stream",
          "text": [
            "Run 3, fold 10 \n",
            "Run 4, fold 1 \n",
            "Run 4, fold 2 \n",
            "Run 4, fold 3 \n",
            "Run 4, fold 4 \n",
            "Run 4, fold 5 \n",
            "Run 4, fold 6 \n",
            "Run 4, fold 7 \n",
            "Run 4, fold 8 \n",
            "Run 4, fold 9 \n"
          ]
        },
        {
          "name": "stderr",
          "output_type": "stream",
          "text": [
            "\r 33%|███▎      | 5/15 [5:01:18<10:01:58, 3611.83s/it]"
          ]
        },
        {
          "name": "stdout",
          "output_type": "stream",
          "text": [
            "Run 4, fold 10 \n",
            "Run 5, fold 1 \n",
            "Run 5, fold 2 \n",
            "Run 5, fold 3 \n",
            "Run 5, fold 4 \n",
            "Run 5, fold 5 \n",
            "Run 5, fold 6 \n",
            "Run 5, fold 7 \n",
            "Run 5, fold 8 \n",
            "Run 5, fold 9 \n"
          ]
        },
        {
          "name": "stderr",
          "output_type": "stream",
          "text": [
            "\r 40%|████      | 6/15 [6:00:15<8:57:58, 3586.48s/it] "
          ]
        },
        {
          "name": "stdout",
          "output_type": "stream",
          "text": [
            "Run 5, fold 10 \n",
            "Run 6, fold 1 \n",
            "Run 6, fold 2 \n",
            "Run 6, fold 3 \n",
            "Run 6, fold 4 \n",
            "Run 6, fold 5 \n",
            "Run 6, fold 6 \n",
            "Run 6, fold 7 \n",
            "Run 6, fold 8 \n",
            "Run 6, fold 9 \n"
          ]
        },
        {
          "name": "stderr",
          "output_type": "stream",
          "text": [
            "\r 47%|████▋     | 7/15 [6:59:46<7:57:30, 3581.27s/it]"
          ]
        },
        {
          "name": "stdout",
          "output_type": "stream",
          "text": [
            "Run 6, fold 10 \n",
            "Run 7, fold 1 \n",
            "Run 7, fold 2 \n",
            "Run 7, fold 3 \n",
            "Run 7, fold 4 \n",
            "Run 7, fold 5 \n",
            "Run 7, fold 6 \n",
            "Run 7, fold 7 \n",
            "Run 7, fold 8 \n",
            "Run 7, fold 9 \n"
          ]
        },
        {
          "name": "stderr",
          "output_type": "stream",
          "text": [
            "\r 53%|█████▎    | 8/15 [7:59:57<6:58:55, 3590.83s/it]"
          ]
        },
        {
          "name": "stdout",
          "output_type": "stream",
          "text": [
            "Run 7, fold 10 \n",
            "Run 8, fold 1 \n",
            "Run 8, fold 2 \n",
            "Run 8, fold 3 \n",
            "Run 8, fold 4 \n",
            "Run 8, fold 5 \n",
            "Run 8, fold 6 \n",
            "Run 8, fold 7 \n",
            "Run 8, fold 8 \n",
            "Run 8, fold 9 \n"
          ]
        },
        {
          "name": "stderr",
          "output_type": "stream",
          "text": [
            "\r 60%|██████    | 9/15 [8:57:26<5:54:38, 3546.47s/it]"
          ]
        },
        {
          "name": "stdout",
          "output_type": "stream",
          "text": [
            "Run 8, fold 10 \n",
            "Run 9, fold 1 \n",
            "Run 9, fold 2 \n",
            "Run 9, fold 3 \n",
            "Run 9, fold 4 \n",
            "Run 9, fold 5 \n",
            "Run 9, fold 6 \n",
            "Run 9, fold 7 \n",
            "Run 9, fold 8 \n",
            "Run 9, fold 9 \n"
          ]
        },
        {
          "name": "stderr",
          "output_type": "stream",
          "text": [
            "\r 67%|██████▋   | 10/15 [9:57:30<4:57:01, 3564.29s/it]"
          ]
        },
        {
          "name": "stdout",
          "output_type": "stream",
          "text": [
            "Run 9, fold 10 \n",
            "Run 10, fold 1 \n",
            "Run 10, fold 2 \n",
            "Run 10, fold 3 \n",
            "Run 10, fold 4 \n",
            "Run 10, fold 5 \n",
            "Run 10, fold 6 \n",
            "Run 10, fold 7 \n",
            "Run 10, fold 8 \n",
            "Run 10, fold 9 \n"
          ]
        },
        {
          "name": "stderr",
          "output_type": "stream",
          "text": [
            "\r 73%|███████▎  | 11/15 [10:57:39<3:58:31, 3577.76s/it]"
          ]
        },
        {
          "name": "stdout",
          "output_type": "stream",
          "text": [
            "Run 10, fold 10 \n",
            "Run 11, fold 1 \n",
            "Run 11, fold 2 \n",
            "Run 11, fold 3 \n",
            "Run 11, fold 4 \n",
            "Run 11, fold 5 \n",
            "Run 11, fold 6 \n",
            "Run 11, fold 7 \n",
            "Run 11, fold 8 \n",
            "Run 11, fold 9 \n"
          ]
        },
        {
          "name": "stderr",
          "output_type": "stream",
          "text": [
            "\r 80%|████████  | 12/15 [11:57:47<2:59:21, 3587.00s/it]"
          ]
        },
        {
          "name": "stdout",
          "output_type": "stream",
          "text": [
            "Run 11, fold 10 \n",
            "Run 12, fold 1 \n",
            "Run 12, fold 2 \n",
            "Run 12, fold 3 \n",
            "Run 12, fold 4 \n",
            "Run 12, fold 5 \n",
            "Run 12, fold 6 \n",
            "Run 12, fold 7 \n",
            "Run 12, fold 8 \n",
            "Run 12, fold 9 \n"
          ]
        },
        {
          "name": "stderr",
          "output_type": "stream",
          "text": [
            "\r 87%|████████▋ | 13/15 [12:57:08<1:59:18, 3579.06s/it]"
          ]
        },
        {
          "name": "stdout",
          "output_type": "stream",
          "text": [
            "Run 12, fold 10 \n",
            "Run 13, fold 1 \n",
            "Run 13, fold 2 \n",
            "Run 13, fold 3 \n",
            "Run 13, fold 4 \n",
            "Run 13, fold 5 \n",
            "Run 13, fold 6 \n",
            "Run 13, fold 7 \n",
            "Run 13, fold 8 \n",
            "Run 13, fold 9 \n"
          ]
        },
        {
          "name": "stderr",
          "output_type": "stream",
          "text": [
            "\r 93%|█████████▎| 14/15 [13:57:50<59:58, 3598.18s/it]  "
          ]
        },
        {
          "name": "stdout",
          "output_type": "stream",
          "text": [
            "Run 13, fold 10 \n",
            "Run 14, fold 1 \n",
            "Run 14, fold 2 \n",
            "Run 14, fold 3 \n",
            "Run 14, fold 4 \n",
            "Run 14, fold 5 \n",
            "Run 14, fold 6 \n",
            "Run 14, fold 7 \n",
            "Run 14, fold 8 \n",
            "Run 14, fold 9 \n"
          ]
        },
        {
          "name": "stderr",
          "output_type": "stream",
          "text": [
            "100%|██████████| 15/15 [14:56:33<00:00, 3586.26s/it]"
          ]
        },
        {
          "name": "stdout",
          "output_type": "stream",
          "text": [
            "Run 14, fold 10 \n"
          ]
        },
        {
          "name": "stderr",
          "output_type": "stream",
          "text": [
            "\n"
          ]
        }
      ],
      "source": [
        "# runs = 15\n",
        "# name = \"pso\"\n",
        "# folds = 10\n",
        "\n",
        "# for k in tqdm(range(runs)):\n",
        "#     train_accs = []\n",
        "#     test_accs = []\n",
        "#     skf = StratifiedKFold(n_splits=folds, random_state=1234, shuffle=True)\n",
        "\n",
        "#     # DEBUG: Fold counter\n",
        "#     f = 1\n",
        "\n",
        "#     for train, test in skf.split(X, y):\n",
        "#         X_train, X_test = (X[train], X[test])\n",
        "#         y_train, y_test = y[train], y[test]\n",
        "#         X_train, X_test = normalize(X_train, X_test)\n",
        "\n",
        "#         sel_fea = pso(X_train, y_train)\n",
        "\n",
        "#         # DEBUG: Measure progress.\n",
        "#         print(f\"Run {k}, fold {f} \")\n",
        "\n",
        "#         model = svm(penalty='l1', dual=False, tol=1e-3, max_iter=5_000)\n",
        "#         model.fit(X_train[:, sel_fea], y_train)\n",
        "\n",
        "#         y_predict = model.predict(X_train[:, sel_fea])\n",
        "#         train_acc = balanced_accuracy_score(y_train, y_predict)\n",
        "#         train_accs.append(train_acc)\n",
        "\n",
        "#         y_predict = model.predict(X_test[:, sel_fea])\n",
        "#         test_acc = balanced_accuracy_score(y_test, y_predict)\n",
        "#         test_accs.append(test_acc)\n",
        "\n",
        "#         # DEBUG: Increment fold counter\n",
        "#         f += 1\n",
        "\n",
        "#     no_fea = len(sel_fea)\n",
        "#     results[name].append((no_fea, np.mean(train_accs), np.mean(test_accs)))"
      ]
    },
    {
      "cell_type": "code",
      "execution_count": null,
      "metadata": {
        "colab": {
          "background_save": true
        },
        "id": "RlFzQ0tAx6ar"
      },
      "outputs": [],
      "source": [
        "# with open('results-pso-cloud.pkl', 'wb+') as f:\n",
        "#     pickle.dump(results, f)"
      ]
    },
    {
      "cell_type": "code",
      "source": [
        "X.iloc[[0,1]]"
      ],
      "metadata": {
        "colab": {
          "base_uri": "https://localhost:8080/",
          "height": 161
        },
        "id": "oW_zUxxz0kHo",
        "outputId": "bee34981-c484-498d-e938-6802d6522183"
      },
      "execution_count": 22,
      "outputs": [
        {
          "output_type": "execute_result",
          "data": {
            "text/plain": [
              "   77.037102   79.013678   80.011940   81.019698   81.089396   82.084366   \\\n",
              "0   44.151534   40.097125  103.332229   56.262516   24.328712   28.057736   \n",
              "1   30.469421   51.173076   22.743318   24.150739   27.172515   30.201250   \n",
              "\n",
              "   83.068487   83.104423   85.083740   85.120276   ...  471.121530  \\\n",
              "0   26.838564   43.520341   77.593835   21.842768  ...  143.038016   \n",
              "1   22.662025   36.295514   55.892458   16.454817  ...  217.143382   \n",
              "\n",
              "   471.172537  472.113708  472.149422  472.173538  473.110334  473.141630  \\\n",
              "0   94.954617  202.746447  173.250273  106.053201  180.389768   69.019162   \n",
              "1  103.133625  223.958053  131.256351  111.457397  203.144074   45.392687   \n",
              "\n",
              "   473.171294  474.114901  474.163176  \n",
              "0  182.844367  192.338037  358.766952  \n",
              "1  101.037729  191.553839  182.812799  \n",
              "\n",
              "[2 rows x 1023 columns]"
            ],
            "text/html": [
              "\n",
              "  <div id=\"df-a1b1aa8e-af60-49be-bcf1-a56130facd60\" class=\"colab-df-container\">\n",
              "    <div>\n",
              "<style scoped>\n",
              "    .dataframe tbody tr th:only-of-type {\n",
              "        vertical-align: middle;\n",
              "    }\n",
              "\n",
              "    .dataframe tbody tr th {\n",
              "        vertical-align: top;\n",
              "    }\n",
              "\n",
              "    .dataframe thead th {\n",
              "        text-align: right;\n",
              "    }\n",
              "</style>\n",
              "<table border=\"1\" class=\"dataframe\">\n",
              "  <thead>\n",
              "    <tr style=\"text-align: right;\">\n",
              "      <th></th>\n",
              "      <th>77.037102</th>\n",
              "      <th>79.013678</th>\n",
              "      <th>80.011940</th>\n",
              "      <th>81.019698</th>\n",
              "      <th>81.089396</th>\n",
              "      <th>82.084366</th>\n",
              "      <th>83.068487</th>\n",
              "      <th>83.104423</th>\n",
              "      <th>85.083740</th>\n",
              "      <th>85.120276</th>\n",
              "      <th>...</th>\n",
              "      <th>471.121530</th>\n",
              "      <th>471.172537</th>\n",
              "      <th>472.113708</th>\n",
              "      <th>472.149422</th>\n",
              "      <th>472.173538</th>\n",
              "      <th>473.110334</th>\n",
              "      <th>473.141630</th>\n",
              "      <th>473.171294</th>\n",
              "      <th>474.114901</th>\n",
              "      <th>474.163176</th>\n",
              "    </tr>\n",
              "  </thead>\n",
              "  <tbody>\n",
              "    <tr>\n",
              "      <th>0</th>\n",
              "      <td>44.151534</td>\n",
              "      <td>40.097125</td>\n",
              "      <td>103.332229</td>\n",
              "      <td>56.262516</td>\n",
              "      <td>24.328712</td>\n",
              "      <td>28.057736</td>\n",
              "      <td>26.838564</td>\n",
              "      <td>43.520341</td>\n",
              "      <td>77.593835</td>\n",
              "      <td>21.842768</td>\n",
              "      <td>...</td>\n",
              "      <td>143.038016</td>\n",
              "      <td>94.954617</td>\n",
              "      <td>202.746447</td>\n",
              "      <td>173.250273</td>\n",
              "      <td>106.053201</td>\n",
              "      <td>180.389768</td>\n",
              "      <td>69.019162</td>\n",
              "      <td>182.844367</td>\n",
              "      <td>192.338037</td>\n",
              "      <td>358.766952</td>\n",
              "    </tr>\n",
              "    <tr>\n",
              "      <th>1</th>\n",
              "      <td>30.469421</td>\n",
              "      <td>51.173076</td>\n",
              "      <td>22.743318</td>\n",
              "      <td>24.150739</td>\n",
              "      <td>27.172515</td>\n",
              "      <td>30.201250</td>\n",
              "      <td>22.662025</td>\n",
              "      <td>36.295514</td>\n",
              "      <td>55.892458</td>\n",
              "      <td>16.454817</td>\n",
              "      <td>...</td>\n",
              "      <td>217.143382</td>\n",
              "      <td>103.133625</td>\n",
              "      <td>223.958053</td>\n",
              "      <td>131.256351</td>\n",
              "      <td>111.457397</td>\n",
              "      <td>203.144074</td>\n",
              "      <td>45.392687</td>\n",
              "      <td>101.037729</td>\n",
              "      <td>191.553839</td>\n",
              "      <td>182.812799</td>\n",
              "    </tr>\n",
              "  </tbody>\n",
              "</table>\n",
              "<p>2 rows × 1023 columns</p>\n",
              "</div>\n",
              "    <div class=\"colab-df-buttons\">\n",
              "\n",
              "  <div class=\"colab-df-container\">\n",
              "    <button class=\"colab-df-convert\" onclick=\"convertToInteractive('df-a1b1aa8e-af60-49be-bcf1-a56130facd60')\"\n",
              "            title=\"Convert this dataframe to an interactive table.\"\n",
              "            style=\"display:none;\">\n",
              "\n",
              "  <svg xmlns=\"http://www.w3.org/2000/svg\" height=\"24px\" viewBox=\"0 -960 960 960\">\n",
              "    <path d=\"M120-120v-720h720v720H120Zm60-500h600v-160H180v160Zm220 220h160v-160H400v160Zm0 220h160v-160H400v160ZM180-400h160v-160H180v160Zm440 0h160v-160H620v160ZM180-180h160v-160H180v160Zm440 0h160v-160H620v160Z\"/>\n",
              "  </svg>\n",
              "    </button>\n",
              "\n",
              "  <style>\n",
              "    .colab-df-container {\n",
              "      display:flex;\n",
              "      gap: 12px;\n",
              "    }\n",
              "\n",
              "    .colab-df-convert {\n",
              "      background-color: #E8F0FE;\n",
              "      border: none;\n",
              "      border-radius: 50%;\n",
              "      cursor: pointer;\n",
              "      display: none;\n",
              "      fill: #1967D2;\n",
              "      height: 32px;\n",
              "      padding: 0 0 0 0;\n",
              "      width: 32px;\n",
              "    }\n",
              "\n",
              "    .colab-df-convert:hover {\n",
              "      background-color: #E2EBFA;\n",
              "      box-shadow: 0px 1px 2px rgba(60, 64, 67, 0.3), 0px 1px 3px 1px rgba(60, 64, 67, 0.15);\n",
              "      fill: #174EA6;\n",
              "    }\n",
              "\n",
              "    .colab-df-buttons div {\n",
              "      margin-bottom: 4px;\n",
              "    }\n",
              "\n",
              "    [theme=dark] .colab-df-convert {\n",
              "      background-color: #3B4455;\n",
              "      fill: #D2E3FC;\n",
              "    }\n",
              "\n",
              "    [theme=dark] .colab-df-convert:hover {\n",
              "      background-color: #434B5C;\n",
              "      box-shadow: 0px 1px 3px 1px rgba(0, 0, 0, 0.15);\n",
              "      filter: drop-shadow(0px 1px 2px rgba(0, 0, 0, 0.3));\n",
              "      fill: #FFFFFF;\n",
              "    }\n",
              "  </style>\n",
              "\n",
              "    <script>\n",
              "      const buttonEl =\n",
              "        document.querySelector('#df-a1b1aa8e-af60-49be-bcf1-a56130facd60 button.colab-df-convert');\n",
              "      buttonEl.style.display =\n",
              "        google.colab.kernel.accessAllowed ? 'block' : 'none';\n",
              "\n",
              "      async function convertToInteractive(key) {\n",
              "        const element = document.querySelector('#df-a1b1aa8e-af60-49be-bcf1-a56130facd60');\n",
              "        const dataTable =\n",
              "          await google.colab.kernel.invokeFunction('convertToInteractive',\n",
              "                                                    [key], {});\n",
              "        if (!dataTable) return;\n",
              "\n",
              "        const docLinkHtml = 'Like what you see? Visit the ' +\n",
              "          '<a target=\"_blank\" href=https://colab.research.google.com/notebooks/data_table.ipynb>data table notebook</a>'\n",
              "          + ' to learn more about interactive tables.';\n",
              "        element.innerHTML = '';\n",
              "        dataTable['output_type'] = 'display_data';\n",
              "        await google.colab.output.renderOutput(dataTable, element);\n",
              "        const docLink = document.createElement('div');\n",
              "        docLink.innerHTML = docLinkHtml;\n",
              "        element.appendChild(docLink);\n",
              "      }\n",
              "    </script>\n",
              "  </div>\n",
              "\n",
              "\n",
              "<div id=\"df-ab8117e4-ec46-49bd-879c-666865545824\">\n",
              "  <button class=\"colab-df-quickchart\" onclick=\"quickchart('df-ab8117e4-ec46-49bd-879c-666865545824')\"\n",
              "            title=\"Suggest charts\"\n",
              "            style=\"display:none;\">\n",
              "\n",
              "<svg xmlns=\"http://www.w3.org/2000/svg\" height=\"24px\"viewBox=\"0 0 24 24\"\n",
              "     width=\"24px\">\n",
              "    <g>\n",
              "        <path d=\"M19 3H5c-1.1 0-2 .9-2 2v14c0 1.1.9 2 2 2h14c1.1 0 2-.9 2-2V5c0-1.1-.9-2-2-2zM9 17H7v-7h2v7zm4 0h-2V7h2v10zm4 0h-2v-4h2v4z\"/>\n",
              "    </g>\n",
              "</svg>\n",
              "  </button>\n",
              "\n",
              "<style>\n",
              "  .colab-df-quickchart {\n",
              "      --bg-color: #E8F0FE;\n",
              "      --fill-color: #1967D2;\n",
              "      --hover-bg-color: #E2EBFA;\n",
              "      --hover-fill-color: #174EA6;\n",
              "      --disabled-fill-color: #AAA;\n",
              "      --disabled-bg-color: #DDD;\n",
              "  }\n",
              "\n",
              "  [theme=dark] .colab-df-quickchart {\n",
              "      --bg-color: #3B4455;\n",
              "      --fill-color: #D2E3FC;\n",
              "      --hover-bg-color: #434B5C;\n",
              "      --hover-fill-color: #FFFFFF;\n",
              "      --disabled-bg-color: #3B4455;\n",
              "      --disabled-fill-color: #666;\n",
              "  }\n",
              "\n",
              "  .colab-df-quickchart {\n",
              "    background-color: var(--bg-color);\n",
              "    border: none;\n",
              "    border-radius: 50%;\n",
              "    cursor: pointer;\n",
              "    display: none;\n",
              "    fill: var(--fill-color);\n",
              "    height: 32px;\n",
              "    padding: 0;\n",
              "    width: 32px;\n",
              "  }\n",
              "\n",
              "  .colab-df-quickchart:hover {\n",
              "    background-color: var(--hover-bg-color);\n",
              "    box-shadow: 0 1px 2px rgba(60, 64, 67, 0.3), 0 1px 3px 1px rgba(60, 64, 67, 0.15);\n",
              "    fill: var(--button-hover-fill-color);\n",
              "  }\n",
              "\n",
              "  .colab-df-quickchart-complete:disabled,\n",
              "  .colab-df-quickchart-complete:disabled:hover {\n",
              "    background-color: var(--disabled-bg-color);\n",
              "    fill: var(--disabled-fill-color);\n",
              "    box-shadow: none;\n",
              "  }\n",
              "\n",
              "  .colab-df-spinner {\n",
              "    border: 2px solid var(--fill-color);\n",
              "    border-color: transparent;\n",
              "    border-bottom-color: var(--fill-color);\n",
              "    animation:\n",
              "      spin 1s steps(1) infinite;\n",
              "  }\n",
              "\n",
              "  @keyframes spin {\n",
              "    0% {\n",
              "      border-color: transparent;\n",
              "      border-bottom-color: var(--fill-color);\n",
              "      border-left-color: var(--fill-color);\n",
              "    }\n",
              "    20% {\n",
              "      border-color: transparent;\n",
              "      border-left-color: var(--fill-color);\n",
              "      border-top-color: var(--fill-color);\n",
              "    }\n",
              "    30% {\n",
              "      border-color: transparent;\n",
              "      border-left-color: var(--fill-color);\n",
              "      border-top-color: var(--fill-color);\n",
              "      border-right-color: var(--fill-color);\n",
              "    }\n",
              "    40% {\n",
              "      border-color: transparent;\n",
              "      border-right-color: var(--fill-color);\n",
              "      border-top-color: var(--fill-color);\n",
              "    }\n",
              "    60% {\n",
              "      border-color: transparent;\n",
              "      border-right-color: var(--fill-color);\n",
              "    }\n",
              "    80% {\n",
              "      border-color: transparent;\n",
              "      border-right-color: var(--fill-color);\n",
              "      border-bottom-color: var(--fill-color);\n",
              "    }\n",
              "    90% {\n",
              "      border-color: transparent;\n",
              "      border-bottom-color: var(--fill-color);\n",
              "    }\n",
              "  }\n",
              "</style>\n",
              "\n",
              "  <script>\n",
              "    async function quickchart(key) {\n",
              "      const quickchartButtonEl =\n",
              "        document.querySelector('#' + key + ' button');\n",
              "      quickchartButtonEl.disabled = true;  // To prevent multiple clicks.\n",
              "      quickchartButtonEl.classList.add('colab-df-spinner');\n",
              "      try {\n",
              "        const charts = await google.colab.kernel.invokeFunction(\n",
              "            'suggestCharts', [key], {});\n",
              "      } catch (error) {\n",
              "        console.error('Error during call to suggestCharts:', error);\n",
              "      }\n",
              "      quickchartButtonEl.classList.remove('colab-df-spinner');\n",
              "      quickchartButtonEl.classList.add('colab-df-quickchart-complete');\n",
              "    }\n",
              "    (() => {\n",
              "      let quickchartButtonEl =\n",
              "        document.querySelector('#df-ab8117e4-ec46-49bd-879c-666865545824 button');\n",
              "      quickchartButtonEl.style.display =\n",
              "        google.colab.kernel.accessAllowed ? 'block' : 'none';\n",
              "    })();\n",
              "  </script>\n",
              "</div>\n",
              "\n",
              "    </div>\n",
              "  </div>\n"
            ]
          },
          "metadata": {},
          "execution_count": 22
        }
      ]
    },
    {
      "cell_type": "code",
      "execution_count": 23,
      "metadata": {
        "id": "ipKupS0pkkyL",
        "colab": {
          "base_uri": "https://localhost:8080/",
          "height": 411
        },
        "outputId": "6c67398e-12c8-4bcd-cc9a-327225c88c1a"
      },
      "outputs": [
        {
          "output_type": "stream",
          "name": "stderr",
          "text": [
            " 95%|█████████▌| 20/21 [07:49<00:23, 23.47s/it]\n"
          ]
        },
        {
          "output_type": "error",
          "ename": "ValueError",
          "evalue": "k should be <= n_features = 1023; got 1050. Use k='all' to return all features.",
          "traceback": [
            "\u001b[0;31m---------------------------------------------------------------------------\u001b[0m",
            "\u001b[0;31mValueError\u001b[0m                                Traceback (most recent call last)",
            "\u001b[0;32m<ipython-input-23-e4b1217400e0>\u001b[0m in \u001b[0;36m<cell line: 4>\u001b[0;34m()\u001b[0m\n\u001b[1;32m     17\u001b[0m \u001b[0;34m\u001b[0m\u001b[0m\n\u001b[1;32m     18\u001b[0m             \u001b[0mfs\u001b[0m \u001b[0;34m=\u001b[0m \u001b[0mSelectKBest\u001b[0m\u001b[0;34m(\u001b[0m\u001b[0mfs_method\u001b[0m\u001b[0;34m,\u001b[0m \u001b[0mk\u001b[0m\u001b[0;34m=\u001b[0m\u001b[0mk\u001b[0m\u001b[0;34m)\u001b[0m\u001b[0;34m\u001b[0m\u001b[0;34m\u001b[0m\u001b[0m\n\u001b[0;32m---> 19\u001b[0;31m             \u001b[0mX_train\u001b[0m \u001b[0;34m=\u001b[0m \u001b[0mfs\u001b[0m\u001b[0;34m.\u001b[0m\u001b[0mfit_transform\u001b[0m\u001b[0;34m(\u001b[0m\u001b[0mX_train\u001b[0m\u001b[0;34m,\u001b[0m \u001b[0my_train\u001b[0m\u001b[0;34m)\u001b[0m\u001b[0;34m\u001b[0m\u001b[0;34m\u001b[0m\u001b[0m\n\u001b[0m\u001b[1;32m     20\u001b[0m             \u001b[0mX_test\u001b[0m \u001b[0;34m=\u001b[0m \u001b[0mfs\u001b[0m\u001b[0;34m.\u001b[0m\u001b[0mtransform\u001b[0m\u001b[0;34m(\u001b[0m\u001b[0mX_test\u001b[0m\u001b[0;34m)\u001b[0m\u001b[0;34m\u001b[0m\u001b[0;34m\u001b[0m\u001b[0m\n\u001b[1;32m     21\u001b[0m \u001b[0;34m\u001b[0m\u001b[0m\n",
            "\u001b[0;32m/usr/local/lib/python3.10/dist-packages/sklearn/utils/_set_output.py\u001b[0m in \u001b[0;36mwrapped\u001b[0;34m(self, X, *args, **kwargs)\u001b[0m\n\u001b[1;32m    138\u001b[0m     \u001b[0;34m@\u001b[0m\u001b[0mwraps\u001b[0m\u001b[0;34m(\u001b[0m\u001b[0mf\u001b[0m\u001b[0;34m)\u001b[0m\u001b[0;34m\u001b[0m\u001b[0;34m\u001b[0m\u001b[0m\n\u001b[1;32m    139\u001b[0m     \u001b[0;32mdef\u001b[0m \u001b[0mwrapped\u001b[0m\u001b[0;34m(\u001b[0m\u001b[0mself\u001b[0m\u001b[0;34m,\u001b[0m \u001b[0mX\u001b[0m\u001b[0;34m,\u001b[0m \u001b[0;34m*\u001b[0m\u001b[0margs\u001b[0m\u001b[0;34m,\u001b[0m \u001b[0;34m**\u001b[0m\u001b[0mkwargs\u001b[0m\u001b[0;34m)\u001b[0m\u001b[0;34m:\u001b[0m\u001b[0;34m\u001b[0m\u001b[0;34m\u001b[0m\u001b[0m\n\u001b[0;32m--> 140\u001b[0;31m         \u001b[0mdata_to_wrap\u001b[0m \u001b[0;34m=\u001b[0m \u001b[0mf\u001b[0m\u001b[0;34m(\u001b[0m\u001b[0mself\u001b[0m\u001b[0;34m,\u001b[0m \u001b[0mX\u001b[0m\u001b[0;34m,\u001b[0m \u001b[0;34m*\u001b[0m\u001b[0margs\u001b[0m\u001b[0;34m,\u001b[0m \u001b[0;34m**\u001b[0m\u001b[0mkwargs\u001b[0m\u001b[0;34m)\u001b[0m\u001b[0;34m\u001b[0m\u001b[0;34m\u001b[0m\u001b[0m\n\u001b[0m\u001b[1;32m    141\u001b[0m         \u001b[0;32mif\u001b[0m \u001b[0misinstance\u001b[0m\u001b[0;34m(\u001b[0m\u001b[0mdata_to_wrap\u001b[0m\u001b[0;34m,\u001b[0m \u001b[0mtuple\u001b[0m\u001b[0;34m)\u001b[0m\u001b[0;34m:\u001b[0m\u001b[0;34m\u001b[0m\u001b[0;34m\u001b[0m\u001b[0m\n\u001b[1;32m    142\u001b[0m             \u001b[0;31m# only wrap the first output for cross decomposition\u001b[0m\u001b[0;34m\u001b[0m\u001b[0;34m\u001b[0m\u001b[0m\n",
            "\u001b[0;32m/usr/local/lib/python3.10/dist-packages/sklearn/base.py\u001b[0m in \u001b[0;36mfit_transform\u001b[0;34m(self, X, y, **fit_params)\u001b[0m\n\u001b[1;32m    879\u001b[0m         \u001b[0;32melse\u001b[0m\u001b[0;34m:\u001b[0m\u001b[0;34m\u001b[0m\u001b[0;34m\u001b[0m\u001b[0m\n\u001b[1;32m    880\u001b[0m             \u001b[0;31m# fit method of arity 2 (supervised transformation)\u001b[0m\u001b[0;34m\u001b[0m\u001b[0;34m\u001b[0m\u001b[0m\n\u001b[0;32m--> 881\u001b[0;31m             \u001b[0;32mreturn\u001b[0m \u001b[0mself\u001b[0m\u001b[0;34m.\u001b[0m\u001b[0mfit\u001b[0m\u001b[0;34m(\u001b[0m\u001b[0mX\u001b[0m\u001b[0;34m,\u001b[0m \u001b[0my\u001b[0m\u001b[0;34m,\u001b[0m \u001b[0;34m**\u001b[0m\u001b[0mfit_params\u001b[0m\u001b[0;34m)\u001b[0m\u001b[0;34m.\u001b[0m\u001b[0mtransform\u001b[0m\u001b[0;34m(\u001b[0m\u001b[0mX\u001b[0m\u001b[0;34m)\u001b[0m\u001b[0;34m\u001b[0m\u001b[0;34m\u001b[0m\u001b[0m\n\u001b[0m\u001b[1;32m    882\u001b[0m \u001b[0;34m\u001b[0m\u001b[0m\n\u001b[1;32m    883\u001b[0m \u001b[0;34m\u001b[0m\u001b[0m\n",
            "\u001b[0;32m/usr/local/lib/python3.10/dist-packages/sklearn/feature_selection/_univariate_selection.py\u001b[0m in \u001b[0;36mfit\u001b[0;34m(self, X, y)\u001b[0m\n\u001b[1;32m    469\u001b[0m         )\n\u001b[1;32m    470\u001b[0m \u001b[0;34m\u001b[0m\u001b[0m\n\u001b[0;32m--> 471\u001b[0;31m         \u001b[0mself\u001b[0m\u001b[0;34m.\u001b[0m\u001b[0m_check_params\u001b[0m\u001b[0;34m(\u001b[0m\u001b[0mX\u001b[0m\u001b[0;34m,\u001b[0m \u001b[0my\u001b[0m\u001b[0;34m)\u001b[0m\u001b[0;34m\u001b[0m\u001b[0;34m\u001b[0m\u001b[0m\n\u001b[0m\u001b[1;32m    472\u001b[0m         \u001b[0mscore_func_ret\u001b[0m \u001b[0;34m=\u001b[0m \u001b[0mself\u001b[0m\u001b[0;34m.\u001b[0m\u001b[0mscore_func\u001b[0m\u001b[0;34m(\u001b[0m\u001b[0mX\u001b[0m\u001b[0;34m,\u001b[0m \u001b[0my\u001b[0m\u001b[0;34m)\u001b[0m\u001b[0;34m\u001b[0m\u001b[0;34m\u001b[0m\u001b[0m\n\u001b[1;32m    473\u001b[0m         \u001b[0;32mif\u001b[0m \u001b[0misinstance\u001b[0m\u001b[0;34m(\u001b[0m\u001b[0mscore_func_ret\u001b[0m\u001b[0;34m,\u001b[0m \u001b[0;34m(\u001b[0m\u001b[0mlist\u001b[0m\u001b[0;34m,\u001b[0m \u001b[0mtuple\u001b[0m\u001b[0;34m)\u001b[0m\u001b[0;34m)\u001b[0m\u001b[0;34m:\u001b[0m\u001b[0;34m\u001b[0m\u001b[0;34m\u001b[0m\u001b[0m\n",
            "\u001b[0;32m/usr/local/lib/python3.10/dist-packages/sklearn/feature_selection/_univariate_selection.py\u001b[0m in \u001b[0;36m_check_params\u001b[0;34m(self, X, y)\u001b[0m\n\u001b[1;32m    670\u001b[0m     \u001b[0;32mdef\u001b[0m \u001b[0m_check_params\u001b[0m\u001b[0;34m(\u001b[0m\u001b[0mself\u001b[0m\u001b[0;34m,\u001b[0m \u001b[0mX\u001b[0m\u001b[0;34m,\u001b[0m \u001b[0my\u001b[0m\u001b[0;34m)\u001b[0m\u001b[0;34m:\u001b[0m\u001b[0;34m\u001b[0m\u001b[0;34m\u001b[0m\u001b[0m\n\u001b[1;32m    671\u001b[0m         \u001b[0;32mif\u001b[0m \u001b[0;32mnot\u001b[0m \u001b[0misinstance\u001b[0m\u001b[0;34m(\u001b[0m\u001b[0mself\u001b[0m\u001b[0;34m.\u001b[0m\u001b[0mk\u001b[0m\u001b[0;34m,\u001b[0m \u001b[0mstr\u001b[0m\u001b[0;34m)\u001b[0m \u001b[0;32mand\u001b[0m \u001b[0mself\u001b[0m\u001b[0;34m.\u001b[0m\u001b[0mk\u001b[0m \u001b[0;34m>\u001b[0m \u001b[0mX\u001b[0m\u001b[0;34m.\u001b[0m\u001b[0mshape\u001b[0m\u001b[0;34m[\u001b[0m\u001b[0;36m1\u001b[0m\u001b[0;34m]\u001b[0m\u001b[0;34m:\u001b[0m\u001b[0;34m\u001b[0m\u001b[0;34m\u001b[0m\u001b[0m\n\u001b[0;32m--> 672\u001b[0;31m             raise ValueError(\n\u001b[0m\u001b[1;32m    673\u001b[0m                 \u001b[0;34mf\"k should be <= n_features = {X.shape[1]}; \"\u001b[0m\u001b[0;34m\u001b[0m\u001b[0;34m\u001b[0m\u001b[0m\n\u001b[1;32m    674\u001b[0m                 \u001b[0;34mf\"got {self.k}. Use k='all' to return all features.\"\u001b[0m\u001b[0;34m\u001b[0m\u001b[0;34m\u001b[0m\u001b[0m\n",
            "\u001b[0;31mValueError\u001b[0m: k should be <= n_features = 1023; got 1050. Use k='all' to return all features."
          ]
        }
      ],
      "source": [
        "folds = 10\n",
        "y = y.ravel()\n",
        "\n",
        "for k in tqdm(j):\n",
        "    for name, fs_method in methods.items():\n",
        "        if name == \"pso\":\n",
        "          continue\n",
        "\n",
        "        train_accs = []\n",
        "        test_accs = []\n",
        "        skf = StratifiedKFold(n_splits=folds, random_state=1234, shuffle=True)\n",
        "\n",
        "        for train, test in skf.split(X, y):\n",
        "            X_train, X_test = (X.iloc[train], X.iloc[test])\n",
        "            y_train, y_test = y[train], y[test]\n",
        "            X_train, X_test = normalize(X_train, X_test)\n",
        "\n",
        "            fs = SelectKBest(fs_method, k=k)\n",
        "            X_train = fs.fit_transform(X_train, y_train)\n",
        "            X_test = fs.transform(X_test)\n",
        "\n",
        "            model = svm(penalty='l1', dual=False, tol=1e-3, max_iter=5_000)\n",
        "            clf = model.fit(X_train, y_train)\n",
        "\n",
        "            y_predict = model.predict(X_train)\n",
        "            train_acc = balanced_accuracy_score(y_train, y_predict)\n",
        "            train_accs.append(train_acc)\n",
        "            y_predict = model.predict(X_test)\n",
        "            test_acc = balanced_accuracy_score(y_test, y_predict)\n",
        "            test_accs.append(test_acc)\n",
        "\n",
        "        no_fea = k\n",
        "        results[name].append((no_fea, np.mean(train_accs), np.mean(test_accs)))"
      ]
    },
    {
      "cell_type": "code",
      "execution_count": 24,
      "metadata": {
        "id": "xtXyU5eZx-6w"
      },
      "outputs": [],
      "source": [
        "with open('results-full-cloud.pkl', 'wb+') as f:\n",
        "    pickle.dump(results, f)"
      ]
    },
    {
      "cell_type": "code",
      "source": [
        "for name, result in results.items():\n",
        "    if name == \"pso\":\n",
        "        assert len(result) == 30, f\"There are {len(result)} independent runs of PSO\"\n",
        "    else:\n",
        "        assert len(result) == 96, f\"There are {len(result)} results for {name}.\"\n",
        "\n",
        "print(results)"
      ],
      "metadata": {
        "colab": {
          "base_uri": "https://localhost:8080/",
          "height": 248
        },
        "id": "YlvHHrBk5g7L",
        "outputId": "33f6c7fb-afeb-4305-e60e-0020fd754c8b"
      },
      "execution_count": 27,
      "outputs": [
        {
          "output_type": "error",
          "ename": "AssertionError",
          "evalue": "There are 20 results for reliefF.",
          "traceback": [
            "\u001b[0;31m---------------------------------------------------------------------------\u001b[0m",
            "\u001b[0;31mAssertionError\u001b[0m                            Traceback (most recent call last)",
            "\u001b[0;32m<ipython-input-27-981304c75f68>\u001b[0m in \u001b[0;36m<cell line: 1>\u001b[0;34m()\u001b[0m\n\u001b[1;32m      3\u001b[0m         \u001b[0;32massert\u001b[0m \u001b[0mlen\u001b[0m\u001b[0;34m(\u001b[0m\u001b[0mresult\u001b[0m\u001b[0;34m)\u001b[0m \u001b[0;34m==\u001b[0m \u001b[0;36m30\u001b[0m\u001b[0;34m,\u001b[0m \u001b[0;34mf\"There are {len(result)} independent runs of PSO\"\u001b[0m\u001b[0;34m\u001b[0m\u001b[0;34m\u001b[0m\u001b[0m\n\u001b[1;32m      4\u001b[0m     \u001b[0;32melse\u001b[0m\u001b[0;34m:\u001b[0m\u001b[0;34m\u001b[0m\u001b[0;34m\u001b[0m\u001b[0m\n\u001b[0;32m----> 5\u001b[0;31m         \u001b[0;32massert\u001b[0m \u001b[0mlen\u001b[0m\u001b[0;34m(\u001b[0m\u001b[0mresult\u001b[0m\u001b[0;34m)\u001b[0m \u001b[0;34m==\u001b[0m \u001b[0;36m96\u001b[0m\u001b[0;34m,\u001b[0m \u001b[0;34mf\"There are {len(result)} results for {name}.\"\u001b[0m\u001b[0;34m\u001b[0m\u001b[0;34m\u001b[0m\u001b[0m\n\u001b[0m\u001b[1;32m      6\u001b[0m \u001b[0;34m\u001b[0m\u001b[0m\n\u001b[1;32m      7\u001b[0m \u001b[0mprint\u001b[0m\u001b[0;34m(\u001b[0m\u001b[0mresults\u001b[0m\u001b[0;34m)\u001b[0m\u001b[0;34m\u001b[0m\u001b[0;34m\u001b[0m\u001b[0m\n",
            "\u001b[0;31mAssertionError\u001b[0m: There are 20 results for reliefF."
          ]
        }
      ]
    },
    {
      "cell_type": "code",
      "execution_count": 30,
      "metadata": {
        "id": "O3fs1QSaMXPV",
        "colab": {
          "base_uri": "https://localhost:8080/",
          "height": 472
        },
        "outputId": "525303c3-9b00-41e1-c046-1e576344126b"
      },
      "outputs": [
        {
          "output_type": "display_data",
          "data": {
            "text/plain": [
              "<Figure size 640x480 with 1 Axes>"
            ],
            "image/png": "[encoded data removed]"
          },
          "metadata": {}
        }
      ],
      "source": [
        "dataset=\"Species\"\n",
        "\n",
        "for name, result in results.items():\n",
        "    if name == \"pso\":\n",
        "        continue\n",
        "    k, train, test = zip(*result)\n",
        "    plt.plot(k, train, label=name)\n",
        "\n",
        "plt.title(\"Train: Accuracy vs. No. Features\")\n",
        "plt.xlabel(\"No. Features\")\n",
        "plt.ylabel(\"Accuracy\")\n",
        "plt.legend()\n",
        "plt.savefig(fname=f\"accuracy-features-{dataset}-train\", dpi=500)\n",
        "plt.show()"
      ]
    },
    {
      "cell_type": "code",
      "execution_count": 31,
      "metadata": {
        "id": "k-6dez8J6RO1",
        "colab": {
          "base_uri": "https://localhost:8080/",
          "height": 472
        },
        "outputId": "d2b12a30-6c2a-4633-9175-a54610f390c4"
      },
      "outputs": [
        {
          "output_type": "display_data",
          "data": {
            "text/plain": [
              "<Figure size 640x480 with 1 Axes>"
            ],
            "image/png": "[encoded data removed]"
          },
          "metadata": {}
        }
      ],
      "source": [
        "for name, result in results.items():\n",
        "    if name == \"pso\":\n",
        "        continue\n",
        "    k, train, test = zip(*result)\n",
        "    plt.plot(k, test, label=name)\n",
        "\n",
        "plt.title(\"Test: Accuracy vs. No. Features\")\n",
        "plt.xlabel(\"No. Features\")\n",
        "plt.ylabel(\"Accuracy\")\n",
        "plt.legend()\n",
        "plt.savefig(fname=f\"accuracy-features-{dataset}-test\", dpi=500)\n",
        "plt.show()"
      ]
    },
    {
      "cell_type": "code",
      "execution_count": 33,
      "metadata": {
        "id": "uI3Kjkly5r78",
        "colab": {
          "base_uri": "https://localhost:8080/"
        },
        "outputId": "f4de2c15-c2fc-459a-b2c9-22a7d9416907"
      },
      "outputs": [
        {
          "output_type": "stream",
          "name": "stdout",
          "text": [
            "reliefF performed best at 500 features, with 1.0 training accuracy, and 1.0 test accuracy.\n",
            "mrmr performed best at 650 features, with 1.0 training accuracy, and 1.0 test accuracy.\n",
            "chi2 performed best at 50 features, with 1.0 training accuracy, and 1.0 test accuracy.\n",
            "Full-dataset with 1000 features, with 1.0 training accuracy, and 1.0 test accuracy.\n"
          ]
        }
      ],
      "source": [
        "for method, result in results.items():\n",
        "    if method == \"pso\":\n",
        "        continue\n",
        "    k, train, test = list(zip(*result))\n",
        "    best_k = np.argmax(test)\n",
        "    print(f\"{method} performed best at {k[best_k]} features, with {train[best_k]} training accuracy, and {test[best_k]} test accuracy.\")\n",
        "\n",
        "k, train, test = results['mrmr'][-1]\n",
        "print(f\"Full-dataset with {k} features, with {train} training accuracy, and {test} test accuracy.\")"
      ]
    },
    {
      "cell_type": "code",
      "execution_count": 36,
      "metadata": {
        "id": "OH2WH6qu8amG",
        "colab": {
          "base_uri": "https://localhost:8080/"
        },
        "outputId": "9708cfbd-73a8-421b-9556-4e2843eae317"
      },
      "outputs": [
        {
          "output_type": "stream",
          "name": "stdout",
          "text": [
            "\n",
            "\n",
            "+---------+--------+--------+--------+\n",
            "|  Method | Best K | Train  |  Test  |\n",
            "+---------+--------+--------+--------+\n",
            "| reliefF |  500   | 1.0000 | 1.0000 |\n",
            "|   mrmr  |  650   | 1.0000 | 1.0000 |\n",
            "|   chi2  |   50   | 1.0000 | 1.0000 |\n",
            "|   full  |  1000  | 1.0000 | 1.0000 |\n",
            "+---------+--------+--------+--------+\n"
          ]
        }
      ],
      "source": [
        "from prettytable import PrettyTable\n",
        "\n",
        "def show_results(results, label='Method'):\n",
        "    table = PrettyTable([label, 'Best K', 'Train', 'Test'])\n",
        "\n",
        "    for name, result in results.items():\n",
        "        if name == \"pso\":\n",
        "            continue\n",
        "        k, train, test = list(zip(*result))\n",
        "        best_k = np.argmax(test)\n",
        "        vals = [k[best_k], train[best_k], test[best_k]]\n",
        "        row = ['%.4f' % elem if i != 0 else elem for i, elem in enumerate(vals) ]\n",
        "        table.add_row(np.concatenate([[name], row]))\n",
        "\n",
        "    k, train, test = results['mrmr'][-1]\n",
        "    vals = [k, train, test]\n",
        "    row = ['%.4f' % elem if i != 0 else elem for i, elem in enumerate(vals) ]\n",
        "    table.add_row(np.concatenate([['full'], row]))\n",
        "\n",
        "    print('\\n') # tqdm messses with table border.\n",
        "    print(table)\n",
        "\n",
        "show_results(results)"
      ]
    }
  ],
  "metadata": {
    "colab": {
      "machine_shape": "hm",
      "provenance": [],
      "authorship_tag": "ABX9TyP6KhzqSBMGjkV/CnKZcXcP",
      "include_colab_link": true
    },
    "gpuClass": "standard",
    "kernelspec": {
      "display_name": "Python 3",
      "name": "python3"
    },
    "language_info": {
      "name": "python"
    }
  },
  "nbformat": 4,
  "nbformat_minor": 0
}