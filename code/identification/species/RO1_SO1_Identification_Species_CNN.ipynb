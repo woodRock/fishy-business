{
  "nbformat": 4,
  "nbformat_minor": 0,
  "metadata": {
    "colab": {
      "provenance": [],
      "gpuType": "T4",
      "authorship_tag": "ABX9TyOwS/wXbmcPwR12kKid0j4j",
      "include_colab_link": true
    },
    "kernelspec": {
      "name": "python3",
      "display_name": "Python 3"
    },
    "language_info": {
      "name": "python"
    },
    "accelerator": "GPU"
  },
  "cells": [
    {
      "cell_type": "markdown",
      "metadata": {
        "id": "view-in-github",
        "colab_type": "text"
      },
      "source": [
        "<a href=\"https://colab.research.google.com/github/woodRock/fishy-business/blob/main/code/identification/species/RO1_SO1_Identification_Species_CNN.ipynb\" target=\"_parent\"><img src=\"https://colab.research.google.com/assets/colab-badge.svg\" alt=\"Open In Colab\"/></a>"
      ]
    },
    {
      "cell_type": "markdown",
      "source": [
        "# Research Objective 1 - Identification, Subobjetive 1 - Fish species\n",
        "\n",
        "To identify a fish species, either Hoki or Mackeral, is a binary classification task.\n",
        "\n",
        "## Convolutional Neural Network (CNN)\n",
        "\n",
        "Convolutional Neural Network (CNN) is used to perform binary classification for the fish species identification task.\n"
      ],
      "metadata": {
        "id": "u5suJbKQTNzY"
      }
    },
    {
      "cell_type": "markdown",
      "source": [
        "Mount the google drive where the closed-source dataset is safely and privately stored."
      ],
      "metadata": {
        "id": "vt6vhFfGizQt"
      }
    },
    {
      "cell_type": "code",
      "execution_count": 1,
      "metadata": {
        "colab": {
          "base_uri": "https://localhost:8080/"
        },
        "id": "9s9dsHzmSwH7",
        "outputId": "1784496c-e94b-4c49-abda-073458d433e2"
      },
      "outputs": [
        {
          "output_type": "stream",
          "name": "stdout",
          "text": [
            "Mounted at /content/drive\n"
          ]
        },
        {
          "output_type": "execute_result",
          "data": {
            "text/plain": [
              "['Colab Notebooks',\n",
              " 'University',\n",
              " 'AI',\n",
              " 'profile.jpg',\n",
              " 'personal',\n",
              " 'ass3_example_solutions_marking_guides_2023_V2.docx',\n",
              " 'JAPA101: Handwriting Assignment - Part 2 - Creative Writing and Reflection.gdoc']"
            ]
          },
          "metadata": {},
          "execution_count": 1
        }
      ],
      "source": [
        "from google.colab import drive\n",
        "drive.mount('/content/drive')\n",
        "import os\n",
        "os.listdir('/content/drive/My Drive')"
      ]
    },
    {
      "cell_type": "markdown",
      "source": [],
      "metadata": {
        "id": "w6Eox3wNTkpe"
      }
    },
    {
      "cell_type": "markdown",
      "source": [
        "## Load the data\n",
        "\n",
        "To load an xlsx file into memory using Python, you can use the pandas library. The pandas library provides a read_excel() function that can be used to read an xlsx file into a DataFrame object.\n",
        "\n",
        "This code will join the strings in the path_array variable and print the resulting joined path. The output will be /usr/local/bin.\n",
        "\n",
        "Note that the * operator is used to unpack the path_array variable so that each element in the array is passed as a separate argument to the os.path.join() function. This allows the function to join the strings in the array together to form a valid path.\n",
        "\n",
        "To convert the feature names (column names) of a Pandas DataFrame to strings, you can use the DataFrame.columns.astype(str) method. This will convert the column names to strings and return a new index object."
      ],
      "metadata": {
        "id": "nEPV60W7YmqX"
      }
    },
    {
      "cell_type": "code",
      "source": [
        "import pandas as pd\n",
        "import matplotlib.pyplot as plt\n",
        "import matplotlib.ticker as ticker\n",
        "\n",
        "path = ['drive', 'MyDrive', 'AI', 'fish', 'REIMS_data.xlsx']\n",
        "path = os.path.join(*path)\n",
        "\n",
        "# Load the dataset\n",
        "data = pd.read_excel(path)"
      ],
      "metadata": {
        "id": "gPaRCdSHsLoB"
      },
      "execution_count": 2,
      "outputs": []
    },
    {
      "cell_type": "markdown",
      "source": [
        "# Statistical Methods\n"
      ],
      "metadata": {
        "id": "BdqnVEWOsd1J"
      }
    },
    {
      "cell_type": "markdown",
      "source": [
        "# Classification - Traditional Machine Learning Techniques"
      ],
      "metadata": {
        "id": "NOKQ21nBsSvQ"
      }
    },
    {
      "cell_type": "markdown",
      "source": [
        "# CNN"
      ],
      "metadata": {
        "id": "mGLWfzXKpQBz"
      }
    },
    {
      "cell_type": "markdown",
      "source": [
        "## Hyperparameters"
      ],
      "metadata": {
        "id": "WtA51eTzpRcX"
      }
    },
    {
      "cell_type": "code",
      "source": [
        "# Hyperparameters\n",
        "learning_rate = 1E-4 #@param {type:\"integer\"}\n",
        "batch_size = 64 # @param {type:\"integer\"}\n",
        "epochs = 2000 # @param {type:\"integer\"}"
      ],
      "metadata": {
        "id": "68Y7uBE9pUbK"
      },
      "execution_count": 3,
      "outputs": []
    },
    {
      "cell_type": "markdown",
      "source": [
        "# Pre-processing"
      ],
      "metadata": {
        "id": "NqLlBsg_ozc8"
      }
    },
    {
      "cell_type": "code",
      "source": [
        "import torch\n",
        "import numpy as np\n",
        "import torch.nn.functional as F\n",
        "from sklearn.model_selection import train_test_split\n",
        "from torch.utils.data import DataLoader, Dataset\n",
        "\n",
        "class CustomDataset(Dataset):\n",
        "\n",
        "    def __init__(self, samples, labels):\n",
        "        self.samples = torch.tensor(samples.to_numpy(), dtype=torch.float32)\n",
        "        self.labels = torch.tensor([np.array(ys) for ys in labels], dtype=torch.float32)\n",
        "\n",
        "        # Normalize the features to be between in [0,1]\n",
        "        self.samples = F.normalize(self.samples, dim = 0)\n",
        "\n",
        "        # full_batch_size = self.samples.shape[0]  # Get the batch size\n",
        "        # in_channels = 1  # The number of channels in each item\n",
        "        # sequence_length = self.samples[0].shape[0]  # Get the sequence length\n",
        "        # # Reshape the input data\n",
        "        # self.samples = self.samples.view(full_batch_size, in_channels, sequence_length)\n",
        "\n",
        "    def __len__(self):\n",
        "        return len(self.samples)\n",
        "\n",
        "    def __getitem__(self, idx):\n",
        "        return self.samples[idx], self.labels[idx]\n",
        "\n",
        "\n",
        "print(\"[INFO] Reading the dataset.\")\n",
        "raw = pd.read_excel(path)\n",
        "\n",
        "data = raw[~raw['m/z'].str.contains('HM')]\n",
        "data = data[~data['m/z'].str.contains('QC')]\n",
        "data = data[~data['m/z'].str.contains('HM')]\n",
        "X = data.drop('m/z', axis=1) # X contains only the features.\n",
        "# Onehot encoding for the class labels, e.g. [0,1] for Hoki, [1,0] for Mackeral.\n",
        "y = data['m/z'].apply(lambda x: [0,1] if 'H' in x else [1,0])\n",
        "y = np.array(y)\n",
        "\n",
        "# Evaluation parameters.\n",
        "train_split = 0.8\n",
        "val_split = 0.5 # 1/2 of 20%, validation and test, 10% and 10%, respectively.\n",
        "# print(f\"[DEBUG] train_split, val_split, test_split: ({train_split},{val_split},{test_split})\")\n",
        "\n",
        "# Step 2: Split your dataset into training, validation, and testing sets\n",
        "X_train, X_temp, y_train, y_temp = train_test_split(X, y, test_size=(1-train_split))#, random_state=42)\n",
        "X_val, X_test, y_val, y_test = train_test_split(X_temp, y_temp, test_size=val_split)#, random_state=42)\n",
        "# X_train, X_temp, y_train, y_temp = train_test_split(X, y, test_size=(1-train_split), random_state=42)\n",
        "# X_val, X_test, y_val, y_test = train_test_split(X_temp, y_temp, test_size=val_split, random_state=42)\n",
        "\n",
        "train_dataset = CustomDataset(X_train, y_train)\n",
        "val_dataset = CustomDataset(X_val, y_val)\n",
        "test_dataset = CustomDataset(X_test, y_test)\n",
        "\n",
        "assert train_dataset.samples.shape[0] == train_dataset.labels.shape[0] , \"train_dataset samples and labels should have same length.\"\n",
        "assert val_dataset.samples.shape[0] == val_dataset.labels.shape[0] , \"train_dataset samples and labels should have same length.\"\n",
        "assert test_dataset.samples.shape[0] == test_dataset.labels.shape[0] , \"train_dataset samples and labels should have same length.\"\n",
        "\n",
        "# Step 4: Create PyTorch DataLoaders\n",
        "train_loader = DataLoader(train_dataset, batch_size=batch_size, shuffle=True)\n",
        "val_loader = DataLoader(val_dataset, batch_size=batch_size, shuffle=False)\n",
        "test_loader = DataLoader(test_dataset, batch_size=batch_size, shuffle=False)\n",
        "\n",
        "# calculate steps per epoch for training and validation set\n",
        "train_steps = len(train_loader.dataset) // batch_size\n",
        "val_steps = len(val_loader.dataset) // batch_size\n",
        "# when batch_size greater than dataset size, avoid division by zero.\n",
        "train_steps = max(1, train_steps)\n",
        "val_steps = max(1, val_steps)"
      ],
      "metadata": {
        "colab": {
          "base_uri": "https://localhost:8080/"
        },
        "id": "8ZBX4pTprxQN",
        "outputId": "ad3c9a0f-a25e-477a-8e3f-e19d67fe28bd"
      },
      "execution_count": 4,
      "outputs": [
        {
          "output_type": "stream",
          "name": "stdout",
          "text": [
            "[INFO] Reading the dataset.\n"
          ]
        },
        {
          "output_type": "stream",
          "name": "stderr",
          "text": [
            "<ipython-input-4-4c32d20d735a>:11: UserWarning: Creating a tensor from a list of numpy.ndarrays is extremely slow. Please consider converting the list to a single numpy.ndarray with numpy.array() before converting to a tensor. (Triggered internally at ../torch/csrc/utils/tensor_new.cpp:261.)\n",
            "  self.labels = torch.tensor([np.array(ys) for ys in labels], dtype=torch.float32)\n"
          ]
        }
      ]
    },
    {
      "cell_type": "markdown",
      "source": [
        "# CNN"
      ],
      "metadata": {
        "id": "E6D_L3XasM5v"
      }
    },
    {
      "cell_type": "code",
      "source": [
        "import torch\n",
        "import torch.nn\n",
        "import torch.nn.functional as F\n",
        "from torch.nn import Module, Conv1d, Linear, MaxPool1d, AdaptiveAvgPool1d, Dropout, ReLU, LeakyReLU, GELU, Sigmoid, LogSoftmax, Softmax, CrossEntropyLoss, BatchNorm1d, LayerNorm\n",
        "from torch import flatten\n",
        "from torch.optim import Adam, AdamW\n",
        "from torch import nn\n",
        "import numpy as np\n",
        "import matplotlib.pyplot as plt\n",
        "import time\n",
        "\n",
        "\n",
        "class LeNet(Module):\n",
        "\n",
        "\n",
        "    def __init__(self, shape):\n",
        "        \"\"\"\n",
        "        A simple convolutional neural network, based on LeNet from (LeCun 1989)\n",
        "\n",
        "        Args:\n",
        "            shape (np-like): the architecture for the CNN.\n",
        "            for\n",
        "                (input, hidden, output) = shape\n",
        "            where\n",
        "                input - number of features.\n",
        "                hidden - dimensions for hidden layer(s).\n",
        "                output - number of classes.\n",
        "\n",
        "        References:\n",
        "        1. LeCun, Y. (1989). Generalization and network design strategies.\n",
        "            Connectionism in perspective, 19(143-155), 18.\n",
        "        2. LeCun, Y., Boser, B., Denker, J., Henderson, D., Howard,\n",
        "            R., Hubbard, W., & Jackel, L. (1989).\n",
        "            Handwritten digit recognition with a back-propagation network.\n",
        "            Advances in neural information processing systems, 2.\n",
        "        3. LeCun, Y., Boser, B., Denker, J. S., Henderson, D., Howard, R. E.,\n",
        "            Hubbard, W., & Jackel, L. D. (1989).\n",
        "            Backpropagation applied to handwritten zip code recognition.\n",
        "            Neural computation, 1(4), 541-551.\n",
        "        \"\"\"\n",
        "        super(LeNet, self).__init__()\n",
        "        self.shape = shape\n",
        "        (input, hidden, output) = shape\n",
        "        activation = GELU()\n",
        "\n",
        "        # First convolutional layer\n",
        "        self.conv1 = Conv1d(in_channels=1, out_channels=64, kernel_size=5)\n",
        "        self.batchnorm1 = BatchNorm1d(64)\n",
        "        self.activation1 = activation\n",
        "        self.maxpool1 = MaxPool1d(kernel_size=2, stride=2)\n",
        "        self.dropout1 = Dropout(p=0.5)\n",
        "\n",
        "        # Second convolutional layer\n",
        "        self.conv2 = Conv1d(in_channels=64, out_channels=128, kernel_size=5)\n",
        "        self.batchnorm2 = BatchNorm1d(128)\n",
        "        self.activation2 = activation\n",
        "        self.maxpool2 = MaxPool1d(kernel_size=2, stride=2)\n",
        "        self.dropout2 = Dropout(p=0.5)\n",
        "\n",
        "        # # # Third convolutional layer\n",
        "        # self.conv3 = Conv1d(in_channels=16, out_channels=32, kernel_size=5)\n",
        "        # self.activation3 = LeakyReLU()\n",
        "        # self.maxpool3 = MaxPool1d(kernel_size=2, stride=2)\n",
        "        # self.dropout3 = Dropout(p=0.5)\n",
        "\n",
        "        # # Fourth convolutional layer\n",
        "        # self.conv4 = Conv1d(in_channels=32, out_channels=64, kernel_size=5)\n",
        "        # self.activation4 = LeakyReLU()\n",
        "        # self.maxpool4 = MaxPool1d(kernel_size=2, stride=2)\n",
        "        # self.dropout4 = Dropout(p=0.5)\n",
        "\n",
        "        # Fully connected layer 1\n",
        "        self.flatten = lambda x: flatten(x, 1)\n",
        "        self.fc1 = Linear(in_features=32256, out_features=800)  # With 4 convolutional layers\n",
        "        self.dropout5 = Dropout(p=0.5)\n",
        "\n",
        "        # self.fc1 = Linear(in_features=8064, out_features=800) # With 2 convolutional layers\n",
        "\n",
        "        self.batchnorm3 = BatchNorm1d(800)\n",
        "        self.activation5 = activation\n",
        "\n",
        "        # # Fully connetcted layer 2\n",
        "        # self.fc2 = Linear(in_features=800, out_features=500)\n",
        "        # self.activation6 = activation\n",
        "\n",
        "        # Fully connected layer 3\n",
        "        self.fc3 = Linear(in_features=800, out_features=output)\n",
        "        # Output layer.\n",
        "        self.batchnorm4 = BatchNorm1d(output)\n",
        "        self.activation7 = LogSoftmax(dim=1)\n",
        "        # self.softmax = Softmax()\n",
        "\n",
        "        self.layers = layers = [\n",
        "            self.conv1, self.batchnorm1, self.activation1, self.maxpool1, # First layer\n",
        "            self.dropout1, # Regularization\n",
        "            self.conv2, self.batchnorm2, self.activation2, self.maxpool2, # Second layer\n",
        "            self.dropout2, # Regularization\n",
        "            # self.conv3, self.activation3, self.maxpool3, # Third layer\n",
        "            # self.dropout3, # Regularization\n",
        "            # self.conv4, self.activation4, self.maxpool4, # Fourth layer\n",
        "            # self.dropout4, # Regularization\n",
        "            self.flatten,\n",
        "            self.fc1, self.batchnorm3, self.activation5, # Fifth layer\n",
        "            self.dropout5,\n",
        "            # self.fc2, self.activation6, # Sixth layer\n",
        "            self.fc3, self.batchnorm4, self.activation7 # Seventh layer\n",
        "        ]\n",
        "\n",
        "\n",
        "    def forward(self, x):\n",
        "        # Forward pass of the convolutional neural network.\n",
        "        for layer in self.layers:\n",
        "            x = layer(x)\n",
        "        return x\n",
        "\n",
        "print(\"[INFO] Initialize cuda environment\")\n",
        "device = torch.device(\"cuda\" if torch.cuda.is_available() else \"cpu\") # Use GPUs if available.\n",
        "\n",
        "print(\"[INFO] Initializing the LeNet model\")\n",
        "\n",
        "input = batch_size\n",
        "num_channels = 1\n",
        "output = 2\n",
        "model = LeNet(\n",
        "    shape = (\n",
        "        input, # Input\n",
        "         [num_channels, batch_size, batch_size, 124, 50], #Hidden\n",
        "        output) # Output\n",
        ")\n",
        "\n",
        "if torch.cuda.is_available():\n",
        "    model.to(\"cuda\")\n",
        "\n",
        "optimizer = AdamW(model.parameters(), lr=learning_rate)\n",
        "loss_function = CrossEntropyLoss()\n",
        "\n",
        "H = {\n",
        "    \"train_loss\": [],\n",
        "    \"train_acc\": [],\n",
        "    \"val_loss\": [],\n",
        "    \"val_acc\": []\n",
        "}\n",
        "\n",
        "print(\"[INFO] Training the network\")\n",
        "startTime = time.time()\n",
        "\n",
        "def pad_smaller_batch(batch, batch_size):\n",
        "    # Pad smaller batches with zeros to match the expected batch size\n",
        "\n",
        "    if len(batch[0]) < batch_size:\n",
        "       batch = [F.pad(tensor, (0, 0, 0, batch_size - tensor.size(0))) for tensor in batch]\n",
        "    return batch\n",
        "\n",
        "# Training the CNN model.\n",
        "for e in range(0, epochs):\n",
        "    # Puts the model in train mode.\n",
        "    model.train()\n",
        "\n",
        "    total_train_loss = 0\n",
        "    total_val_loss = 0\n",
        "\n",
        "    train_correct = 0\n",
        "    val_correct = 0\n",
        "\n",
        "    # Training routine\n",
        "    # Note: the benefit of using torch's DataLoader,\n",
        "    # is that is automatically yields batches of training data.\n",
        "    # This makes it ammeneable to training a deep neural network.\n",
        "    for (x,y) in train_loader:\n",
        "        (x,y) = (x.to(device), y.to(device))\n",
        "        prediction = model(x.unsqueeze(1))\n",
        "        loss = loss_function(prediction, y)\n",
        "        optimizer.zero_grad()  # 1. Zero out the gradients\n",
        "        loss.backward() # 2. Perform a backwards pass.\n",
        "        optimizer.step() # 3. Update the weights.\n",
        "        total_train_loss += loss\n",
        "        train_correct += (prediction.argmax(1) == y.argmax(1)).type(torch.float).sum().item()\n",
        "\n",
        "    # Evalulation routine\n",
        "    # no_grad() turns off gradient tracking and computation.\n",
        "    with torch.no_grad():\n",
        "        # Puts the model in evaluation mode.\n",
        "        model.eval()\n",
        "        for (x,y) in val_loader:\n",
        "            (x,y) = (x.to(device), y.to(device))\n",
        "            prediction = model(x.unsqueeze(1))\n",
        "            total_val_loss = loss_function(prediction,y)\n",
        "            val_correct += (prediction.argmax(1) == y.argmax(1)).type(torch.float).sum().item()\n",
        "\n",
        "    # calculate the average training and validation loss\n",
        "    avgTrainLoss = total_train_loss / train_steps\n",
        "    avgValLoss = total_val_loss / val_steps\n",
        "\n",
        "    # calculate the training and validation accuracy\n",
        "    trainCorrect = train_correct / len(train_loader.dataset)\n",
        "    valCorrect = val_correct / len(val_loader.dataset)\n",
        "\n",
        "    # update our training history\n",
        "    H[\"train_loss\"].append(avgTrainLoss.cpu().detach().numpy())\n",
        "    H[\"train_acc\"].append(trainCorrect)\n",
        "    H[\"val_loss\"].append(avgValLoss.cpu().detach().numpy())\n",
        "    H[\"val_acc\"].append(valCorrect)\n",
        "\n",
        "    # Print telemetry every 50 epochs, to avoid spamming standard out.\n",
        "    if e % 50 == 0:\n",
        "        # print the model training and validation information\n",
        "        print(\"[INFO] EPOCH: {}/{}\".format(e + 1, epochs))\n",
        "        print(\"Train loss: {:.6f}, Train accuracy: {:.4f}\".format(avgTrainLoss, trainCorrect))\n",
        "        print(\"Val loss: {:.6f}, Val accuracy: {:.4f}\\n\".format(avgValLoss, valCorrect))\n",
        "\n",
        "    # Early stopping\n",
        "    if valCorrect >= 1.00 and trainCorrect >= 1.00:\n",
        "        print(\"[INFO] Finished on => EPOCH: {}/{}\".format(e + 1, epochs))\n",
        "        print(\"Train loss: {:.6f}, Train accuracy: {:.4f}\".format(avgTrainLoss, trainCorrect))\n",
        "        print(\"Val loss: {:.6f}, Val accuracy: {:.4f}\\n\".format(avgValLoss, valCorrect))\n",
        "        break;\n",
        "\n",
        "# finish measuring how long training took\n",
        "endTime = time.time()\n",
        "print(\"[INFO] total time taken to train the model: {:.2f}s\".format(\n",
        "\tendTime - startTime))\n",
        "# we can now evaluate the network on the test set\n",
        "print(\"[INFO] evaluating network...\")\n",
        "\n",
        "# plot the training loss and accuracy\n",
        "plt.style.use(\"ggplot\")\n",
        "plt.figure()\n",
        "plt.plot(H[\"train_loss\"], label=\"train_loss\")\n",
        "plt.plot(H[\"val_loss\"], label=\"val_loss\")\n",
        "plt.plot(H[\"train_acc\"], label=\"train_acc\")\n",
        "plt.plot(H[\"val_acc\"], label=\"val_acc\")\n",
        "plt.title(\"Training Loss and Accuracy on Dataset\")\n",
        "plt.xlabel(\"Epoch #\")\n",
        "plt.ylabel(\"Loss/Accuracy\")\n",
        "plt.legend(loc=\"lower left\")\n",
        "plt.legend(bbox_to_anchor=(1.0, 1.0))\n",
        "plt.savefig(\"model_accuracy.png\")\n",
        "# serialize the model to disk\n",
        "# torch.save(model, \"model.h5\")"
      ],
      "metadata": {
        "colab": {
          "base_uri": "https://localhost:8080/",
          "height": 1000
        },
        "id": "yFhnqGlot9ki",
        "outputId": "4b042c0b-3304-416b-c00e-961e9ff8c631"
      },
      "execution_count": 14,
      "outputs": [
        {
          "output_type": "stream",
          "name": "stdout",
          "text": [
            "[INFO] Initialize cuda environment\n",
            "[INFO] Initializing the LeNet model\n",
            "[INFO] Training the network\n",
            "[INFO] EPOCH: 1/2000\n",
            "Train loss: 0.921106, Train accuracy: 0.6684\n",
            "Val loss: 0.687422, Val accuracy: 0.6087\n",
            "\n",
            "[INFO] EPOCH: 51/2000\n",
            "Train loss: 0.223644, Train accuracy: 1.0000\n",
            "Val loss: 0.353584, Val accuracy: 0.9565\n",
            "\n",
            "[INFO] EPOCH: 101/2000\n",
            "Train loss: 0.203281, Train accuracy: 1.0000\n",
            "Val loss: 0.484076, Val accuracy: 0.9565\n",
            "\n",
            "[INFO] EPOCH: 151/2000\n",
            "Train loss: 0.199712, Train accuracy: 1.0000\n",
            "Val loss: 0.456566, Val accuracy: 0.9565\n",
            "\n",
            "[INFO] EPOCH: 201/2000\n",
            "Train loss: 0.185524, Train accuracy: 1.0000\n",
            "Val loss: 0.391818, Val accuracy: 0.9565\n",
            "\n",
            "[INFO] EPOCH: 251/2000\n",
            "Train loss: 0.184725, Train accuracy: 1.0000\n",
            "Val loss: 0.383067, Val accuracy: 0.9565\n",
            "\n",
            "[INFO] EPOCH: 301/2000\n",
            "Train loss: 0.170666, Train accuracy: 1.0000\n",
            "Val loss: 0.363739, Val accuracy: 0.9565\n",
            "\n",
            "[INFO] EPOCH: 351/2000\n",
            "Train loss: 0.172589, Train accuracy: 1.0000\n",
            "Val loss: 0.405164, Val accuracy: 0.9565\n",
            "\n",
            "[INFO] EPOCH: 401/2000\n",
            "Train loss: 0.161918, Train accuracy: 1.0000\n",
            "Val loss: 0.365837, Val accuracy: 0.9565\n",
            "\n",
            "[INFO] EPOCH: 451/2000\n",
            "Train loss: 0.158594, Train accuracy: 1.0000\n",
            "Val loss: 0.374413, Val accuracy: 0.9565\n",
            "\n",
            "[INFO] EPOCH: 501/2000\n",
            "Train loss: 0.178833, Train accuracy: 1.0000\n",
            "Val loss: 0.343603, Val accuracy: 0.9565\n",
            "\n",
            "[INFO] EPOCH: 551/2000\n",
            "Train loss: 0.148574, Train accuracy: 1.0000\n",
            "Val loss: 0.347543, Val accuracy: 0.9565\n",
            "\n",
            "[INFO] EPOCH: 601/2000\n",
            "Train loss: 0.152405, Train accuracy: 1.0000\n",
            "Val loss: 0.335685, Val accuracy: 0.9565\n",
            "\n",
            "[INFO] EPOCH: 651/2000\n",
            "Train loss: 0.151516, Train accuracy: 1.0000\n",
            "Val loss: 0.340742, Val accuracy: 0.9565\n",
            "\n",
            "[INFO] EPOCH: 701/2000\n",
            "Train loss: 0.147664, Train accuracy: 1.0000\n",
            "Val loss: 0.348519, Val accuracy: 0.9565\n",
            "\n",
            "[INFO] EPOCH: 751/2000\n",
            "Train loss: 0.137522, Train accuracy: 1.0000\n",
            "Val loss: 0.352509, Val accuracy: 0.9565\n",
            "\n",
            "[INFO] EPOCH: 801/2000\n",
            "Train loss: 0.132235, Train accuracy: 1.0000\n",
            "Val loss: 0.350244, Val accuracy: 0.9565\n",
            "\n",
            "[INFO] EPOCH: 851/2000\n",
            "Train loss: 0.125814, Train accuracy: 1.0000\n",
            "Val loss: 0.368797, Val accuracy: 0.9565\n",
            "\n",
            "[INFO] EPOCH: 901/2000\n",
            "Train loss: 0.125034, Train accuracy: 1.0000\n",
            "Val loss: 0.353077, Val accuracy: 0.9565\n",
            "\n",
            "[INFO] EPOCH: 951/2000\n",
            "Train loss: 0.140164, Train accuracy: 1.0000\n",
            "Val loss: 0.354590, Val accuracy: 0.9565\n",
            "\n",
            "[INFO] EPOCH: 1001/2000\n",
            "Train loss: 0.120602, Train accuracy: 1.0000\n",
            "Val loss: 0.353170, Val accuracy: 0.9565\n",
            "\n",
            "[INFO] EPOCH: 1051/2000\n",
            "Train loss: 0.118343, Train accuracy: 1.0000\n",
            "Val loss: 0.336526, Val accuracy: 0.9565\n",
            "\n",
            "[INFO] EPOCH: 1101/2000\n",
            "Train loss: 0.113230, Train accuracy: 1.0000\n",
            "Val loss: 0.340209, Val accuracy: 0.9565\n",
            "\n",
            "[INFO] EPOCH: 1151/2000\n",
            "Train loss: 0.110907, Train accuracy: 1.0000\n",
            "Val loss: 0.347533, Val accuracy: 0.9565\n",
            "\n",
            "[INFO] EPOCH: 1201/2000\n",
            "Train loss: 0.105677, Train accuracy: 1.0000\n",
            "Val loss: 0.324187, Val accuracy: 0.9565\n",
            "\n",
            "[INFO] EPOCH: 1251/2000\n",
            "Train loss: 0.109684, Train accuracy: 1.0000\n",
            "Val loss: 0.332242, Val accuracy: 0.9565\n",
            "\n",
            "[INFO] EPOCH: 1301/2000\n",
            "Train loss: 0.110185, Train accuracy: 1.0000\n",
            "Val loss: 0.310192, Val accuracy: 0.9565\n",
            "\n",
            "[INFO] EPOCH: 1351/2000\n",
            "Train loss: 0.098995, Train accuracy: 1.0000\n",
            "Val loss: 0.312304, Val accuracy: 0.9565\n",
            "\n",
            "[INFO] EPOCH: 1401/2000\n",
            "Train loss: 0.095979, Train accuracy: 1.0000\n",
            "Val loss: 0.325001, Val accuracy: 0.9565\n",
            "\n",
            "[INFO] EPOCH: 1451/2000\n",
            "Train loss: 0.095383, Train accuracy: 1.0000\n",
            "Val loss: 0.308993, Val accuracy: 0.9565\n",
            "\n",
            "[INFO] EPOCH: 1501/2000\n",
            "Train loss: 0.106950, Train accuracy: 1.0000\n",
            "Val loss: 0.314686, Val accuracy: 0.9565\n",
            "\n",
            "[INFO] EPOCH: 1551/2000\n",
            "Train loss: 0.095420, Train accuracy: 1.0000\n",
            "Val loss: 0.290029, Val accuracy: 0.9565\n",
            "\n",
            "[INFO] EPOCH: 1601/2000\n",
            "Train loss: 0.090173, Train accuracy: 1.0000\n",
            "Val loss: 0.310152, Val accuracy: 0.9565\n",
            "\n",
            "[INFO] EPOCH: 1651/2000\n",
            "Train loss: 0.098928, Train accuracy: 1.0000\n",
            "Val loss: 0.289675, Val accuracy: 0.9565\n",
            "\n",
            "[INFO] EPOCH: 1701/2000\n",
            "Train loss: 0.082846, Train accuracy: 1.0000\n",
            "Val loss: 0.297246, Val accuracy: 0.9565\n",
            "\n",
            "[INFO] EPOCH: 1751/2000\n",
            "Train loss: 0.086850, Train accuracy: 1.0000\n",
            "Val loss: 0.291168, Val accuracy: 0.9565\n",
            "\n",
            "[INFO] EPOCH: 1801/2000\n",
            "Train loss: 0.080806, Train accuracy: 1.0000\n",
            "Val loss: 0.292652, Val accuracy: 0.9565\n",
            "\n",
            "[INFO] EPOCH: 1851/2000\n",
            "Train loss: 0.077532, Train accuracy: 1.0000\n",
            "Val loss: 0.284676, Val accuracy: 0.9565\n",
            "\n",
            "[INFO] EPOCH: 1901/2000\n",
            "Train loss: 0.080867, Train accuracy: 1.0000\n",
            "Val loss: 0.277959, Val accuracy: 0.9565\n",
            "\n",
            "[INFO] EPOCH: 1951/2000\n",
            "Train loss: 0.072625, Train accuracy: 1.0000\n",
            "Val loss: 0.268431, Val accuracy: 0.9565\n",
            "\n",
            "[INFO] total time taken to train the model: 5093.95s\n",
            "[INFO] evaluating network...\n"
          ]
        },
        {
          "output_type": "display_data",
          "data": {
            "text/plain": [
              "<Figure size 640x480 with 1 Axes>"
            ],
            "image/png": "[encoded data removed]"
          },
          "metadata": {}
        }
      ]
    },
    {
      "cell_type": "code",
      "source": [
        "# switch off autograd\n",
        "with torch.no_grad():\n",
        "    # loop over the test set\n",
        "    datasets = [(\"train\", train_loader), (\"validation\", val_loader), (\"test\", test_loader)]\n",
        "    for name, dataset in datasets:\n",
        "        for (x,y) in dataset:\n",
        "            (x,y) = (x.to(device), y.to(device))\n",
        "            y_true = y\n",
        "            pred = model(x.unsqueeze(1))\n",
        "            y_pred = pred.argmax(axis=1).cpu().numpy()\n",
        "            test_correct = (pred.argmax(1) == y.argmax(1)).type(torch.float).sum().item()\n",
        "            print(f\"[INFO] {name} accuracy {test_correct} / {len(x)}\")"
      ],
      "metadata": {
        "colab": {
          "base_uri": "https://localhost:8080/"
        },
        "id": "ZdP9FpGvjnzW",
        "outputId": "2bd5a82f-1f0c-44d4-ef3c-7c1f8b0fdc1c"
      },
      "execution_count": 15,
      "outputs": [
        {
          "output_type": "stream",
          "name": "stdout",
          "text": [
            "[INFO] train accuracy 64.0 / 64\n",
            "[INFO] train accuracy 64.0 / 64\n",
            "[INFO] train accuracy 59.0 / 59\n",
            "[INFO] validation accuracy 22.0 / 23\n",
            "[INFO] test accuracy 24.0 / 24\n"
          ]
        }
      ]
    },
    {
      "cell_type": "code",
      "source": [
        "# Run the CNN 30 times for statistical significance testing.\n",
        "# Also to allow comparison to other classification methods.\n",
        "\n",
        "run = {\n",
        "    \"1\" : (1,1),\n",
        "    \"2\" : (1,0.875),\n",
        "    \"3\" : (1,1),\n",
        "    \"4\" : (1,1),\n",
        "    \"5\" : (1,0.875),\n",
        "    \"6\" : (1,1),\n",
        "    \"7\" : (1,0.95833),\n",
        "    \"8\" : (1,1),\n",
        "    \"9\" : (1,1),\n",
        "    \"10\": (1,1),\n",
        "    \"11\": (1,1),\n",
        "    \"12\": (1,1),\n",
        "    \"13\": (1,0.95833),\n",
        "    \"14\": (1,1),\n",
        "    \"15\": (1,0.91666),\n",
        "    \"16\": (1,0.95833),\n",
        "    \"17\": (1,1),\n",
        "    \"18\": (1,0.95833),\n",
        "    \"19\": (1,0.95833),\n",
        "    \"20\": (1,1),\n",
        "    \"21\": (1,1),\n",
        "    \"22\": (1,1),\n",
        "    \"23\": (1,1),\n",
        "    \"24\": (1,1),\n",
        "    \"25\": (1,0.91666),\n",
        "    \"26\": (1,1),\n",
        "    \"27\": (1,1),\n",
        "    \"28\": (1,1),\n",
        "    \"29\": (1,1),\n",
        "    \"30\": (1,1)\n",
        "}"
      ],
      "metadata": {
        "id": "7-Gg3ImsyeJ2"
      },
      "execution_count": null,
      "outputs": []
    },
    {
      "cell_type": "code",
      "source": [
        "# V2 runs, updated architecture.\n",
        "\n",
        "# Run the CNN 30 times for statistical significance testing.\n",
        "# Also to allow comparison to other classification methods.\n",
        "\n",
        "run = {\n",
        "    \"1\" : (1,1),\n",
        "}"
      ],
      "metadata": {
        "id": "Y8LnWKxuxhoc"
      },
      "execution_count": 16,
      "outputs": []
    }
  ]
}