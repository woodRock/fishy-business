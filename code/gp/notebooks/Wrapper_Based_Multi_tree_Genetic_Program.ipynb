{
  "cells": [
    {
      "cell_type": "markdown",
      "metadata": {
        "id": "view-in-github",
        "colab_type": "text"
      },
      "source": [
        "<a href=\"https://colab.research.google.com/github/woodRock/fishy-business/blob/main/code/gp/notebooks/Wrapper_Based_Multi_tree_Genetic_Program.ipynb\" target=\"_parent\"><img src=\"https://colab.research.google.com/assets/colab-badge.svg\" alt=\"Open In Colab\"/></a>"
      ]
    },
    {
      "cell_type": "markdown",
      "metadata": {
        "id": "SAlW5BfrgjQk"
      },
      "source": [
        "# Multi-tree Genetic Program "
      ]
    },
    {
      "cell_type": "code",
      "execution_count": null,
      "metadata": {
        "colab": {
          "base_uri": "https://localhost:8080/"
        },
        "id": "NLL18yL7WWRt",
        "outputId": "9a6e9af3-f6e0-440a-b66b-551370a73820"
      },
      "outputs": [
        {
          "name": "stdout",
          "output_type": "stream",
          "text": [
            "Looking in indexes: https://pypi.org/simple, https://us-python.pkg.dev/colab-wheels/public/simple/\n",
            "Requirement already satisfied: deap in /usr/local/lib/python3.7/dist-packages (1.3.3)\n",
            "Requirement already satisfied: numpy in /usr/local/lib/python3.7/dist-packages (from deap) (1.21.6)\n",
            "Reading package lists... Done\n",
            "Building dependency tree       \n",
            "Reading state information... Done\n",
            "libgraphviz-dev is already the newest version (2.40.1-2).\n",
            "The following package was automatically installed and is no longer required:\n",
            "  libnvidia-common-460\n",
            "Use 'apt autoremove' to remove it.\n",
            "0 upgraded, 0 newly installed, 0 to remove and 20 not upgraded.\n",
            "Looking in indexes: https://pypi.org/simple, https://us-python.pkg.dev/colab-wheels/public/simple/\n",
            "Requirement already satisfied: pygraphviz in /usr/local/lib/python3.7/dist-packages (1.7)\n",
            "Looking in indexes: https://pypi.org/simple, https://us-python.pkg.dev/colab-wheels/public/simple/\n",
            "Requirement already satisfied: skfeature-chappers in /usr/local/lib/python3.7/dist-packages (1.1.0)\n",
            "Requirement already satisfied: pandas in /usr/local/lib/python3.7/dist-packages (from skfeature-chappers) (1.3.5)\n",
            "Requirement already satisfied: numpy in /usr/local/lib/python3.7/dist-packages (from skfeature-chappers) (1.21.6)\n",
            "Requirement already satisfied: scikit-learn in /usr/local/lib/python3.7/dist-packages (from skfeature-chappers) (1.0.2)\n",
            "Requirement already satisfied: pytz>=2017.3 in /usr/local/lib/python3.7/dist-packages (from pandas->skfeature-chappers) (2022.2.1)\n",
            "Requirement already satisfied: python-dateutil>=2.7.3 in /usr/local/lib/python3.7/dist-packages (from pandas->skfeature-chappers) (2.8.2)\n",
            "Requirement already satisfied: six>=1.5 in /usr/local/lib/python3.7/dist-packages (from python-dateutil>=2.7.3->pandas->skfeature-chappers) (1.15.0)\n",
            "Requirement already satisfied: scipy>=1.1.0 in /usr/local/lib/python3.7/dist-packages (from scikit-learn->skfeature-chappers) (1.7.3)\n",
            "Requirement already satisfied: joblib>=0.11 in /usr/local/lib/python3.7/dist-packages (from scikit-learn->skfeature-chappers) (1.1.0)\n",
            "Requirement already satisfied: threadpoolctl>=2.0.0 in /usr/local/lib/python3.7/dist-packages (from scikit-learn->skfeature-chappers) (3.1.0)\n"
          ]
        }
      ],
      "source": [
        "!pip install deap\n",
        "!apt install libgraphviz-dev\n",
        "!pip install pygraphviz\n",
        "!pip install skfeature-chappers"
      ]
    },
    {
      "cell_type": "code",
      "execution_count": null,
      "metadata": {
        "colab": {
          "base_uri": "https://localhost:8080/"
        },
        "id": "YCcCiUIvL40G",
        "outputId": "e5d49c5d-cf63-4369-88fd-a3dd4d492a1e"
      },
      "outputs": [
        {
          "name": "stdout",
          "output_type": "stream",
          "text": [
            "Drive already mounted at /content/drive; to attempt to forcibly remount, call drive.mount(\"/content/drive\", force_remount=True).\n"
          ]
        }
      ],
      "source": [
        "from google.colab import drive\n",
        "drive.mount('/content/drive')\n",
        "data_path_gdrive = '/content/drive/MyDrive/AI/Data'"
      ]
    },
    {
      "cell_type": "markdown",
      "metadata": {
        "id": "lD4BzYVvq9_j"
      },
      "source": [
        "## Data"
      ]
    },
    {
      "cell_type": "code",
      "execution_count": null,
      "metadata": {
        "colab": {
          "base_uri": "https://localhost:8080/"
        },
        "id": "r-0dl8EoqK0T",
        "outputId": "ba93fdee-b11f-4083-8ebf-07b7ce209bc6"
      },
      "outputs": [
        {
          "name": "stdout",
          "output_type": "stream",
          "text": [
            "Class Counts: [24 34 21 34 21 20], Class Ratios: [0.15584416 0.22077922 0.13636364 0.22077922 0.13636364 0.12987013]\n",
            "Number of features: 4800\n",
            "Number of instances: 154\n",
            "Number of classes 6.\n"
          ]
        }
      ],
      "source": [
        "\"\"\"\n",
        "Data - data.py\n",
        "==============\n",
        "\n",
        "This is the data module. It contains the functions for loading, preparing, normalizing and encoding the data.\n",
        "\"\"\"\n",
        "\n",
        "import numpy as np \n",
        "from sklearn.preprocessing import MinMaxScaler\n",
        "from sklearn import preprocessing\n",
        "import scipy.io\n",
        "\n",
        "\n",
        "def encode_labels(y, y_test=None):\n",
        "    \"\"\"\n",
        "    Convert text labels to numbers.\n",
        "\n",
        "    Args:\n",
        "        y: The labels.\n",
        "        y_test: The test labels. Defaults to None.\n",
        "    \"\"\"\n",
        "    le = preprocessing.LabelEncoder()\n",
        "    y = le.fit_transform(y)\n",
        "    if y_test is not None:\n",
        "        y_test = le.transform(y_test)\n",
        "    return y, y_test, le\n",
        "\n",
        "\n",
        "def load(filename, folder=''):\n",
        "    \"\"\"\n",
        "    Load the data from the mat file.\n",
        "\n",
        "    Args:\n",
        "        filename: The name of the mat file.\n",
        "        folder: The folder where the mat file is located.\n",
        "    \"\"\"\n",
        "    path = folder + \"/\" + filename\n",
        "    mat = scipy.io.loadmat(path)\n",
        "    return mat\n",
        "\n",
        "\n",
        "def prepare(mat):\n",
        "    \"\"\"\n",
        "    Load the data from matlab format into memory. \n",
        "\n",
        "    Args:\n",
        "        mat: The data in matlab format.\n",
        "    \"\"\"\n",
        "    X = mat['X']   \n",
        "    X = X.astype(float)\n",
        "    y = mat['Y']    \n",
        "    y = y[:, 0]\n",
        "    return X,y\n",
        "\n",
        "\n",
        "def normalize(X_train, X_test):\n",
        "    \"\"\"\n",
        "    Normalize the input features within range [0,1].\n",
        "\n",
        "    Args:\n",
        "        X_train: The training data.\n",
        "        X_test: The test data.\n",
        "    \"\"\"\n",
        "    scaler = MinMaxScaler(feature_range=(0, 1))\n",
        "    scaler = scaler.fit(X_train)\n",
        "    X_train = scaler.transform(X_train)\n",
        "    X_test = scaler.transform(X_test)\n",
        "    return X_train, X_test\n",
        "\n",
        "\n",
        "def one_hot_encoding(ys):\n",
        "    \"\"\" Convert a label to onehot encoding. A vector where its argmax, or 1 value, corresponds to the index of the class label. \n",
        "\n",
        "    Args: \n",
        "        ys: The class\n",
        "\n",
        "    Returngs: \n",
        "        one_hot: The class labels as onehot encoded vectors. \n",
        "    \"\"\"\n",
        "    n_instances, n_classes = len(ys), len(np.unique(ys))\n",
        "    one_hot = np.zeros((n_instances, n_classes))\n",
        "    for i,y in enumerate(ys):\n",
        "        one_hot[i][y] = 1 \n",
        "    return one_hot\n",
        "\n",
        "\n",
        "file = load('Part.mat', folder=data_path_gdrive)\n",
        "X,y = prepare(file)\n",
        "X,_ = normalize(X,X)\n",
        "y, _, le = encode_labels(y)\n",
        "labels = le.inverse_transform(np.unique(y))\n",
        "classes, class_counts = np.unique(y, return_counts=True)\n",
        "# y = one_hot_encoding(y)\n",
        "n_features = X.shape[1]\n",
        "n_instances = X.shape[0]\n",
        "n_classes = len(classes)\n",
        "class_ratios = np.array(class_counts) / n_instances\n",
        "\n",
        "print(f\"Class Counts: {class_counts}, Class Ratios: {class_ratios}\")\n",
        "print(f\"Number of features: {n_features}\\nNumber of instances: {n_instances}\\nNumber of classes {n_classes}.\")"
      ]
    },
    {
      "cell_type": "markdown",
      "metadata": {
        "id": "eanPjO3KB121"
      },
      "source": [
        "## Activation Function"
      ]
    },
    {
      "cell_type": "markdown",
      "metadata": {
        "id": "nP6upHxeyFX_"
      },
      "source": [
        "## Operators"
      ]
    },
    {
      "cell_type": "code",
      "execution_count": null,
      "metadata": {
        "id": "8AQBTITsyEzE"
      },
      "outputs": [],
      "source": [
        "import math\n",
        "import copy\n",
        "import random\n",
        "import operator\n",
        "from re import I\n",
        "from operator import attrgetter\n",
        "from functools import wraps, partial\n",
        "\n",
        "import numpy as np\n",
        "\n",
        "from deap import algorithms\n",
        "from deap.algorithms import varAnd\n",
        "from deap import base, creator, tools, gp\n",
        "from deap.gp import PrimitiveTree, Primitive, Terminal\n",
        "\n",
        "from sklearn.metrics import balanced_accuracy_score\n",
        "\n",
        "pset = gp.PrimitiveSet(\"MAIN\", n_features)\n",
        "pset.addPrimitive(operator.add, 2)\n",
        "pset.addPrimitive(operator.sub, 2)\n",
        "pset.addPrimitive(operator.mul, 2)\n",
        "pset.addPrimitive(operator.neg, 1)\n",
        "# pset.addEphemeralConstant(\"rand101\", lambda: random.randint(-1,1))"
      ]
    },
    {
      "cell_type": "markdown",
      "metadata": {
        "id": "Kejku7hWyMbO"
      },
      "source": [
        "## Fitness Function"
      ]
    },
    {
      "cell_type": "code",
      "execution_count": null,
      "metadata": {
        "id": "rQE3P3qLyMDr"
      },
      "outputs": [],
      "source": [
        "toolbox = base.Toolbox()\n",
        "\n",
        "minimized = False\n",
        "if minimized: \n",
        "    weight = -1.0 \n",
        "else: \n",
        "    weight = 1.0\n",
        "\n",
        "weights = (weight,) \n",
        "\n",
        "if minimized: \n",
        "    creator.create(\"FitnessMin\", base.Fitness, weights=weights)\n",
        "    creator.create(\"Individual\", list, fitness=creator.FitnessMin)\n",
        "else:\n",
        "    creator.create(\"FitnessMax\", base.Fitness, weights=weights)\n",
        "    creator.create(\"Individual\", list, fitness=creator.FitnessMax)\n",
        "\n",
        "def quick_evaluate(expr: PrimitiveTree, pset, data, prefix='ARG'):\n",
        "    result = None\n",
        "    stack = []\n",
        "    for node in expr:\n",
        "        stack.append((node, []))\n",
        "        while len(stack[-1][1]) == stack[-1][0].arity:\n",
        "            prim, args = stack.pop()\n",
        "            if isinstance(prim, Primitive):\n",
        "                result = pset.context[prim.name](*args)\n",
        "            elif isinstance(prim, Terminal):\n",
        "                if prefix in prim.name:\n",
        "                    result = data[:, int(prim.name.replace(prefix, ''))]\n",
        "                else:\n",
        "                    result = prim.value\n",
        "            else:\n",
        "                raise Exception\n",
        "            if len(stack) == 0:\n",
        "                break # If stack is empty, all nodes should have been seen\n",
        "            stack[-1][1].append(result)\n",
        "    return result\n",
        "\n",
        "def compileMultiTree(expr, pset):\n",
        "    \"\"\"Compile the expression represented by a list of trees. \n",
        "\n",
        "    A variation of the gp.compileADF method, that handles Multi-tree GP. \n",
        "\n",
        "    Args: \n",
        "        expr: Expression to compile. It can either be a PrimitiveTree,\n",
        "                 a string of Python code or any object that when\n",
        "                 converted into string produced a valid Python code\n",
        "                 expression.\n",
        "        pset: Primitive Set\n",
        "\n",
        "    Returns: \n",
        "        A set of functions that correspond for each tree in the Multi-tree. \n",
        "    \"\"\"\n",
        "    funcs = []\n",
        "    gp_tree = None\n",
        "    func = None\n",
        "\n",
        "    for subexpr in expr:\n",
        "        gp_tree = gp.PrimitiveTree(subexpr)\n",
        "        # func = gp.compile(gp_tree, pset)\n",
        "        # 5x speedup by manually parsing GP tree (Zhang 2022) https://mail.google.com/mail/u/0/#inbox/FMfcgzGqQmQthcqPCCNmstgLZlKGXvbc\n",
        "        func = quick_evaluate(gp_tree, pset, X, prefix='ARG')\n",
        "        funcs.append(func)\n",
        "    return funcs\n",
        "\n",
        "# MCIFC constructs 8 feautres for a (c=4) multi-class classification problem (Tran 2019).\n",
        "# c - number of classes, r - construction ratio, m - total number of constructed features.\n",
        "# m = r * c = 2 ratio * 4 classes = 8 features\n",
        "\n",
        "r = 2 \n",
        "c = n_classes \n",
        "m = r * c \n",
        "\n",
        "toolbox.register(\"expr\", gp.genHalfAndHalf, pset=pset, min_=1, max_=2)\n",
        "toolbox.register(\"individual\", tools.initRepeat, creator.Individual, toolbox.expr, n=m)\n",
        "toolbox.register(\"population\", tools.initRepeat, list, toolbox.individual)\n",
        "toolbox.register(\"compile\", compileMultiTree)"
      ]
    },
    {
      "cell_type": "code",
      "execution_count": null,
      "metadata": {
        "colab": {
          "base_uri": "https://localhost:8080/"
        },
        "id": "AcGYavg1D-77",
        "outputId": "bc2bf823-b288-4efc-d84c-4502a66acf16"
      },
      "outputs": [
        {
          "name": "stdout",
          "output_type": "stream",
          "text": [
            "5.62 ms ± 101 µs per loop (mean ± std. dev. of 7 runs, 100 loops each)\n",
            "7.3 µs ± 1.02 µs per loop (mean ± std. dev. of 7 runs, 100000 loops each)\n"
          ]
        }
      ],
      "source": [
        "first = toolbox.population(n=1)[0]\n",
        "\n",
        "subtree = first[0]\n",
        "gp_tree = gp.PrimitiveTree(subtree)\n",
        "\n",
        "%timeit gp.compile(gp_tree, pset)\n",
        "%timeit quick_evaluate(gp_tree, pset, X)"
      ]
    },
    {
      "cell_type": "code",
      "execution_count": null,
      "metadata": {
        "colab": {
          "base_uri": "https://localhost:8080/"
        },
        "id": "ryKFCvmusAlS",
        "outputId": "87ae2874-e8dd-44cd-ce2e-bad45a474e91"
      },
      "outputs": [
        {
          "name": "stdout",
          "output_type": "stream",
          "text": [
            "Train accuracy: 1.0, Test accuracy: 0.7670454545454546\n"
          ]
        },
        {
          "data": {
            "text/plain": [
              "1.0"
            ]
          },
          "execution_count": 7,
          "metadata": {},
          "output_type": "execute_result"
        }
      ],
      "source": [
        "from sklearn.svm import LinearSVC as svm\n",
        "from sklearn.model_selection import train_test_split\n",
        "\n",
        "def wrapper_classification_accuracy(X, verbose=False):\n",
        "    X_train, X_test, y_train, y_test = train_test_split(X, y, test_size=0.33, random_state=42)\n",
        "    X_train, X_test = normalize(X_train, X_test)\n",
        "    model = svm(penalty='l2', max_iter=10_000)\n",
        "    model.fit(X_train, y_train)\n",
        "    y_predict = model.predict(X_train)\n",
        "    train_acc = balanced_accuracy_score(y_train, y_predict)\n",
        "    y_predict = model.predict(X_test)\n",
        "    test_acc = balanced_accuracy_score(y_test, y_predict)\n",
        "\n",
        "    if verbose:\n",
        "        print(f\"Train accuracy: {train_acc}, Test accuracy: {test_acc}\")\n",
        "\n",
        "    return train_acc\n",
        "\n",
        "wrapper_classification_accuracy(X, verbose=True)"
      ]
    },
    {
      "cell_type": "code",
      "execution_count": 11,
      "metadata": {
        "colab": {
          "base_uri": "https://localhost:8080/"
        },
        "id": "_vOz-1Oislgd",
        "outputId": "504e41b4-b15c-4e7b-b3ab-d75a2e5fedb9"
      },
      "outputs": [
        {
          "output_type": "stream",
          "name": "stdout",
          "text": [
            "   \t      \t                             fitness                             \t                      size                     \n",
            "   \t      \t-----------------------------------------------------------------\t-----------------------------------------------\n",
            "gen\tnevals\tavg    \tgen\tmax     \tmin     \tnevals\tstd      \tavg    \tgen\tmax\tmin\tnevals\tstd    \n",
            "0  \t14400 \t0.45694\t0  \t0.689504\t0.273894\t14400 \t0.0503683\t6.50285\t0  \t7  \t3  \t14400 \t1.02591\n",
            "1  \t10834 \t0.518197\t1  \t0.693368\t0.360716\t10834 \t0.041078 \t6.59875\t1  \t13 \t3  \t10834 \t1.16236\n",
            "2  \t10883 \t0.558164\t2  \t0.722354\t0.37391 \t10883 \t0.0385817\t6.7034 \t2  \t16 \t3  \t10883 \t1.24695\n",
            "3  \t10952 \t0.589269\t3  \t0.752116\t0.417463\t10952 \t0.0389568\t6.84222\t3  \t17 \t3  \t10952 \t1.23529\n",
            "4  \t10814 \t0.616058\t4  \t0.752116\t0.433998\t10814 \t0.0399364\t6.97118\t4  \t15 \t3  \t10814 \t1.2392 \n",
            "5  \t10873 \t0.639743\t5  \t0.776985\t0.45796 \t10873 \t0.0407569\t7.10361\t5  \t19 \t3  \t10873 \t1.20258\n",
            "6  \t10792 \t0.660672\t6  \t0.776985\t0.456472\t10792 \t0.0406821\t7.19604\t6  \t16 \t3  \t10792 \t1.21145\n",
            "7  \t10904 \t0.678305\t7  \t0.792142\t0.469823\t10904 \t0.0410381\t7.23153\t7  \t17 \t4  \t10904 \t1.22764\n",
            "8  \t10980 \t0.694184\t8  \t0.800694\t0.483163\t10980 \t0.040945 \t7.27035\t8  \t19 \t3  \t10980 \t1.28702\n",
            "9  \t10918 \t0.707837\t9  \t0.813005\t0.495531\t10918 \t0.0418296\t7.30187\t9  \t17 \t3  \t10918 \t1.26367\n",
            "10 \t10908 \t0.721162\t10 \t0.826263\t0.505849\t10908 \t0.0412032\t7.39889\t10 \t18 \t4  \t10908 \t1.28584\n",
            "11 \t10914 \t0.733191\t11 \t0.828157\t0.486375\t10914 \t0.042216 \t7.47625\t11 \t16 \t3  \t10914 \t1.25205\n",
            "12 \t10852 \t0.746416\t12 \t0.841167\t0.522571\t10852 \t0.0418844\t7.56236\t12 \t16 \t4  \t10852 \t1.24181\n",
            "13 \t10851 \t0.756938\t13 \t0.862871\t0.54997 \t10851 \t0.0423393\t7.60118\t13 \t16 \t4  \t10851 \t1.26482\n",
            "14 \t10918 \t0.767168\t14 \t0.863889\t0.551468\t10918 \t0.0430336\t7.58729\t14 \t16 \t4  \t10918 \t1.27509\n",
            "15 \t10988 \t0.776754\t15 \t0.874635\t0.561026\t10988 \t0.04332  \t7.58868\t15 \t17 \t4  \t10988 \t1.31436\n",
            "16 \t10917 \t0.78569 \t16 \t0.874635\t0.540851\t10917 \t0.0438303\t7.65708\t16 \t19 \t4  \t10917 \t1.43408\n",
            "17 \t10879 \t0.795081\t17 \t0.884722\t0.541181\t10879 \t0.0441891\t7.75896\t17 \t19 \t4  \t10879 \t1.55952\n",
            "18 \t10932 \t0.803587\t18 \t0.884722\t0.588431\t10932 \t0.0444625\t7.80132\t18 \t21 \t4  \t10932 \t1.58396\n",
            "19 \t10833 \t0.814046\t19 \t0.892298\t0.575519\t10833 \t0.0442395\t7.81   \t19 \t19 \t4  \t10833 \t1.53397\n",
            "20 \t10959 \t0.824729\t20 \t0.899179\t0.603598\t10959 \t0.0431308\t7.87021\t20 \t17 \t4  \t10959 \t1.46379\n",
            "21 \t10848 \t0.833989\t21 \t0.905926\t0.558816\t10848 \t0.042875 \t7.9466 \t21 \t21 \t3  \t10848 \t1.46586\n",
            "22 \t10917 \t0.840777\t22 \t0.905926\t0.585837\t10917 \t0.0429981\t8.0041 \t22 \t19 \t4  \t10917 \t1.42684\n",
            "23 \t10924 \t0.847855\t23 \t0.91466 \t0.609475\t10924 \t0.0419831\t8.0434 \t23 \t19 \t5  \t10924 \t1.43561\n",
            "24 \t10951 \t0.852959\t24 \t0.920707\t0.605778\t10951 \t0.0421248\t8.0416 \t24 \t19 \t4  \t10951 \t1.41348\n",
            "25 \t10855 \t0.856672\t25 \t0.920707\t0.634673\t10855 \t0.042997 \t8.18528\t25 \t22 \t5  \t10855 \t1.45415\n",
            "26 \t10913 \t0.861764\t26 \t0.921036\t0.597277\t10913 \t0.0434331\t8.29986\t26 \t18 \t5  \t10913 \t1.36252\n",
            "27 \t10868 \t0.865383\t27 \t0.925442\t0.586902\t10868 \t0.0434956\t8.31986\t27 \t18 \t5  \t10868 \t1.32677\n",
            "28 \t10918 \t0.86811 \t28 \t0.933018\t0.592718\t10918 \t0.0454514\t8.38347\t28 \t18 \t5  \t10918 \t1.33522\n",
            "29 \t10854 \t0.872871\t29 \t0.943434\t0.596835\t10854 \t0.0464154\t8.43431\t29 \t17 \t5  \t10854 \t1.3631 \n",
            "30 \t10954 \t0.876279\t30 \t0.943434\t0.606999\t10954 \t0.0493509\t8.3934 \t30 \t18 \t5  \t10954 \t1.42722\n",
            "31 \t10967 \t0.880255\t31 \t0.943434\t0.597994\t10967 \t0.0503603\t8.22896\t31 \t17 \t5  \t10967 \t1.44497\n",
            "32 \t10874 \t0.882763\t32 \t0.943434\t0.609105\t10874 \t0.0511734\t8.17507\t32 \t17 \t5  \t10874 \t1.45821\n",
            "33 \t10867 \t0.883994\t33 \t0.943434\t0.613746\t10867 \t0.050772 \t8.24931\t33 \t17 \t5  \t10867 \t1.51532\n",
            "34 \t10886 \t0.888859\t34 \t0.943434\t0.622346\t10886 \t0.0491669\t8.18458\t34 \t18 \t5  \t10886 \t1.47576\n",
            "35 \t10930 \t0.896404\t35 \t0.943434\t0.620951\t10930 \t0.0482008\t7.89743\t35 \t17 \t5  \t10930 \t1.34654\n",
            "36 \t10924 \t0.90626 \t36 \t0.943434\t0.655896\t10924 \t0.045376 \t7.69653\t36 \t18 \t5  \t10924 \t1.21042\n",
            "37 \t10974 \t0.910985\t37 \t0.943434\t0.612511\t10974 \t0.0448255\t7.67687\t37 \t16 \t5  \t10974 \t1.15931\n",
            "38 \t11045 \t0.910741\t38 \t0.943434\t0.613864\t11045 \t0.0455583\t7.68701\t38 \t17 \t5  \t11045 \t1.15747\n",
            "39 \t10934 \t0.912062\t39 \t0.943434\t0.658001\t10934 \t0.0450101\t7.76132\t39 \t17 \t5  \t10934 \t1.24099\n",
            "40 \t10839 \t0.91205 \t40 \t0.943434\t0.638738\t10839 \t0.0455812\t7.86861\t40 \t18 \t5  \t10839 \t1.37   \n",
            "41 \t10932 \t0.912596\t41 \t0.943434\t0.649844\t10932 \t0.0454127\t8.00604\t41 \t20 \t5  \t10932 \t1.5228 \n",
            "42 \t10955 \t0.912382\t42 \t0.943434\t0.656879\t10955 \t0.04586  \t8.14944\t42 \t18 \t5  \t10955 \t1.66946\n",
            "43 \t10828 \t0.913426\t43 \t0.943434\t0.664671\t10828 \t0.0450098\t8.32125\t43 \t20 \t5  \t10828 \t1.81494\n",
            "44 \t10821 \t0.913036\t44 \t0.943434\t0.658424\t10821 \t0.0454891\t8.51632\t44 \t24 \t5  \t10821 \t1.94918\n",
            "45 \t10913 \t0.912258\t45 \t0.943434\t0.64496 \t10913 \t0.0462407\t8.66014\t45 \t22 \t5  \t10913 \t2.03884\n",
            "46 \t10885 \t0.91333 \t46 \t0.943434\t0.622928\t10885 \t0.0455993\t8.83333\t46 \t24 \t5  \t10885 \t2.17265\n",
            "47 \t10841 \t0.913232\t47 \t0.947475\t0.66096 \t10841 \t0.045196 \t8.98278\t47 \t24 \t5  \t10841 \t2.28448\n",
            "48 \t10831 \t0.912772\t48 \t0.947475\t0.664671\t10831 \t0.0459356\t9.07771\t48 \t24 \t5  \t10831 \t2.34236\n",
            "49 \t10832 \t0.912879\t49 \t0.947475\t0.640261\t10832 \t0.0457842\t9.16208\t49 \t24 \t5  \t10832 \t2.35634\n",
            "50 \t10934 \t0.912745\t50 \t0.947475\t0.669365\t10934 \t0.0453357\t9.22215\t50 \t24 \t5  \t10934 \t2.38834\n",
            "51 \t10893 \t0.912888\t51 \t0.947475\t0.646638\t10893 \t0.0455335\t9.29771\t51 \t24 \t5  \t10893 \t2.44078\n",
            "52 \t10943 \t0.91237 \t52 \t0.947475\t0.661248\t10943 \t0.0461799\t9.34792\t52 \t24 \t5  \t10943 \t2.46617\n",
            "53 \t10898 \t0.911864\t53 \t0.947475\t0.625769\t10898 \t0.0474641\t9.3809 \t53 \t24 \t5  \t10898 \t2.4311 \n",
            "54 \t10888 \t0.912117\t54 \t0.947475\t0.658912\t10888 \t0.0493809\t9.54174\t54 \t25 \t5  \t10888 \t2.4407 \n",
            "55 \t10920 \t0.912193\t55 \t0.962626\t0.647277\t10920 \t0.0513117\t9.7141 \t55 \t26 \t5  \t10920 \t2.45034\n",
            "56 \t10924 \t0.911132\t56 \t0.962626\t0.636166\t10924 \t0.0536979\t9.9284 \t56 \t25 \t5  \t10924 \t2.56928\n",
            "57 \t10827 \t0.912011\t57 \t0.962626\t0.604093\t10827 \t0.0533145\t10.156 \t57 \t25 \t5  \t10827 \t2.77957\n",
            "58 \t10931 \t0.911948\t58 \t0.962626\t0.592806\t10931 \t0.0532857\t10.3409\t58 \t29 \t5  \t10931 \t2.93186\n",
            "59 \t10869 \t0.911932\t59 \t0.962626\t0.59997 \t10869 \t0.0535513\t10.4644\t59 \t25 \t5  \t10869 \t3.10584\n",
            "60 \t10847 \t0.913571\t60 \t0.962626\t0.63812 \t10847 \t0.0527372\t10.2606\t60 \t25 \t5  \t10847 \t3.17186\n",
            "61 \t10919 \t0.914582\t61 \t0.962626\t0.591993\t10919 \t0.053396 \t9.48451\t61 \t25 \t5  \t10919 \t3.18458\n",
            "62 \t10857 \t0.920906\t62 \t0.962626\t0.658676\t10857 \t0.0515068\t8.18903\t62 \t25 \t5  \t10857 \t2.76093\n",
            "63 \t10845 \t0.923187\t63 \t0.962626\t0.658177\t10845 \t0.0527964\t7.38153\t63 \t25 \t5  \t10845 \t2.23513\n",
            "64 \t11004 \t0.924275\t64 \t0.962626\t0.666252\t11004 \t0.0530034\t7.23201\t64 \t25 \t5  \t11004 \t2.08773\n",
            "65 \t10962 \t0.924646\t65 \t0.963321\t0.651683\t10962 \t0.0534122\t7.22785\t65 \t25 \t5  \t10962 \t2.03766\n",
            "66 \t10842 \t0.924613\t66 \t0.963321\t0.64739 \t10842 \t0.0532016\t7.24639\t66 \t25 \t5  \t10842 \t2.01028\n",
            "67 \t10872 \t0.925061\t67 \t0.963321\t0.641713\t10872 \t0.0531824\t7.29271\t67 \t25 \t4  \t10872 \t1.99585\n",
            "68 \t10830 \t0.924833\t68 \t0.963321\t0.657699\t10830 \t0.0530187\t7.36326\t68 \t25 \t4  \t10830 \t1.96424\n",
            "69 \t10917 \t0.925297\t69 \t0.966491\t0.638507\t10917 \t0.053289 \t7.42417\t69 \t20 \t4  \t10917 \t1.9545 \n",
            "70 \t10994 \t0.925817\t70 \t0.973737\t0.672016\t10994 \t0.0525582\t7.49299\t70 \t20 \t4  \t10994 \t1.95685\n",
            "71 \t10887 \t0.924693\t71 \t0.973737\t0.669381\t10887 \t0.0531807\t7.53535\t71 \t19 \t5  \t10887 \t1.99872\n",
            "72 \t10840 \t0.926781\t72 \t0.973737\t0.639896\t10840 \t0.0513509\t7.50715\t72 \t21 \t5  \t10840 \t2.01631\n",
            "73 \t10915 \t0.928166\t73 \t0.973737\t0.667976\t10915 \t0.0497177\t7.28292\t73 \t21 \t5  \t10915 \t1.87752\n",
            "74 \t10916 \t0.931401\t74 \t0.973737\t0.682288\t10916 \t0.047344 \t7.23632\t74 \t21 \t5  \t10916 \t1.80414\n",
            "75 \t11002 \t0.932384\t75 \t0.973737\t0.671569\t11002 \t0.0476483\t7.65972\t75 \t20 \t5  \t11002 \t1.98807\n",
            "76 \t10782 \t0.936178\t76 \t0.973737\t0.667877\t10782 \t0.0478138\t8.36833\t76 \t24 \t6  \t10782 \t2.27996\n",
            "77 \t10771 \t0.938155\t77 \t0.973737\t0.700151\t10771 \t0.0480075\t8.89139\t77 \t24 \t5  \t10771 \t2.59522\n",
            "78 \t10917 \t0.937596\t78 \t0.973737\t0.686117\t10917 \t0.0486188\t9.17229\t78 \t26 \t6  \t10917 \t2.8074 \n",
            "79 \t10904 \t0.937563\t79 \t0.973737\t0.69095 \t10904 \t0.0492288\t9.39465\t79 \t26 \t6  \t10904 \t2.9572 \n",
            "80 \t10874 \t0.937105\t80 \t0.973737\t0.64832 \t10874 \t0.0503117\t9.72007\t80 \t26 \t6  \t10874 \t3.13066\n",
            "81 \t10821 \t0.937818\t81 \t0.973737\t0.694598\t10821 \t0.0496016\t10.0882\t81 \t26 \t6  \t10821 \t3.27921\n",
            "82 \t10786 \t0.938161\t82 \t0.973737\t0.670482\t10786 \t0.0496633\t10.4581\t82 \t26 \t6  \t10786 \t3.47957\n",
            "83 \t10846 \t0.938453\t83 \t0.973737\t0.671176\t10846 \t0.0499476\t10.8156\t83 \t30 \t6  \t10846 \t3.58135\n",
            "84 \t10895 \t0.938907\t84 \t0.973737\t0.674912\t10895 \t0.0497371\t11.1589\t84 \t28 \t5  \t10895 \t3.72102\n",
            "85 \t11042 \t0.937553\t85 \t0.973737\t0.681464\t11042 \t0.0505604\t11.4112\t85 \t28 \t6  \t11042 \t3.78251\n",
            "86 \t10915 \t0.938731\t86 \t0.973737\t0.665794\t10915 \t0.0500833\t11.7001\t86 \t29 \t5  \t10915 \t3.85864\n",
            "87 \t10892 \t0.938374\t87 \t0.973737\t0.676765\t10892 \t0.0498386\t11.866 \t87 \t28 \t5  \t10892 \t3.86143\n",
            "88 \t10847 \t0.938069\t88 \t0.973737\t0.688927\t10847 \t0.0507342\t12.0742\t88 \t30 \t5  \t10847 \t3.92439\n",
            "89 \t10917 \t0.938268\t89 \t0.973737\t0.689251\t10917 \t0.0498372\t12.2241\t89 \t32 \t6  \t10917 \t3.9278 \n",
            "90 \t10928 \t0.939362\t90 \t0.973737\t0.688381\t10928 \t0.0498986\t12.2794\t90 \t33 \t6  \t10928 \t3.96586\n",
            "91 \t10959 \t0.93766 \t91 \t0.973737\t0.66527 \t10959 \t0.0504154\t12.322 \t91 \t33 \t5  \t10959 \t3.92536\n",
            "92 \t10895 \t0.938094\t92 \t0.973737\t0.670312\t10895 \t0.0501915\t12.4281\t92 \t33 \t6  \t10895 \t3.98708\n",
            "93 \t10798 \t0.938868\t93 \t0.973737\t0.675041\t10798 \t0.0497064\t12.4808\t93 \t34 \t6  \t10798 \t3.96564\n",
            "94 \t10942 \t0.938374\t94 \t0.973737\t0.690522\t10942 \t0.0499956\t12.482 \t94 \t33 \t5  \t10942 \t3.99386\n",
            "95 \t10890 \t0.938258\t95 \t0.973737\t0.651935\t10890 \t0.0499933\t12.4974\t95 \t33 \t6  \t10890 \t3.98422\n",
            "96 \t10914 \t0.937974\t96 \t0.973737\t0.69938 \t10914 \t0.0507373\t12.5667\t96 \t34 \t6  \t10914 \t4.00936\n",
            "97 \t10884 \t0.938786\t97 \t0.973737\t0.63512 \t10884 \t0.0500185\t12.5346\t97 \t37 \t6  \t10884 \t3.97564\n",
            "98 \t10786 \t0.938157\t98 \t0.973737\t0.66003 \t10786 \t0.050378 \t12.5877\t98 \t33 \t5  \t10786 \t3.96956\n",
            "99 \t10935 \t0.937771\t99 \t0.973737\t0.696827\t10935 \t0.0504813\t12.6265\t99 \t35 \t5  \t10935 \t3.93179\n",
            "100\t10919 \t0.938164\t100\t0.973737\t0.687086\t10919 \t0.049872 \t12.6063\t100\t31 \t6  \t10919 \t3.94338\n"
          ]
        }
      ],
      "source": [
        "#  DEBUG : REMOVE THIS !!!\n",
        "import warnings\n",
        "warnings.filterwarnings('ignore') \n",
        "\n",
        "def xmate(ind1, ind2):\n",
        "    \"\"\" Reproduction operator for multi-tree GP, where trees are represented as a list.\n",
        "\n",
        "    Crossover happens to a subtree that is selected at random. \n",
        "    Crossover operations are limited to parents from the same tree.\n",
        "\n",
        "    FIXME: Have to compile the trees (manually), which is frustrating. \n",
        "    \n",
        "    Args: \n",
        "        ind1 (Individual): The first parent. \n",
        "        ind2 (Individual): The second parent \n",
        "\n",
        "    Returns:\n",
        "        ind1, ind2 (Individual, Individual): The children from the parents reproduction. \n",
        "    \"\"\"\n",
        "    n = range(len(ind1))\n",
        "    selected_tree_idx = random.choice(n)\n",
        "    for tree_idx in n:\n",
        "        g1, g2 = gp.PrimitiveTree(ind1[tree_idx]), gp.PrimitiveTree(ind2[tree_idx])\n",
        "        if tree_idx == selected_tree_idx:\n",
        "            ind1[tree_idx], ind2[tree_idx] = gp.cxOnePoint(g1, g2)\n",
        "        else: \n",
        "            ind1[tree_idx], ind2[tree_idx] = g1, g2\n",
        "    return ind1, ind2\n",
        "\n",
        "\n",
        "def xmut(ind, expr):\n",
        "    \"\"\" Mutation operator for multi-tree GP, where trees are represented as a list. \n",
        "\n",
        "    Mutation happens to a tree selected at random, when an individual is selected for crossover. \n",
        "\n",
        "    FIXME: Have to compile the trees (manually), which is frustrating. \n",
        "\n",
        "    Args: \n",
        "        ind: The individual, a list of GP trees. \n",
        "    \"\"\"\n",
        "    n = range(len(ind))\n",
        "    selected_tree_idx = random.choice(n)\n",
        "    for tree_idx in n:\n",
        "        g1 = gp.PrimitiveTree(ind[tree_idx])\n",
        "        if tree_idx == selected_tree_idx:\n",
        "            indx = gp.mutUniform(g1, expr, pset)\n",
        "            ind[tree_idx] = indx[0]\n",
        "        else:\n",
        "            ind[tree_idx] = g1\n",
        "    return ind,\n",
        "\n",
        "\n",
        "def evaluate_classification(individual, alpha = 0.9, verbose=False):\n",
        "    \"\"\" \n",
        "    Evalautes the fitness of an individual for multi-tree GP multi-class classification.\n",
        "\n",
        "    We maxmimize the fitness when we evaluate the accuracy + regularization term. \n",
        "\n",
        "    Args:  \n",
        "        individual (Individual): A candidate solution to be evaluated. \n",
        "        alpha (float): A parameter that balances the accuracy and regularization term. Defaults to 0.98.\n",
        "\n",
        "    Returns: \n",
        "        accuracy (tuple): The fitness of the individual.\n",
        "    \"\"\"  \n",
        "    funcs = toolbox.compile(expr=individual, pset=pset)\n",
        "    features = np.array(funcs).T \n",
        "    fitness = wrapper_classification_accuracy(features, verbose=verbose)\n",
        "\n",
        "    return fitness,\n",
        "\n",
        "\n",
        "toolbox.register('evaluate', evaluate_classification)\n",
        "toolbox.register(\"select\", tools.selTournament, tournsize=7)\n",
        "toolbox.register(\"mate\", xmate)\n",
        "toolbox.register(\"expr_mut\", gp.genFull, min_=0, max_=2)\n",
        "toolbox.register(\"mutate\", xmut, expr=toolbox.expr_mut)\n",
        "\n",
        "\n",
        "def staticLimit(key, max_value):\n",
        "    \"\"\"\n",
        "    A variation of gp.staticLimit that works for Multi-tree representation. \n",
        "    This works for our altered xmut and xmate genetic operators for mutli-tree GP. \n",
        "    If tree depth limit is exceeded, the genetic operator is reverted. \n",
        "\n",
        "    When an invalid (over the limit) child is generated,\n",
        "    it is simply replaced by one of its parents, randomly selected.\n",
        "    \n",
        "    Args:\n",
        "        key: The function to use in order the get the wanted value. For\n",
        "             instance, on a GP tree, ``operator.attrgetter('height')`` may\n",
        "             be used to set a depth limit, and ``len`` to set a size limit.\n",
        "        max_value: The maximum value allowed for the given measurement. \n",
        "             Defaults to 17, the suggested value in (Koza 1992)\n",
        "    \n",
        "    Returns: \n",
        "        A decorator that can be applied to a GP operator using \\\n",
        "        :func:`~deap.base.Toolbox.decorate`\n",
        "\n",
        "    References:\n",
        "        1. Koza, J. R. G. P. (1992). On the programming of computers by means \n",
        "            of natural selection. Genetic programming.\n",
        "    \"\"\"\n",
        "\n",
        "    def decorator(func):\n",
        "        @wraps(func)\n",
        "        def wrapper(*args, **kwargs):\n",
        "            keep_inds = [[copy.deepcopy(tree) for tree in ind] for ind in args]\n",
        "            new_inds = list(func(*args, **kwargs))\n",
        "            for ind_idx, ind in enumerate(new_inds):\n",
        "                for tree_idx, tree in enumerate(ind):\n",
        "                    if key(tree) > max_value:\n",
        "                        random_parent = random.choice(keep_inds)\n",
        "                        new_inds[ind_idx][tree_idx] = random_parent[tree_idx]\n",
        "            return new_inds\n",
        "        return wrapper\n",
        "    return decorator\n",
        "\n",
        "# See https://groups.google.com/g/deap-users/c/pWzR_q7mKJ0\n",
        "toolbox.decorate(\"mate\", staticLimit(key=operator.attrgetter(\"height\"), max_value=8))\n",
        "toolbox.decorate(\"mutate\", staticLimit(key=operator.attrgetter(\"height\"), max_value=8))\n",
        "\n",
        "\n",
        "def SimpleGPWithElitism(population, toolbox, cxpb, mutpb, ngen, stats=None,\n",
        "             halloffame=None, verbose=__debug__):\n",
        "    \"\"\"\n",
        "    Elitism for Multi-Tree GP for Multi-Class classification. \n",
        "    A variation of the eaSimple method from the DEAP library that supports \n",
        "\n",
        "    Elitism ensures the best individuals (the elite) from each generation are \n",
        "    carried onto the next without alteration. This ensures the quality of the \n",
        "    best solution monotonically increases over time. \n",
        "    \"\"\"\n",
        "    logbook = tools.Logbook()\n",
        "    logbook.header = ['gen', 'nevals'] + (stats.fields if stats else [])\n",
        "\n",
        "    invalid_ind = [ind for ind in population if not ind.fitness.valid]\n",
        "    fitnesses = toolbox.map(toolbox.evaluate, invalid_ind)\n",
        "    \n",
        "    for ind, fit in zip(invalid_ind, fitnesses):\n",
        "        ind.fitness.values = fit\n",
        "\n",
        "    if halloffame is None:\n",
        "        raise ValueError(\"halloffame parameter must not be empty!\")\n",
        "\n",
        "    halloffame.update(population)\n",
        "    hof_size = len(halloffame.items) if halloffame.items else 0\n",
        "\n",
        "    record = stats.compile(population) if stats else {}\n",
        "    logbook.record(gen=0, nevals=len(invalid_ind), **record)\n",
        "    \n",
        "    if verbose:\n",
        "        print(logbook.stream)\n",
        "\n",
        "    for gen in range(1, ngen + 1):\n",
        "        offspring = toolbox.select(population, len(population) - hof_size)\n",
        "        offspring = algorithms.varAnd(offspring, toolbox, cxpb, mutpb)\n",
        "        invalid_ind = [ind for ind in offspring if not ind.fitness.valid]\n",
        "        fitnesses = toolbox.map(toolbox.evaluate, invalid_ind)\n",
        "        \n",
        "        for ind, fit in zip(invalid_ind, fitnesses):\n",
        "            ind.fitness.values = fit\n",
        "\n",
        "        offspring.extend(halloffame.items)\n",
        "        halloffame.update(offspring)\n",
        "        population[:] = offspring\n",
        "        \n",
        "        record = stats.compile(population) if stats else {}\n",
        "        logbook.record(gen=gen, nevals=len(invalid_ind), **record)\n",
        "        \n",
        "        if verbose:\n",
        "            print(logbook.stream)\n",
        "\n",
        "    return population, logbook\n",
        "\n",
        "\n",
        "def train(generations=100, population=100, elitism=0.1, crossover_rate=0.5, mutation_rate=0.1):\n",
        "    \"\"\"\n",
        "    This is a Multi-tree GP with Elitism for Multi-class classification. \n",
        "\n",
        "    Args:\n",
        "        generations: The number of generations to evolve the populaiton for. \n",
        "        elitism: The ratio of elites to be kept between generations. \n",
        "        crossover_rate: The probability of a crossover between two individuals. \n",
        "        mutation_rate: The probability of a random mutation within an individual.  \n",
        "\n",
        "    Returns:\n",
        "        pop: The final population the algorithm has evolved. \n",
        "        log: The logbook which can record important statistics. \n",
        "        hof: The hall of fame contains the best individual solutions.\n",
        "    \"\"\"\n",
        "    random.seed(420)\n",
        "    pop = toolbox.population(n=population)\n",
        "    \n",
        "    mu = round(elitism * population)\n",
        "    if elitism > 0:\n",
        "        # See https://www.programcreek.com/python/example/107757/deap.tools.HallOfFame\n",
        "        hof = tools.HallOfFame(mu)\n",
        "    else:\n",
        "        hof = None\n",
        "    \n",
        "    stats_fit = tools.Statistics(lambda ind: ind.fitness.values)\n",
        "    length = lambda a: np.max(list(map(len, a)))\n",
        "    stats_size = tools.Statistics(length)\n",
        "\n",
        "    mstats = tools.MultiStatistics(fitness=stats_fit, size=stats_size)\n",
        "    mstats.register(\"avg\", np.mean)\n",
        "    mstats.register(\"std\", np.std)\n",
        "    mstats.register(\"min\", np.min)\n",
        "    mstats.register(\"max\", np.max)\n",
        "\n",
        "    pop, log = SimpleGPWithElitism(pop, toolbox, crossover_rate, mutation_rate, \n",
        "                                   generations, stats=mstats, halloffame=hof, \n",
        "                                   verbose=True)\n",
        "    return pop, log, hof\n",
        "\n",
        "\n",
        "\"\"\"\n",
        "DeJong (1975), p=50-100, m=0.001, c=0.6 \n",
        "Grefenstette (1986), p=30, m=0.01, c=0.95\n",
        "Schaffer et al., (1989), p=20-30, m=0.005-0.01, c=0.75-0.95\n",
        "\n",
        "References:\n",
        "    1. Patil, V. P., & Pawar, D. D. (2015). The optimal crossover or mutation \n",
        "    rates in genetic algorithm: a review. International Journal of Applied \n",
        "    Engineering and Technology, 5(3), 38-41.\n",
        "\"\"\"\n",
        "\n",
        "beta = 3\n",
        "population = n_features * beta \n",
        "# population = n_features\n",
        "generations = 100\n",
        "elitism = 0.1\n",
        "crossover_rate = 0.8\n",
        "mutation_rate = 0.2\n",
        "\n",
        "assert crossover_rate + mutation_rate == 1, \"Crossover and mutation sums to 1 (to please the Gods!)\"\n",
        "\n",
        "pop, log, hof = train(generations, population, elitism, crossover_rate, mutation_rate)"
      ]
    },
    {
      "cell_type": "code",
      "execution_count": 12,
      "metadata": {
        "colab": {
          "base_uri": "https://localhost:8080/"
        },
        "id": "VSEgttwuilPy",
        "outputId": "3fa8b9fd-6277-48c9-8cea-79780abdedf4"
      },
      "outputs": [
        {
          "output_type": "stream",
          "name": "stdout",
          "text": [
            "Train accuracy: 0.9737373737373738, Test accuracy: 0.6851010101010101\n"
          ]
        },
        {
          "output_type": "execute_result",
          "data": {
            "text/plain": [
              "(0.9737373737373738,)"
            ]
          },
          "metadata": {},
          "execution_count": 12
        }
      ],
      "source": [
        "evaluate_classification(hof[0], verbose=True)"
      ]
    },
    {
      "cell_type": "markdown",
      "metadata": {
        "id": "YkaU6kAGyBl2"
      },
      "source": [
        "## Visualization"
      ]
    },
    {
      "cell_type": "code",
      "execution_count": 13,
      "metadata": {
        "id": "pEqouLDs4xBJ"
      },
      "outputs": [],
      "source": [
        "from deap import base, creator, gp\n",
        "import pygraphviz as pgv\n",
        "\n",
        "multi_tree = hof[0]\n",
        "for t_idx,tree in enumerate(multi_tree): \n",
        "    nodes, edges, labels = gp.graph(tree)\n",
        "\n",
        "    g = pgv.AGraph()\n",
        "    g.add_nodes_from(nodes)\n",
        "    g.add_edges_from(edges)\n",
        "    g.layout(prog=\"dot\")\n",
        "\n",
        "    for i in nodes:\n",
        "        n = g.get_node(i)\n",
        "        n.attr[\"label\"] = labels[i]\n",
        "\n",
        "    g.draw(f\"tree-{t_idx}.pdf\")"
      ]
    },
    {
      "cell_type": "markdown",
      "metadata": {
        "id": "QX_g4MipuQTU"
      },
      "source": [
        "## Changelog \n",
        "\n",
        "| Date | Title | Description | Update | \n",
        "| --- | --- | --- | ---- | \n",
        "| 2022-08-21 17:30 | Multi-Objective - Onehot Encoding | Change to multi-objective problem, one-vs-all with a tree classifier for each class.<br> Y labels are encoded in onehot encodings, error is absolute difference between $|\\hat{y} - y|$| \n",
        "| 2022-08-22 20:44 | Non-linearity |  Introduce $ round . sigmoid $ to evaluate_classification() method.<br>Previously, we push each tree to predict either a 0 or 1 value with the onehot encoding representation.<br>Now, the non-linearity will map any negative value to a negative class 0, and any positive value to positive class 1.|\n",
        "| 2022-08-22 21:06 | ~~Genetic operators for tree with worst fitness~~ | Only apply the genetic operators, crossover and mutation, to the tree with the worst fitness.<br> This guarantees monotonic improvement for the Multi-tree between generations, the best performing tree remain unaltered.| (Update) This was very slow, and inefficient,<br> basically turned the GP into a single objective,<br>that balances multi-objective fitness functions. | \n",
        "| 2022-08-22 21:15 | Halloffame Equality Operator | Numpy equality function (operators.eq) between two arrays returns the equality element wise,<br>which raises an exception in the if similar() check of the hall of fame. <br> Using a different equality function like numpy.array_equal or numpy.allclose solve this issue.| \n",
        "| 2022-08-22 23:22 | Elitism as aggregate best tree | Perform elitsim by constructing the best tree, as the tree with best fitness from each clas.<br>The goal is to have monotonous improvement across the multiple objective functions.| \n",
        "| 2022-08-22 23:32 | Update fitness for elite | The elitism was not working as intended, as the multi-objectives didn't appear to increase monotnously.<br> This was because the aggregate fitness was not being assigned to the best individual after it was created.<br>Therefore the best invidiual was not passed on to the next generation. | \n",
        "| 2022-08-22 02:28 | staticLimit max height | Rewrite the gp.staticLimit decorator function to handle the Multi-tree representation.<br>Note: size and depth are different values!<br>depth is the maximum length of a root-to-leaf traversal,<br>size is the total number of nodes.| \n",
        "| 2022-08-24 9:37 | Evaluate Mutli-tree train accuracy | Take the classification accuracy as the argmax for the aggregate multitree.<br> 74% training accuracy, which is not ideal, but this shall improve with time.| \n",
        "| 2022-08-25 13:30 | Single-objective fitness | Change the fitness function to a single objective fitness function.<br>This forces the multi-tree GP to find the best tree subset for one-vs-rest classification performance.| \n",
        "| 2022-08-25 20:01 | Fitness = Balanced accuracy + distance measure | Implement the fitness function for MCIFC, but for multi-class classification from (Tran 2019) |\n",
        "| 2022-08-26 21:27 | Sklearn Balanced Accuracy | Changed to the balanced accuracy metric from sklearn.<br>This is much easier to use for now, probably faster than the previous method as well. | \n",
        "| 2022-09-05 17:00 | Reject invalid predictions | Change the fitness function to reject invalid predictioctions outright -<br>e.g. multi-label or zero-label predictions<br>- when computing the balanced accuracy for the fitness function. |\n",
        "| 2022-09-13 19:00 | Mutation + Crossover = 100% | Ensure the mutation and crossover rate sum to 100%,<br>not necessary with deap, but good to avoid conference questions |\n",
        "| 2022-09-13 21:00 | Feature Construction | Changed to Wrapper-based Feature Construction with Multi-tree GP.|\n",
        "| 2022-09-13 21:34 | $m = r \\times c$ | Add more trees, following example from (Tran 2019).<br> With 8 trees for a multi-class classification<br> $m = r \\times c = 8$ trees, where number of classes $c = 4$, and reconstruction ratio $r = 2$/ | \n",
        "| 2022-09-30 19:49 | Quick Evalaute | Manually parse the GP trees, 5x speedup for DEAP in Python (Zhang 2022). | "
      ]
    }
  ],
  "metadata": {
    "colab": {
      "collapsed_sections": [],
      "machine_shape": "hm",
      "provenance": [],
      "mount_file_id": "1Yg4t38NHSYPAlu_099cQeOR-qSwIaaTl",
      "authorship_tag": "ABX9TyMcMYM4aEyqmapje1DEKQ1b",
      "include_colab_link": true
    },
    "gpuClass": "standard",
    "kernelspec": {
      "display_name": "Python 3",
      "name": "python3"
    },
    "language_info": {
      "name": "python"
    }
  },
  "nbformat": 4,
  "nbformat_minor": 0
}