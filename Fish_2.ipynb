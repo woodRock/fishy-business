{
  "cells": [
    {
      "cell_type": "markdown",
      "metadata": {
        "id": "view-in-github",
        "colab_type": "text"
      },
      "source": [
        "<a href=\"https://colab.research.google.com/github/woodRock/fishy-business/blob/main/Fish_2.ipynb\" target=\"_parent\"><img src=\"https://colab.research.google.com/assets/colab-badge.svg\" alt=\"Open In Colab\"/></a>"
      ]
    },
    {
      "cell_type": "code",
      "execution_count": 1,
      "metadata": {
        "colab": {
          "base_uri": "https://localhost:8080/"
        },
        "id": "lOF5V8spkFO9",
        "outputId": "82170b3e-ce62-417f-cc24-938065332ffc"
      },
      "outputs": [
        {
          "output_type": "stream",
          "name": "stdout",
          "text": [
            "Looking in indexes: https://pypi.org/simple, https://us-python.pkg.dev/colab-wheels/public/simple/\n",
            "Requirement already satisfied: skfeature-chappers in /usr/local/lib/python3.7/dist-packages (1.1.0)\n",
            "Requirement already satisfied: scikit-learn in /usr/local/lib/python3.7/dist-packages (from skfeature-chappers) (1.0.2)\n",
            "Requirement already satisfied: numpy in /usr/local/lib/python3.7/dist-packages (from skfeature-chappers) (1.21.6)\n",
            "Requirement already satisfied: pandas in /usr/local/lib/python3.7/dist-packages (from skfeature-chappers) (1.3.5)\n",
            "Requirement already satisfied: python-dateutil>=2.7.3 in /usr/local/lib/python3.7/dist-packages (from pandas->skfeature-chappers) (2.8.2)\n",
            "Requirement already satisfied: pytz>=2017.3 in /usr/local/lib/python3.7/dist-packages (from pandas->skfeature-chappers) (2022.1)\n",
            "Requirement already satisfied: six>=1.5 in /usr/local/lib/python3.7/dist-packages (from python-dateutil>=2.7.3->pandas->skfeature-chappers) (1.15.0)\n",
            "Requirement already satisfied: threadpoolctl>=2.0.0 in /usr/local/lib/python3.7/dist-packages (from scikit-learn->skfeature-chappers) (3.1.0)\n",
            "Requirement already satisfied: scipy>=1.1.0 in /usr/local/lib/python3.7/dist-packages (from scikit-learn->skfeature-chappers) (1.7.3)\n",
            "Requirement already satisfied: joblib>=0.11 in /usr/local/lib/python3.7/dist-packages (from scikit-learn->skfeature-chappers) (1.1.0)\n"
          ]
        }
      ],
      "source": [
        "!pip install skfeature-chappers"
      ]
    },
    {
      "cell_type": "code",
      "execution_count": 6,
      "metadata": {
        "id": "N0MTzt4gjyr-"
      },
      "outputs": [],
      "source": [
        "import scipy.io\n",
        "import numpy as np\n",
        "import matplotlib.pyplot as plt\n",
        "import seaborn as sns\n",
        "from tqdm import tqdm\n",
        "\n",
        "import warnings\n",
        "warnings.filterwarnings(\"ignore\")"
      ]
    },
    {
      "cell_type": "code",
      "execution_count": 3,
      "metadata": {
        "id": "H9HnqXEN83Ku"
      },
      "outputs": [],
      "source": [
        "run = 1\n",
        "seed = 1617 * run\n",
        "np.random.seed(seed)"
      ]
    },
    {
      "cell_type": "code",
      "execution_count": 4,
      "metadata": {
        "id": "ao4c5MMgkVjn"
      },
      "outputs": [],
      "source": [
        "from sklearn import preprocessing\n",
        "\n",
        "def load_data(dataset=\"Fish\"):\n",
        "    folder = '' # folder = '../data/matlab/'\n",
        "    mat = scipy.io.loadmat(folder + dataset + '.mat')\n",
        "    X = mat['X']\n",
        "    X = X.astype(float)\n",
        "    y = mat['Y']\n",
        "    y = y[:, 0]\n",
        "    return X,y \n",
        "\n",
        "def get_labels(y):\n",
        "    le = preprocessing.LabelEncoder()\n",
        "    le.fit(y)\n",
        "    y_ = le.transform(y)\n",
        "    labels = le.inverse_transform(np.unique(y_))\n",
        "    return y_, labels\n",
        "\n",
        "dataset = \"Fish\"\n",
        "X,y = load_data(dataset=dataset)\n",
        "y_, labels = get_labels(y)"
      ]
    },
    {
      "cell_type": "code",
      "source": [
        "inc = 50\n",
        "no_features = X.shape[1] + inc\n",
        "j = np.arange(inc,no_features,inc) # [50,4800]"
      ],
      "metadata": {
        "id": "G-p57D5p3Rxu"
      },
      "execution_count": 6,
      "outputs": []
    },
    {
      "cell_type": "code",
      "source": [
        "from skfeature.function.similarity_based import reliefF\n",
        "from skfeature.function.information_theoretical_based import MRMR\n",
        "from sklearn.feature_selection import chi2\n",
        "from sklearn.feature_selection import SelectKBest\n",
        "from sklearn.model_selection import StratifiedKFold\n",
        "from sklearn.svm import LinearSVC as svm\n",
        "\n",
        "methods = { \"reliefF\" : reliefF.reliefF, \"mrmr\": MRMR.mrmr, \"chi2\": chi2}\n",
        "results = { \"reliefF\" : [], \"mrmr\": [], \"chi2\": [], \"pso\": []}\n",
        "penalty = 'l1'"
      ],
      "metadata": {
        "id": "ixgnotRydOaz"
      },
      "execution_count": 7,
      "outputs": []
    },
    {
      "cell_type": "code",
      "source": [
        "from sklearn.preprocessing import MinMaxScaler\n",
        "from sklearn.metrics import balanced_accuracy_score\n",
        "\n",
        "def normalize(X_train, X_test):\n",
        "    scaler = MinMaxScaler(feature_range=(0, 1))\n",
        "    scaler = scaler.fit(X_train)\n",
        "    X_train = scaler.transform(X_train)\n",
        "    X_test = scaler.transform(X_test)\n",
        "    return X_train, X_test"
      ],
      "metadata": {
        "id": "anadECrYde-L"
      },
      "execution_count": 8,
      "outputs": []
    },
    {
      "cell_type": "code",
      "source": [
        "import Problem\n",
        "import PSO\n",
        "\n",
        "def pso(X,y):\n",
        "    prob = Problem.FeatureSelection(minimized=True, X=X, y=y)\n",
        "    pop_size = 30\n",
        "    n_iterations = 100\n",
        "    no_fea = X.shape[1]\n",
        "    swarm = PSO.Swarm(n_particle=pop_size, length=no_fea, n_iterations=n_iterations,\n",
        "                        max_pos=1.0, min_pos=0.0, max_vel=0.2, min_vel=-0.2,\n",
        "                        problem=prob)\n",
        "    best_sol, best_fit = swarm.iterate()\n",
        "    sel_fea = np.where(best_sol > prob.threshold)[0]\n",
        "    return sel_fea"
      ],
      "metadata": {
        "id": "1QK01mdPZeX1"
      },
      "execution_count": 9,
      "outputs": []
    },
    {
      "cell_type": "code",
      "source": [
        "runs = 30\n",
        "name = \"pso\"\n",
        "folds = 10\n",
        "\n",
        "for k in tqdm(range(30)):\n",
        "    train_accs = []\n",
        "    test_accs = []\n",
        "    skf = StratifiedKFold(n_splits=folds, random_state=1234, shuffle=True)\n",
        "\n",
        "    for train, test in skf.split(X, y):\n",
        "        X_train, X_test = (X[train], X[test])\n",
        "        y_train, y_test = y[train], y[test]\n",
        "        X_train, X_test = normalize(X_train, X_test)\n",
        "\n",
        "        sel_fea = pso(X_train, y_train)\n",
        "\n",
        "        model = svm()\n",
        "        model.fit(X_train[:, sel_fea], y_train)\n",
        "\n",
        "        y_predict = model.predict(X_train[:, sel_fea])\n",
        "        train_acc = balanced_accuracy_score(y_train, y_predict)\n",
        "        train_accs.append(train_acc)\n",
        "\n",
        "        y_predict = model.predict(X_test[:, sel_fea])\n",
        "        test_acc = balanced_accuracy_score(y_test, y_predict)\n",
        "        test_accs.append(test_acc)\n",
        "\n",
        "    no_fea = len(sel_fea)\n",
        "    results[name].append((no_fea, np.mean(train_accs), np.mean(test_accs)))"
      ],
      "metadata": {
        "colab": {
          "base_uri": "https://localhost:8080/"
        },
        "id": "ZjJCiAYpcrH7",
        "outputId": "8546ecc9-53f7-4072-ee11-da331cbb9ba9"
      },
      "execution_count": 10,
      "outputs": [
        {
          "output_type": "stream",
          "name": "stderr",
          "text": [
            "100%|██████████| 30/30 [14:37:16<00:00, 1754.55s/it]\n"
          ]
        }
      ]
    },
    {
      "cell_type": "code",
      "execution_count": 11,
      "metadata": {
        "id": "ipKupS0pkkyL",
        "colab": {
          "base_uri": "https://localhost:8080/"
        },
        "outputId": "7ec9c5db-afc0-4b80-aa78-154ed51c35b3"
      },
      "outputs": [
        {
          "output_type": "stream",
          "name": "stderr",
          "text": [
            "100%|██████████| 96/96 [2:24:29<00:00, 90.31s/it] \n"
          ]
        }
      ],
      "source": [
        "for k in tqdm(j):\n",
        "    for name, fs_method in methods.items(): \n",
        "        if name == \"pso\":\n",
        "          continue\n",
        "\n",
        "        train_accs = []\n",
        "        test_accs = []\n",
        "        skf = StratifiedKFold(n_splits=folds, random_state=1234, shuffle=True)\n",
        "\n",
        "        for train, test in skf.split(X, y):\n",
        "            X_train, X_test = (X[train], X[test])\n",
        "            y_train, y_test = y[train], y[test]\n",
        "            X_train, X_test = normalize(X_train, X_test)\n",
        "\n",
        "            fs = SelectKBest(fs_method, k=k)\n",
        "            X_train = fs.fit_transform(X_train, y_train)\n",
        "            X_test = fs.transform(X_test)\n",
        "\n",
        "            model = svm()\n",
        "            clf = model.fit(X_train, y_train)\n",
        "\n",
        "            y_predict = model.predict(X_train)\n",
        "            train_acc = balanced_accuracy_score(y_train, y_predict)\n",
        "            train_accs.append(train_acc)\n",
        "            y_predict = model.predict(X_test)\n",
        "            test_acc = balanced_accuracy_score(y_test, y_predict)\n",
        "            test_accs.append(test_acc)\n",
        "\n",
        "        no_fea = k \n",
        "        results[name].append((no_fea, np.mean(train_accs), np.mean(test_accs)))"
      ]
    },
    {
      "cell_type": "code",
      "source": [
        "for name, result in results.items():\n",
        "  k, train, test = zip(*result)\n",
        "  if name == \"pso\":\n",
        "    plt.scatter(k, train, label=name)\n",
        "  else:\n",
        "    plt.plot(k, train, label=name)\n",
        "\n",
        "plt.title(\"Train: Accuracy vs. No. Features\")\n",
        "plt.xlabel(\"No. Features\")\n",
        "plt.ylabel(\"Accuracy\")\n",
        "plt.legend()\n",
        "plt.savefig(fname=f\"accuracy-features-{dataset}-train\", dpi=500)\n",
        "plt.show()"
      ],
      "metadata": {
        "id": "O3fs1QSaMXPV",
        "colab": {
          "base_uri": "https://localhost:8080/",
          "height": 295
        },
        "outputId": "7a604c4b-4ce1-48cd-cff2-6bd6647a4383"
      },
      "execution_count": 12,
      "outputs": [
        {
          "output_type": "display_data",
          "data": {
            "text/plain": [
              "<Figure size 432x288 with 1 Axes>"
            ],
            "image/png": "[encoded data removed]"
          },
          "metadata": {
            "needs_background": "light"
          }
        }
      ]
    },
    {
      "cell_type": "code",
      "source": [
        "for name, result in results.items():\n",
        "  k, train, test = zip(*result)\n",
        "  if name == \"pso\":\n",
        "    plt.scatter(k, test, label=name)\n",
        "  else:\n",
        "    plt.plot(k, test, label=name)\n",
        "\n",
        "plt.title(\"Test: Accuracy vs. No. Features\")\n",
        "plt.xlabel(\"No. Features\")\n",
        "plt.ylabel(\"Accuracy\")\n",
        "plt.legend()\n",
        "plt.savefig(fname=f\"accuracy-features-{dataset}-test\", dpi=500)\n",
        "plt.show()"
      ],
      "metadata": {
        "id": "k-6dez8J6RO1",
        "colab": {
          "base_uri": "https://localhost:8080/",
          "height": 295
        },
        "outputId": "9ab88324-6eb4-4c9f-9d50-ca49d2bb0565"
      },
      "execution_count": 13,
      "outputs": [
        {
          "output_type": "display_data",
          "data": {
            "text/plain": [
              "<Figure size 432x288 with 1 Axes>"
            ],
            "image/png": "[encoded data removed]"
          },
          "metadata": {
            "needs_background": "light"
          }
        }
      ]
    },
    {
      "cell_type": "code",
      "source": [
        "results = {'reliefF': [(50, 0.9256012529327343, 0.8172619047619047), (100, 0.9847375479613714, 0.9273809523809522), (150, 0.9957440100882724, 0.9309523809523809), (200, 0.9971153846153846, 0.9428571428571428), (250, 0.998076923076923, 0.9630952380952381), (300, 0.9990384615384615, 0.975), (350, 1.0, 0.9833333333333334), (400, 1.0, 0.9833333333333334), (450, 1.0, 0.975), (500, 1.0, 0.9714285714285715), (550, 1.0, 0.9714285714285715), (600, 1.0, 0.9714285714285715), (650, 1.0, 0.9833333333333334), (700, 1.0, 0.9833333333333334), (750, 1.0, 0.9833333333333334), (800, 1.0, 0.9797619047619047), (850, 1.0, 0.9797619047619047), (900, 1.0, 0.9797619047619047), (950, 1.0, 0.9797619047619047), (1000, 1.0, 0.9797619047619047), (1050, 1.0, 0.9833333333333334), (1100, 1.0, 0.9833333333333334), (1150, 1.0, 0.9833333333333334), (1200, 1.0, 0.9833333333333334), (1250, 1.0, 0.9833333333333334), (1300, 1.0, 0.9833333333333334), (1350, 1.0, 0.9833333333333334), (1400, 1.0, 0.9833333333333334), (1450, 1.0, 0.9833333333333334), (1500, 1.0, 0.9797619047619047), (1550, 1.0, 0.9833333333333334), (1600, 1.0, 0.9833333333333334), (1650, 1.0, 0.9797619047619047), (1700, 1.0, 0.9797619047619047), (1750, 1.0, 0.9797619047619047), (1800, 1.0, 0.9797619047619047), (1850, 1.0, 0.9797619047619047), (1900, 1.0, 0.9797619047619047), (1950, 1.0, 0.9797619047619047), (2000, 1.0, 0.9797619047619047), (2050, 1.0, 0.9797619047619047), (2100, 1.0, 0.9797619047619047), (2150, 1.0, 0.9797619047619047), (2200, 1.0, 0.9797619047619047), (2250, 1.0, 0.9797619047619047), (2300, 1.0, 0.9797619047619047), (2350, 1.0, 0.9797619047619047), (2400, 1.0, 0.9797619047619047), (2450, 1.0, 0.9797619047619047), (2500, 1.0, 0.9797619047619047), (2550, 1.0, 0.9797619047619047), (2600, 1.0, 0.9797619047619047), (2650, 1.0, 0.9797619047619047), (2700, 1.0, 0.9797619047619047), (2750, 1.0, 0.9797619047619047), (2800, 1.0, 0.9797619047619047), (2850, 1.0, 0.9797619047619047), (2900, 1.0, 0.9797619047619047), (2950, 1.0, 0.9797619047619047), (3000, 1.0, 0.9797619047619047), (3050, 1.0, 0.9797619047619047), (3100, 1.0, 0.9797619047619047), (3150, 1.0, 0.9797619047619047), (3200, 1.0, 0.9797619047619047), (3250, 1.0, 0.9797619047619047), (3300, 1.0, 0.9797619047619047), (3350, 1.0, 0.9797619047619047), (3400, 1.0, 0.9797619047619047), (3450, 1.0, 0.9797619047619047), (3500, 1.0, 0.9797619047619047), (3550, 1.0, 0.9797619047619047), (3600, 1.0, 0.9797619047619047), (3650, 1.0, 0.9797619047619047), (3700, 1.0, 0.9797619047619047), (3750, 1.0, 0.9797619047619047), (3800, 1.0, 0.9797619047619047), (3850, 1.0, 0.9797619047619047), (3900, 1.0, 0.9797619047619047), (3950, 1.0, 0.9797619047619047), (4000, 1.0, 0.9833333333333334), (4050, 1.0, 0.9833333333333334), (4100, 1.0, 0.9833333333333334), (4150, 1.0, 0.9833333333333334), (4200, 1.0, 0.9833333333333334), (4250, 1.0, 0.9833333333333334), (4300, 1.0, 0.9833333333333334), (4350, 1.0, 0.9833333333333334), (4400, 1.0, 0.9833333333333334), (4450, 1.0, 0.9833333333333334), (4500, 1.0, 0.9833333333333334), (4550, 1.0, 0.9833333333333334), (4600, 1.0, 0.9833333333333334), (4650, 1.0, 0.9833333333333334), (4700, 1.0, 0.9833333333333334), (4750, 1.0, 0.9833333333333334), (4800, 1.0, 0.9833333333333334)], 'mrmr': [(50, 0.9317704487116089, 0.8136904761904761), (100, 0.9806371614216411, 0.9303571428571429), (150, 0.9951923076923077, 0.9559523809523809), (200, 0.9981456043956044, 0.9583333333333333), (250, 0.9990384615384615, 0.975), (300, 1.0, 0.9797619047619047), (350, 1.0, 0.975), (400, 1.0, 0.9589285714285716), (450, 1.0, 0.9666666666666666), (500, 1.0, 0.9833333333333334), (550, 1.0, 0.9833333333333334), (600, 1.0, 0.9833333333333334), (650, 1.0, 0.975), (700, 1.0, 0.9880952380952381), (750, 1.0, 0.9880952380952381), (800, 1.0, 0.975), (850, 1.0, 0.9833333333333334), (900, 1.0, 0.9797619047619047), (950, 1.0, 0.9797619047619047), (1000, 1.0, 0.9833333333333334), (1050, 1.0, 0.9833333333333334), (1100, 1.0, 0.9833333333333334), (1150, 1.0, 0.9797619047619047), (1200, 1.0, 0.9797619047619047), (1250, 1.0, 0.9714285714285715), (1300, 1.0, 0.975), (1350, 1.0, 0.9797619047619047), (1400, 1.0, 0.9833333333333334), (1450, 1.0, 0.9833333333333334), (1500, 1.0, 0.9916666666666666), (1550, 1.0, 0.9714285714285715), (1600, 1.0, 0.9797619047619047), (1650, 1.0, 0.9916666666666666), (1700, 1.0, 0.9797619047619047), (1750, 1.0, 0.9833333333333334), (1800, 1.0, 0.9833333333333334), (1850, 1.0, 0.9833333333333334), (1900, 1.0, 0.9880952380952381), (1950, 1.0, 0.9916666666666666), (2000, 1.0, 0.9833333333333334), (2050, 1.0, 0.9833333333333334), (2100, 1.0, 0.9797619047619047), (2150, 1.0, 0.9833333333333334), (2200, 1.0, 0.9833333333333334), (2250, 1.0, 0.9797619047619047), (2300, 1.0, 0.9797619047619047), (2350, 1.0, 0.9833333333333334), (2400, 1.0, 0.9833333333333334), (2450, 1.0, 0.9797619047619047), (2500, 1.0, 0.9833333333333334), (2550, 1.0, 0.9833333333333334), (2600, 1.0, 0.9797619047619047), (2650, 1.0, 0.9797619047619047), (2700, 1.0, 0.9833333333333334), (2750, 1.0, 0.9833333333333334), (2800, 1.0, 0.9797619047619047), (2850, 1.0, 0.9797619047619047), (2900, 1.0, 0.9797619047619047), (2950, 1.0, 0.9833333333333334), (3000, 1.0, 0.9797619047619047), (3050, 1.0, 0.9797619047619047), (3100, 1.0, 0.9797619047619047), (3150, 1.0, 0.9833333333333334), (3200, 1.0, 0.9833333333333334), (3250, 1.0, 0.9833333333333334), (3300, 1.0, 0.9797619047619047), (3350, 1.0, 0.9833333333333334), (3400, 1.0, 0.9833333333333334), (3450, 1.0, 0.9797619047619047), (3500, 1.0, 0.9833333333333334), (3550, 1.0, 0.9833333333333334), (3600, 1.0, 0.9833333333333334), (3650, 1.0, 0.9833333333333334), (3700, 1.0, 0.9797619047619047), (3750, 1.0, 0.9833333333333334), (3800, 1.0, 0.9833333333333334), (3850, 1.0, 0.9833333333333334), (3900, 1.0, 0.9797619047619047), (3950, 1.0, 0.9833333333333334), (4000, 1.0, 0.9833333333333334), (4050, 1.0, 0.9833333333333334), (4100, 1.0, 0.9833333333333334), (4150, 1.0, 0.9833333333333334), (4200, 1.0, 0.9833333333333334), (4250, 1.0, 0.9833333333333334), (4300, 1.0, 0.9833333333333334), (4350, 1.0, 0.9833333333333334), (4400, 1.0, 0.9797619047619047), (4450, 1.0, 0.9833333333333334), (4500, 1.0, 0.9833333333333334), (4550, 1.0, 0.9833333333333334), (4600, 1.0, 0.9833333333333334), (4650, 1.0, 0.9833333333333334), (4700, 1.0, 0.9833333333333334), (4750, 1.0, 0.9833333333333334), (4800, 1.0, 0.9833333333333334)], 'chi2': [(50, 0.6186477119395922, 0.549404761904762), (100, 0.6982326582482068, 0.6172619047619048), (150, 0.8019852213246839, 0.7139880952380951), (200, 0.8696182839598878, 0.7919642857142856), (250, 0.9168426909446298, 0.8101190476190476), (300, 0.9445019227068207, 0.8684523809523809), (350, 0.963454584360391, 0.9017857142857142), (400, 0.9801970437170354, 0.9220238095238095), (450, 0.9890046518252495, 0.9422619047619047), (500, 0.9940380910733898, 0.9630952380952381), (550, 0.9963710040620406, 0.9595238095238094), (600, 0.9973325425235791, 0.9464285714285714), (650, 0.9986352357320099, 0.9547619047619047), (700, 0.9990384615384615, 0.9583333333333333), (750, 0.9990384615384615, 0.9666666666666666), (800, 0.9990384615384615, 0.9666666666666666), (850, 0.9990384615384615, 0.975), (900, 0.9990384615384615, 0.975), (950, 1.0, 0.9666666666666666), (1000, 1.0, 0.975), (1050, 1.0, 0.9666666666666666), (1100, 1.0, 0.9666666666666666), (1150, 1.0, 0.9666666666666666), (1200, 1.0, 0.9666666666666666), (1250, 1.0, 0.975), (1300, 1.0, 0.975), (1350, 1.0, 0.975), (1400, 1.0, 0.975), (1450, 1.0, 0.975), (1500, 1.0, 0.975), (1550, 1.0, 0.975), (1600, 1.0, 0.975), (1650, 1.0, 0.975), (1700, 1.0, 0.975), (1750, 1.0, 0.975), (1800, 1.0, 0.975), (1850, 1.0, 0.975), (1900, 1.0, 0.9714285714285715), (1950, 1.0, 0.9714285714285715), (2000, 1.0, 0.9714285714285715), (2050, 1.0, 0.9714285714285715), (2100, 1.0, 0.975), (2150, 1.0, 0.975), (2200, 1.0, 0.9714285714285715), (2250, 1.0, 0.9714285714285715), (2300, 1.0, 0.9714285714285715), (2350, 1.0, 0.9714285714285715), (2400, 1.0, 0.9714285714285715), (2450, 1.0, 0.9714285714285715), (2500, 1.0, 0.9714285714285715), (2550, 1.0, 0.9714285714285715), (2600, 1.0, 0.9714285714285715), (2650, 1.0, 0.9714285714285715), (2700, 1.0, 0.9714285714285715), (2750, 1.0, 0.9714285714285715), (2800, 1.0, 0.9714285714285715), (2850, 1.0, 0.9714285714285715), (2900, 1.0, 0.975), (2950, 1.0, 0.975), (3000, 1.0, 0.975), (3050, 1.0, 0.975), (3100, 1.0, 0.975), (3150, 1.0, 0.975), (3200, 1.0, 0.975), (3250, 1.0, 0.9833333333333334), (3300, 1.0, 0.9833333333333334), (3350, 1.0, 0.9833333333333334), (3400, 1.0, 0.9833333333333334), (3450, 1.0, 0.9833333333333334), (3500, 1.0, 0.9833333333333334), (3550, 1.0, 0.9833333333333334), (3600, 1.0, 0.9833333333333334), (3650, 1.0, 0.9833333333333334), (3700, 1.0, 0.9833333333333334), (3750, 1.0, 0.9833333333333334), (3800, 1.0, 0.9833333333333334), (3850, 1.0, 0.9833333333333334), (3900, 1.0, 0.9833333333333334), (3950, 1.0, 0.9833333333333334), (4000, 1.0, 0.9833333333333334), (4050, 1.0, 0.9833333333333334), (4100, 1.0, 0.9833333333333334), (4150, 1.0, 0.9833333333333334), (4200, 1.0, 0.9833333333333334), (4250, 1.0, 0.9833333333333334), (4300, 1.0, 0.9833333333333334), (4350, 1.0, 0.9833333333333334), (4400, 1.0, 0.9833333333333334), (4450, 1.0, 0.9833333333333334), (4500, 1.0, 0.9833333333333334), (4550, 1.0, 0.9833333333333334), (4600, 1.0, 0.9833333333333334), (4650, 1.0, 0.9833333333333334), (4700, 1.0, 0.9833333333333334), (4750, 1.0, 0.9833333333333334), (4800, 1.0, 0.9833333333333334)], 'pso': [(1211, 1.0, 0.975), (1206, 1.0, 0.9833333333333334), (1258, 1.0, 0.9833333333333334), (1192, 1.0, 0.9916666666666666), (1270, 1.0, 0.9797619047619047), (1216, 1.0, 0.9833333333333334), (1241, 1.0, 0.9880952380952381), (1214, 1.0, 0.9833333333333334), (1234, 1.0, 0.9797619047619047), (1243, 1.0, 0.975), (1180, 1.0, 0.975), (1178, 1.0, 0.975), (1216, 1.0, 0.9833333333333334), (1242, 1.0, 0.9833333333333334), (1217, 1.0, 0.9916666666666666), (1250, 1.0, 0.9833333333333334), (1213, 1.0, 0.9833333333333334), (1220, 1.0, 0.9833333333333334), (1240, 1.0, 0.9797619047619047), (1204, 1.0, 0.9833333333333334), (1217, 1.0, 0.975), (1245, 1.0, 0.9833333333333334), (1242, 1.0, 0.9833333333333334), (1242, 1.0, 0.9833333333333334), (1227, 1.0, 0.9797619047619047), (1249, 1.0, 0.9833333333333334), (1195, 1.0, 0.9797619047619047), (1178, 1.0, 0.9833333333333334), (1285, 1.0, 0.9797619047619047), (1174, 1.0, 0.975)]}"
      ],
      "metadata": {
        "id": "RzuEt1GBshGn"
      },
      "execution_count": 4,
      "outputs": []
    },
    {
      "cell_type": "code",
      "source": [
        "for method, result in results.items():\n",
        "    k, train, test = list(zip(*result))\n",
        "    best_k = np.argmax(test)\n",
        "    print(f\"{method} performed best at {k[best_k]} features, with {train[best_k]} training accuracy, and {test[best_k]} test accuracy.\")\n",
        "\n",
        "k, train, test = results['mrmr'][-1]\n",
        "print(f\"Full-dataset with {k} features, with {train} training accuracy, and {test} test accuracy.\")"
      ],
      "metadata": {
        "colab": {
          "base_uri": "https://localhost:8080/"
        },
        "id": "uI3Kjkly5r78",
        "outputId": "43605f62-62ec-4c12-8bd7-a95eb178258a"
      },
      "execution_count": 7,
      "outputs": [
        {
          "output_type": "stream",
          "name": "stdout",
          "text": [
            "reliefF performed best at 350 features, with 1.0 training accuracy, and 0.9833333333333334 test accuracy.\n",
            "mrmr performed best at 1500 features, with 1.0 training accuracy, and 0.9916666666666666 test accuracy.\n",
            "chi2 performed best at 3250 features, with 1.0 training accuracy, and 0.9833333333333334 test accuracy.\n",
            "pso performed best at 1192 features, with 1.0 training accuracy, and 0.9916666666666666 test accuracy.\n",
            "Full-dataset with 4800 features, with 1.0 training accuracy, and 0.9833333333333334 test accuracy.\n"
          ]
        }
      ]
    },
    {
      "cell_type": "code",
      "source": [
        "from prettytable import PrettyTable\n",
        "\n",
        "def show_results(results, label='Method'):\n",
        "    table = PrettyTable([label, 'Best K', 'Train', 'Test'])\n",
        "\n",
        "    for name, result in results.items():\n",
        "        k, train, test = list(zip(*result))\n",
        "        best_k = np.argmax(test)\n",
        "        vals = [k[best_k], train[best_k], test[best_k]]\n",
        "        row = ['%.4f' % elem if i != 0 else elem for i, elem in enumerate(vals) ]\n",
        "        table.add_row(np.concatenate([[name], row]))\n",
        "\n",
        "    k, train, test = results['mrmr'][-1]\n",
        "    vals = [k, train, test]\n",
        "    row = ['%.4f' % elem if i != 0 else elem for i, elem in enumerate(vals) ]\n",
        "    table.add_row(np.concatenate([['full'], row]))\n",
        "\n",
        "    print('\\n') # tqdm messses with table border.\n",
        "    print(table)\n",
        "\n",
        "show_results(results)"
      ],
      "metadata": {
        "colab": {
          "base_uri": "https://localhost:8080/"
        },
        "id": "OH2WH6qu8amG",
        "outputId": "72a0d9dc-0b91-4665-a51b-e9dd0aa5f100"
      },
      "execution_count": 14,
      "outputs": [
        {
          "output_type": "stream",
          "name": "stdout",
          "text": [
            "\n",
            "\n",
            "+---------+--------+--------+--------+\n",
            "|  Method | Best K | Train  |  Test  |\n",
            "+---------+--------+--------+--------+\n",
            "| reliefF |  350   | 1.0000 | 0.9833 |\n",
            "|   mrmr  |  1500  | 1.0000 | 0.9917 |\n",
            "|   chi2  |  3250  | 1.0000 | 0.9833 |\n",
            "|   pso   |  1192  | 1.0000 | 0.9917 |\n",
            "|   full  |  4800  | 1.0000 | 0.9833 |\n",
            "+---------+--------+--------+--------+\n"
          ]
        }
      ]
    }
  ],
  "metadata": {
    "colab": {
      "collapsed_sections": [],
      "machine_shape": "hm",
      "name": "Fish-2.ipynb",
      "provenance": [],
      "authorship_tag": "ABX9TyMuQCvEGKjuT2JgkdRuTI5V",
      "include_colab_link": true
    },
    "kernelspec": {
      "display_name": "Python 3",
      "name": "python3"
    },
    "language_info": {
      "name": "python"
    },
    "accelerator": "GPU"
  },
  "nbformat": 4,
  "nbformat_minor": 0
}